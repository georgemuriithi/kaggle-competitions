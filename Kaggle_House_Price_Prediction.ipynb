{
  "nbformat": 4,
  "nbformat_minor": 0,
  "metadata": {
    "hide_input": false,
    "kernelspec": {
      "display_name": "Python 3 (ipykernel)",
      "language": "python",
      "name": "python3"
    },
    "language_info": {
      "codemirror_mode": {
        "name": "ipython",
        "version": 3
      },
      "file_extension": ".py",
      "mimetype": "text/x-python",
      "name": "python",
      "nbconvert_exporter": "python",
      "pygments_lexer": "ipython3",
      "version": "3.8.3"
    },
    "colab": {
      "name": "Kaggle House Price Prediction.ipynb",
      "provenance": [],
      "collapsed_sections": []
    }
  },
  "cells": [
    {
      "cell_type": "markdown",
      "metadata": {
        "id": "ajffvGOsiiBi"
      },
      "source": [
        "Kaggle link: https://www.kaggle.com/c/house-prices-advanced-regression-techniques"
      ]
    },
    {
      "cell_type": "markdown",
      "metadata": {
        "id": "jPuWsaGSg5lD"
      },
      "source": [
        "### 1. Importing packages"
      ]
    },
    {
      "cell_type": "code",
      "metadata": {
        "tags": [],
        "id": "cp_HEm9MLNWI"
      },
      "source": [
        "import numpy as np\n",
        "import pandas as pd\n",
        "%matplotlib inline\n",
        "import matplotlib.pyplot as plt\n",
        "import seaborn as sns; sns.set()\n",
        "import warnings\n",
        "warnings.filterwarnings(action='ignore')\n",
        "\n",
        "from sklearn.linear_model import Ridge\n",
        "from sklearn.metrics import r2_score, mean_squared_error\n",
        "from sklearn.model_selection import train_test_split, cross_val_score, KFold\n",
        "\n",
        "from sklearn.ensemble import BaggingRegressor\n",
        "from sklearn.ensemble import RandomForestRegressor\n",
        "from xgboost import XGBRegressor\n",
        "from lightgbm import LGBMRegressor"
      ],
      "execution_count": null,
      "outputs": []
    },
    {
      "cell_type": "markdown",
      "metadata": {
        "id": "jPE-n_J-g-PW"
      },
      "source": [
        "### 2. Loading datasets and Feature engineering"
      ]
    },
    {
      "cell_type": "code",
      "metadata": {
        "id": "4aljstf1LNWJ",
        "colab": {
          "base_uri": "https://localhost:8080/"
        },
        "outputId": "59dbe90d-f788-4bbe-e3d4-13d861cf026d"
      },
      "source": [
        "# reading train data + exam data, then combining them for preprocessing\n",
        "XY_all = pd.read_csv('train.csv', index_col=0)\n",
        "\n",
        "Y_all = np.log(XY_all['SalePrice'])\n",
        "X_all = XY_all.drop('SalePrice', axis=1)\n",
        "X_exam = pd.read_csv('test.csv', index_col=0)\n",
        "\n",
        "X_combined0 = pd.concat([X_all, X_exam], axis=0)\n",
        "print (X_combined0.info())"
      ],
      "execution_count": null,
      "outputs": [
        {
          "output_type": "stream",
          "name": "stdout",
          "text": [
            "<class 'pandas.core.frame.DataFrame'>\n",
            "Int64Index: 2919 entries, 1 to 2919\n",
            "Data columns (total 79 columns):\n",
            " #   Column         Non-Null Count  Dtype  \n",
            "---  ------         --------------  -----  \n",
            " 0   MSSubClass     2919 non-null   int64  \n",
            " 1   MSZoning       2915 non-null   object \n",
            " 2   LotFrontage    2433 non-null   float64\n",
            " 3   LotArea        2919 non-null   int64  \n",
            " 4   Street         2919 non-null   object \n",
            " 5   Alley          198 non-null    object \n",
            " 6   LotShape       2919 non-null   object \n",
            " 7   LandContour    2919 non-null   object \n",
            " 8   Utilities      2917 non-null   object \n",
            " 9   LotConfig      2919 non-null   object \n",
            " 10  LandSlope      2919 non-null   object \n",
            " 11  Neighborhood   2919 non-null   object \n",
            " 12  Condition1     2919 non-null   object \n",
            " 13  Condition2     2919 non-null   object \n",
            " 14  BldgType       2919 non-null   object \n",
            " 15  HouseStyle     2919 non-null   object \n",
            " 16  OverallQual    2919 non-null   int64  \n",
            " 17  OverallCond    2919 non-null   int64  \n",
            " 18  YearBuilt      2919 non-null   int64  \n",
            " 19  YearRemodAdd   2919 non-null   int64  \n",
            " 20  RoofStyle      2919 non-null   object \n",
            " 21  RoofMatl       2919 non-null   object \n",
            " 22  Exterior1st    2918 non-null   object \n",
            " 23  Exterior2nd    2918 non-null   object \n",
            " 24  MasVnrType     2895 non-null   object \n",
            " 25  MasVnrArea     2896 non-null   float64\n",
            " 26  ExterQual      2919 non-null   object \n",
            " 27  ExterCond      2919 non-null   object \n",
            " 28  Foundation     2919 non-null   object \n",
            " 29  BsmtQual       2838 non-null   object \n",
            " 30  BsmtCond       2837 non-null   object \n",
            " 31  BsmtExposure   2837 non-null   object \n",
            " 32  BsmtFinType1   2840 non-null   object \n",
            " 33  BsmtFinSF1     2918 non-null   float64\n",
            " 34  BsmtFinType2   2839 non-null   object \n",
            " 35  BsmtFinSF2     2918 non-null   float64\n",
            " 36  BsmtUnfSF      2918 non-null   float64\n",
            " 37  TotalBsmtSF    2918 non-null   float64\n",
            " 38  Heating        2919 non-null   object \n",
            " 39  HeatingQC      2919 non-null   object \n",
            " 40  CentralAir     2919 non-null   object \n",
            " 41  Electrical     2918 non-null   object \n",
            " 42  1stFlrSF       2919 non-null   int64  \n",
            " 43  2ndFlrSF       2919 non-null   int64  \n",
            " 44  LowQualFinSF   2919 non-null   int64  \n",
            " 45  GrLivArea      2919 non-null   int64  \n",
            " 46  BsmtFullBath   2917 non-null   float64\n",
            " 47  BsmtHalfBath   2917 non-null   float64\n",
            " 48  FullBath       2919 non-null   int64  \n",
            " 49  HalfBath       2919 non-null   int64  \n",
            " 50  BedroomAbvGr   2919 non-null   int64  \n",
            " 51  KitchenAbvGr   2919 non-null   int64  \n",
            " 52  KitchenQual    2918 non-null   object \n",
            " 53  TotRmsAbvGrd   2919 non-null   int64  \n",
            " 54  Functional     2917 non-null   object \n",
            " 55  Fireplaces     2919 non-null   int64  \n",
            " 56  FireplaceQu    1499 non-null   object \n",
            " 57  GarageType     2762 non-null   object \n",
            " 58  GarageYrBlt    2760 non-null   float64\n",
            " 59  GarageFinish   2760 non-null   object \n",
            " 60  GarageCars     2918 non-null   float64\n",
            " 61  GarageArea     2918 non-null   float64\n",
            " 62  GarageQual     2760 non-null   object \n",
            " 63  GarageCond     2760 non-null   object \n",
            " 64  PavedDrive     2919 non-null   object \n",
            " 65  WoodDeckSF     2919 non-null   int64  \n",
            " 66  OpenPorchSF    2919 non-null   int64  \n",
            " 67  EnclosedPorch  2919 non-null   int64  \n",
            " 68  3SsnPorch      2919 non-null   int64  \n",
            " 69  ScreenPorch    2919 non-null   int64  \n",
            " 70  PoolArea       2919 non-null   int64  \n",
            " 71  PoolQC         10 non-null     object \n",
            " 72  Fence          571 non-null    object \n",
            " 73  MiscFeature    105 non-null    object \n",
            " 74  MiscVal        2919 non-null   int64  \n",
            " 75  MoSold         2919 non-null   int64  \n",
            " 76  YrSold         2919 non-null   int64  \n",
            " 77  SaleType       2918 non-null   object \n",
            " 78  SaleCondition  2919 non-null   object \n",
            "dtypes: float64(11), int64(25), object(43)\n",
            "memory usage: 1.8+ MB\n",
            "None\n"
          ]
        }
      ]
    },
    {
      "cell_type": "code",
      "metadata": {
        "id": "3fD4M9MiLNWK",
        "colab": {
          "base_uri": "https://localhost:8080/"
        },
        "outputId": "0caff7c3-ca6d-47c5-a255-265deee8cf0c"
      },
      "source": [
        "# removing columns with missing values more than 20%\n",
        "X_null = X_combined0.isnull().sum(axis=0)\n",
        "max_na = X_combined0.shape[0] * 0.2\n",
        "col = [c for c in X_combined0.columns if X_null[c] <= max_na]\n",
        "X_combined1 = X_combined0[col]\n",
        "print (X_combined1.info())"
      ],
      "execution_count": null,
      "outputs": [
        {
          "output_type": "stream",
          "name": "stdout",
          "text": [
            "<class 'pandas.core.frame.DataFrame'>\n",
            "Int64Index: 2919 entries, 1 to 2919\n",
            "Data columns (total 74 columns):\n",
            " #   Column         Non-Null Count  Dtype  \n",
            "---  ------         --------------  -----  \n",
            " 0   MSSubClass     2919 non-null   int64  \n",
            " 1   MSZoning       2915 non-null   object \n",
            " 2   LotFrontage    2433 non-null   float64\n",
            " 3   LotArea        2919 non-null   int64  \n",
            " 4   Street         2919 non-null   object \n",
            " 5   LotShape       2919 non-null   object \n",
            " 6   LandContour    2919 non-null   object \n",
            " 7   Utilities      2917 non-null   object \n",
            " 8   LotConfig      2919 non-null   object \n",
            " 9   LandSlope      2919 non-null   object \n",
            " 10  Neighborhood   2919 non-null   object \n",
            " 11  Condition1     2919 non-null   object \n",
            " 12  Condition2     2919 non-null   object \n",
            " 13  BldgType       2919 non-null   object \n",
            " 14  HouseStyle     2919 non-null   object \n",
            " 15  OverallQual    2919 non-null   int64  \n",
            " 16  OverallCond    2919 non-null   int64  \n",
            " 17  YearBuilt      2919 non-null   int64  \n",
            " 18  YearRemodAdd   2919 non-null   int64  \n",
            " 19  RoofStyle      2919 non-null   object \n",
            " 20  RoofMatl       2919 non-null   object \n",
            " 21  Exterior1st    2918 non-null   object \n",
            " 22  Exterior2nd    2918 non-null   object \n",
            " 23  MasVnrType     2895 non-null   object \n",
            " 24  MasVnrArea     2896 non-null   float64\n",
            " 25  ExterQual      2919 non-null   object \n",
            " 26  ExterCond      2919 non-null   object \n",
            " 27  Foundation     2919 non-null   object \n",
            " 28  BsmtQual       2838 non-null   object \n",
            " 29  BsmtCond       2837 non-null   object \n",
            " 30  BsmtExposure   2837 non-null   object \n",
            " 31  BsmtFinType1   2840 non-null   object \n",
            " 32  BsmtFinSF1     2918 non-null   float64\n",
            " 33  BsmtFinType2   2839 non-null   object \n",
            " 34  BsmtFinSF2     2918 non-null   float64\n",
            " 35  BsmtUnfSF      2918 non-null   float64\n",
            " 36  TotalBsmtSF    2918 non-null   float64\n",
            " 37  Heating        2919 non-null   object \n",
            " 38  HeatingQC      2919 non-null   object \n",
            " 39  CentralAir     2919 non-null   object \n",
            " 40  Electrical     2918 non-null   object \n",
            " 41  1stFlrSF       2919 non-null   int64  \n",
            " 42  2ndFlrSF       2919 non-null   int64  \n",
            " 43  LowQualFinSF   2919 non-null   int64  \n",
            " 44  GrLivArea      2919 non-null   int64  \n",
            " 45  BsmtFullBath   2917 non-null   float64\n",
            " 46  BsmtHalfBath   2917 non-null   float64\n",
            " 47  FullBath       2919 non-null   int64  \n",
            " 48  HalfBath       2919 non-null   int64  \n",
            " 49  BedroomAbvGr   2919 non-null   int64  \n",
            " 50  KitchenAbvGr   2919 non-null   int64  \n",
            " 51  KitchenQual    2918 non-null   object \n",
            " 52  TotRmsAbvGrd   2919 non-null   int64  \n",
            " 53  Functional     2917 non-null   object \n",
            " 54  Fireplaces     2919 non-null   int64  \n",
            " 55  GarageType     2762 non-null   object \n",
            " 56  GarageYrBlt    2760 non-null   float64\n",
            " 57  GarageFinish   2760 non-null   object \n",
            " 58  GarageCars     2918 non-null   float64\n",
            " 59  GarageArea     2918 non-null   float64\n",
            " 60  GarageQual     2760 non-null   object \n",
            " 61  GarageCond     2760 non-null   object \n",
            " 62  PavedDrive     2919 non-null   object \n",
            " 63  WoodDeckSF     2919 non-null   int64  \n",
            " 64  OpenPorchSF    2919 non-null   int64  \n",
            " 65  EnclosedPorch  2919 non-null   int64  \n",
            " 66  3SsnPorch      2919 non-null   int64  \n",
            " 67  ScreenPorch    2919 non-null   int64  \n",
            " 68  PoolArea       2919 non-null   int64  \n",
            " 69  MiscVal        2919 non-null   int64  \n",
            " 70  MoSold         2919 non-null   int64  \n",
            " 71  YrSold         2919 non-null   int64  \n",
            " 72  SaleType       2918 non-null   object \n",
            " 73  SaleCondition  2919 non-null   object \n",
            "dtypes: float64(11), int64(25), object(38)\n",
            "memory usage: 1.7+ MB\n",
            "None\n"
          ]
        }
      ]
    },
    {
      "cell_type": "code",
      "metadata": {
        "id": "2SX8EYKwLNWL",
        "colab": {
          "base_uri": "https://localhost:8080/"
        },
        "outputId": "50c06d29-7f87-4340-f61d-c1919c02341e"
      },
      "source": [
        "# some string columns are categorical, but some are ordinal\n",
        "num_cols = X_combined1.select_dtypes(include=np.number).columns.tolist()\n",
        "str_cols = X_combined1.select_dtypes(include='object').columns.tolist()\n",
        "grade_cols = ['ExterQual', 'ExterCond', 'BsmtQual', 'BsmtCond', 'HeatingQC', \n",
        "            'KitchenQual', 'FireplaceQu', 'GarageQual', 'GarageCond', 'PoolQC']\n",
        "cat_cols = str_cols.copy()\n",
        "ord_cols = []\n",
        "for c in grade_cols:\n",
        "    if c in cat_cols:\n",
        "        cat_cols.remove(c)\n",
        "        ord_cols.append(c)\n",
        "        \n",
        "print (\"Cardinal columns = \", len(num_cols))\n",
        "print (\"Categorical columns = \", len(cat_cols))\n",
        "print (\"Ordinal columns = \", ord_cols)"
      ],
      "execution_count": null,
      "outputs": [
        {
          "output_type": "stream",
          "name": "stdout",
          "text": [
            "Cardinal columns =  36\n",
            "Categorical columns =  30\n",
            "Ordinal columns =  ['ExterQual', 'ExterCond', 'BsmtQual', 'BsmtCond', 'HeatingQC', 'KitchenQual', 'GarageQual', 'GarageCond']\n"
          ]
        }
      ]
    },
    {
      "cell_type": "code",
      "metadata": {
        "id": "-wwT_XQnLNWM",
        "colab": {
          "base_uri": "https://localhost:8080/"
        },
        "outputId": "070b314d-d220-4f35-fba8-4c3c099c21ca"
      },
      "source": [
        "# imputation of cardinal (numeric) columns and categorical columns\n",
        "from sklearn.impute import SimpleImputer\n",
        "\n",
        "# imputation of cardinal (numeric) columns\n",
        "num_imputer = SimpleImputer(strategy='mean')\n",
        "X_combined2 = X_combined1.copy()\n",
        "X_combined2[num_cols] = num_imputer.fit_transform(X_combined1[num_cols])\n",
        "\n",
        "# imputation of categorical columns\n",
        "str_imputer = SimpleImputer(strategy='most_frequent')\n",
        "X_combined2[cat_cols] = str_imputer.fit_transform(X_combined1[cat_cols])\n",
        "\n",
        "# adding an interaction column\n",
        "X_combined2['GrLivArea * OverallQual'] = X_combined2['GrLivArea'] * X_combined2['OverallQual']\n",
        "print (X_combined2.info())"
      ],
      "execution_count": null,
      "outputs": [
        {
          "output_type": "stream",
          "name": "stdout",
          "text": [
            "<class 'pandas.core.frame.DataFrame'>\n",
            "Int64Index: 2919 entries, 1 to 2919\n",
            "Data columns (total 75 columns):\n",
            " #   Column                   Non-Null Count  Dtype  \n",
            "---  ------                   --------------  -----  \n",
            " 0   MSSubClass               2919 non-null   float64\n",
            " 1   MSZoning                 2919 non-null   object \n",
            " 2   LotFrontage              2919 non-null   float64\n",
            " 3   LotArea                  2919 non-null   float64\n",
            " 4   Street                   2919 non-null   object \n",
            " 5   LotShape                 2919 non-null   object \n",
            " 6   LandContour              2919 non-null   object \n",
            " 7   Utilities                2919 non-null   object \n",
            " 8   LotConfig                2919 non-null   object \n",
            " 9   LandSlope                2919 non-null   object \n",
            " 10  Neighborhood             2919 non-null   object \n",
            " 11  Condition1               2919 non-null   object \n",
            " 12  Condition2               2919 non-null   object \n",
            " 13  BldgType                 2919 non-null   object \n",
            " 14  HouseStyle               2919 non-null   object \n",
            " 15  OverallQual              2919 non-null   float64\n",
            " 16  OverallCond              2919 non-null   float64\n",
            " 17  YearBuilt                2919 non-null   float64\n",
            " 18  YearRemodAdd             2919 non-null   float64\n",
            " 19  RoofStyle                2919 non-null   object \n",
            " 20  RoofMatl                 2919 non-null   object \n",
            " 21  Exterior1st              2919 non-null   object \n",
            " 22  Exterior2nd              2919 non-null   object \n",
            " 23  MasVnrType               2919 non-null   object \n",
            " 24  MasVnrArea               2919 non-null   float64\n",
            " 25  ExterQual                2919 non-null   object \n",
            " 26  ExterCond                2919 non-null   object \n",
            " 27  Foundation               2919 non-null   object \n",
            " 28  BsmtQual                 2838 non-null   object \n",
            " 29  BsmtCond                 2837 non-null   object \n",
            " 30  BsmtExposure             2919 non-null   object \n",
            " 31  BsmtFinType1             2919 non-null   object \n",
            " 32  BsmtFinSF1               2919 non-null   float64\n",
            " 33  BsmtFinType2             2919 non-null   object \n",
            " 34  BsmtFinSF2               2919 non-null   float64\n",
            " 35  BsmtUnfSF                2919 non-null   float64\n",
            " 36  TotalBsmtSF              2919 non-null   float64\n",
            " 37  Heating                  2919 non-null   object \n",
            " 38  HeatingQC                2919 non-null   object \n",
            " 39  CentralAir               2919 non-null   object \n",
            " 40  Electrical               2919 non-null   object \n",
            " 41  1stFlrSF                 2919 non-null   float64\n",
            " 42  2ndFlrSF                 2919 non-null   float64\n",
            " 43  LowQualFinSF             2919 non-null   float64\n",
            " 44  GrLivArea                2919 non-null   float64\n",
            " 45  BsmtFullBath             2919 non-null   float64\n",
            " 46  BsmtHalfBath             2919 non-null   float64\n",
            " 47  FullBath                 2919 non-null   float64\n",
            " 48  HalfBath                 2919 non-null   float64\n",
            " 49  BedroomAbvGr             2919 non-null   float64\n",
            " 50  KitchenAbvGr             2919 non-null   float64\n",
            " 51  KitchenQual              2918 non-null   object \n",
            " 52  TotRmsAbvGrd             2919 non-null   float64\n",
            " 53  Functional               2919 non-null   object \n",
            " 54  Fireplaces               2919 non-null   float64\n",
            " 55  GarageType               2919 non-null   object \n",
            " 56  GarageYrBlt              2919 non-null   float64\n",
            " 57  GarageFinish             2919 non-null   object \n",
            " 58  GarageCars               2919 non-null   float64\n",
            " 59  GarageArea               2919 non-null   float64\n",
            " 60  GarageQual               2760 non-null   object \n",
            " 61  GarageCond               2760 non-null   object \n",
            " 62  PavedDrive               2919 non-null   object \n",
            " 63  WoodDeckSF               2919 non-null   float64\n",
            " 64  OpenPorchSF              2919 non-null   float64\n",
            " 65  EnclosedPorch            2919 non-null   float64\n",
            " 66  3SsnPorch                2919 non-null   float64\n",
            " 67  ScreenPorch              2919 non-null   float64\n",
            " 68  PoolArea                 2919 non-null   float64\n",
            " 69  MiscVal                  2919 non-null   float64\n",
            " 70  MoSold                   2919 non-null   float64\n",
            " 71  YrSold                   2919 non-null   float64\n",
            " 72  SaleType                 2919 non-null   object \n",
            " 73  SaleCondition            2919 non-null   object \n",
            " 74  GrLivArea * OverallQual  2919 non-null   float64\n",
            "dtypes: float64(37), object(38)\n",
            "memory usage: 1.7+ MB\n",
            "None\n"
          ]
        }
      ]
    },
    {
      "cell_type": "code",
      "metadata": {
        "id": "hgaY7ljJLNWN",
        "colab": {
          "base_uri": "https://localhost:8080/"
        },
        "outputId": "2c78b9f7-02ef-41e6-939e-e21cd33d9c0a"
      },
      "source": [
        "# imputation of ordinal columns\n",
        "ord2int_map = {'Ex':5, 'Gd':4, 'TA':3, 'Fa':2, 'Po':1, 'NA':0, np.nan:np.nan}\n",
        "\n",
        "for col in ord_cols:\n",
        "    X_combined2[col] = X_combined2[col].map(ord2int_map)\n",
        "\n",
        "ord_imputer = SimpleImputer(strategy='mean')\n",
        "X_combined3 = X_combined2.copy()\n",
        "X_combined3[ord_cols] = ord_imputer.fit_transform(X_combined2[ord_cols])\n",
        "\n",
        "X_combined3.info()"
      ],
      "execution_count": null,
      "outputs": [
        {
          "output_type": "stream",
          "name": "stdout",
          "text": [
            "<class 'pandas.core.frame.DataFrame'>\n",
            "Int64Index: 2919 entries, 1 to 2919\n",
            "Data columns (total 75 columns):\n",
            " #   Column                   Non-Null Count  Dtype  \n",
            "---  ------                   --------------  -----  \n",
            " 0   MSSubClass               2919 non-null   float64\n",
            " 1   MSZoning                 2919 non-null   object \n",
            " 2   LotFrontage              2919 non-null   float64\n",
            " 3   LotArea                  2919 non-null   float64\n",
            " 4   Street                   2919 non-null   object \n",
            " 5   LotShape                 2919 non-null   object \n",
            " 6   LandContour              2919 non-null   object \n",
            " 7   Utilities                2919 non-null   object \n",
            " 8   LotConfig                2919 non-null   object \n",
            " 9   LandSlope                2919 non-null   object \n",
            " 10  Neighborhood             2919 non-null   object \n",
            " 11  Condition1               2919 non-null   object \n",
            " 12  Condition2               2919 non-null   object \n",
            " 13  BldgType                 2919 non-null   object \n",
            " 14  HouseStyle               2919 non-null   object \n",
            " 15  OverallQual              2919 non-null   float64\n",
            " 16  OverallCond              2919 non-null   float64\n",
            " 17  YearBuilt                2919 non-null   float64\n",
            " 18  YearRemodAdd             2919 non-null   float64\n",
            " 19  RoofStyle                2919 non-null   object \n",
            " 20  RoofMatl                 2919 non-null   object \n",
            " 21  Exterior1st              2919 non-null   object \n",
            " 22  Exterior2nd              2919 non-null   object \n",
            " 23  MasVnrType               2919 non-null   object \n",
            " 24  MasVnrArea               2919 non-null   float64\n",
            " 25  ExterQual                2919 non-null   float64\n",
            " 26  ExterCond                2919 non-null   float64\n",
            " 27  Foundation               2919 non-null   object \n",
            " 28  BsmtQual                 2919 non-null   float64\n",
            " 29  BsmtCond                 2919 non-null   float64\n",
            " 30  BsmtExposure             2919 non-null   object \n",
            " 31  BsmtFinType1             2919 non-null   object \n",
            " 32  BsmtFinSF1               2919 non-null   float64\n",
            " 33  BsmtFinType2             2919 non-null   object \n",
            " 34  BsmtFinSF2               2919 non-null   float64\n",
            " 35  BsmtUnfSF                2919 non-null   float64\n",
            " 36  TotalBsmtSF              2919 non-null   float64\n",
            " 37  Heating                  2919 non-null   object \n",
            " 38  HeatingQC                2919 non-null   float64\n",
            " 39  CentralAir               2919 non-null   object \n",
            " 40  Electrical               2919 non-null   object \n",
            " 41  1stFlrSF                 2919 non-null   float64\n",
            " 42  2ndFlrSF                 2919 non-null   float64\n",
            " 43  LowQualFinSF             2919 non-null   float64\n",
            " 44  GrLivArea                2919 non-null   float64\n",
            " 45  BsmtFullBath             2919 non-null   float64\n",
            " 46  BsmtHalfBath             2919 non-null   float64\n",
            " 47  FullBath                 2919 non-null   float64\n",
            " 48  HalfBath                 2919 non-null   float64\n",
            " 49  BedroomAbvGr             2919 non-null   float64\n",
            " 50  KitchenAbvGr             2919 non-null   float64\n",
            " 51  KitchenQual              2919 non-null   float64\n",
            " 52  TotRmsAbvGrd             2919 non-null   float64\n",
            " 53  Functional               2919 non-null   object \n",
            " 54  Fireplaces               2919 non-null   float64\n",
            " 55  GarageType               2919 non-null   object \n",
            " 56  GarageYrBlt              2919 non-null   float64\n",
            " 57  GarageFinish             2919 non-null   object \n",
            " 58  GarageCars               2919 non-null   float64\n",
            " 59  GarageArea               2919 non-null   float64\n",
            " 60  GarageQual               2919 non-null   float64\n",
            " 61  GarageCond               2919 non-null   float64\n",
            " 62  PavedDrive               2919 non-null   object \n",
            " 63  WoodDeckSF               2919 non-null   float64\n",
            " 64  OpenPorchSF              2919 non-null   float64\n",
            " 65  EnclosedPorch            2919 non-null   float64\n",
            " 66  3SsnPorch                2919 non-null   float64\n",
            " 67  ScreenPorch              2919 non-null   float64\n",
            " 68  PoolArea                 2919 non-null   float64\n",
            " 69  MiscVal                  2919 non-null   float64\n",
            " 70  MoSold                   2919 non-null   float64\n",
            " 71  YrSold                   2919 non-null   float64\n",
            " 72  SaleType                 2919 non-null   object \n",
            " 73  SaleCondition            2919 non-null   object \n",
            " 74  GrLivArea * OverallQual  2919 non-null   float64\n",
            "dtypes: float64(45), object(30)\n",
            "memory usage: 1.7+ MB\n"
          ]
        }
      ]
    },
    {
      "cell_type": "markdown",
      "metadata": {
        "id": "9MHrXbNoht9p"
      },
      "source": [
        "### 3. Ridge regression"
      ]
    },
    {
      "cell_type": "code",
      "metadata": {
        "id": "j2dakaJ1LNWO"
      },
      "source": [
        "# extracting exam data from pre-processed combined data\n",
        "def split_train_exam(X_combined, n):\n",
        "    X_task = X_combined.iloc[:n,:]\n",
        "    X_exam = X_combined.iloc[n:,:]\n",
        "    return X_task, X_exam\n",
        "\n",
        "# computing R^2 & RMSE and printing them\n",
        "def model_perf(model, X, Y, prefix=''):\n",
        "    Yhat = model.predict(X)\n",
        "    r2 = r2_score(Y, Yhat)\n",
        "    rmse = mean_squared_error(Y, Yhat, squared=False)\n",
        "    print (f'{prefix} R^2 score = {r2:.3f}, RMSE = {rmse:.4f}')\n",
        "\n",
        "def model_fit_perf(model, X_all, Y_all, prefix=''):\n",
        "    X_trn, X_val, Y_trn, Y_val = train_test_split(X_all, Y_all, test_size=0.2, random_state=0)\n",
        "    model.fit(X_trn, Y_trn)\n",
        "    print (prefix)\n",
        "    model_perf(model, X_trn, Y_trn, '  Training  ')\n",
        "    model_perf(model, X_val, Y_val, '  Validation')\n",
        "    kfold = KFold(n_splits=5, shuffle=True, random_state=0)\n",
        "    s = cross_val_score(model, X_all, Y_all, cv=kfold)\n",
        "    print (f'  Cross val. R^2 score mean = {s.mean():.3f}, std = {s.std():.3f}')"
      ],
      "execution_count": null,
      "outputs": []
    },
    {
      "cell_type": "code",
      "metadata": {
        "id": "OsSWW1SuLNWP",
        "colab": {
          "base_uri": "https://localhost:8080/"
        },
        "outputId": "243a91c8-0081-4826-8a7c-14b109b8dec4"
      },
      "source": [
        "# converting categorical var. to dummy var.\n",
        "X_combined4 = pd.get_dummies(X_combined3)\n",
        "\n",
        "# extracting exam data from pre-processed combined data\n",
        "X_task1, X_exam1 = split_train_exam(X_combined4, X_all.shape[0])\n",
        "\n",
        "# ridge regression\n",
        "# model_fit_perf : fit, training performance, val. performance, cross val. performance  \n",
        "ridge = Ridge()\n",
        "model_fit_perf(ridge, X_task1, Y_all, \"Ridge\")"
      ],
      "execution_count": null,
      "outputs": [
        {
          "output_type": "stream",
          "name": "stdout",
          "text": [
            "Ridge\n",
            "  Training   R^2 score = 0.946, RMSE = 0.0936\n",
            "  Validation R^2 score = 0.767, RMSE = 0.1876\n",
            "  Cross val. R^2 score mean = 0.868, std = 0.053\n"
          ]
        }
      ]
    },
    {
      "cell_type": "markdown",
      "metadata": {
        "id": "p2Mibcdth6JK"
      },
      "source": [
        "### 4. Advanced tree based models"
      ]
    },
    {
      "cell_type": "code",
      "metadata": {
        "id": "riUTqndwLNWQ",
        "colab": {
          "base_uri": "https://localhost:8080/"
        },
        "outputId": "8df5346e-5915-4b12-f993-cd6f1eb9b64b"
      },
      "source": [
        "# advanced tree based models\n",
        "bagging = BaggingRegressor(n_estimators=50)\n",
        "model_fit_perf(bagging, X_task1, Y_all, \"Bagging\")\n",
        "\n",
        "random_forest = RandomForestRegressor(n_estimators=50)\n",
        "model_fit_perf(random_forest, X_task1, Y_all, \"Random Forest\")\n",
        "\n",
        "xgb = XGBRegressor(max_depth=5, objective=\"reg:squarederror\")\n",
        "model_fit_perf(xgb, X_task1, Y_all, \"XGBoost\")\n",
        "\n",
        "lgbm = LGBMRegressor()\n",
        "model_fit_perf(lgbm, X_task1, Y_all, \"LightGBM\")"
      ],
      "execution_count": null,
      "outputs": [
        {
          "output_type": "stream",
          "name": "stdout",
          "text": [
            "Bagging\n",
            "  Training   R^2 score = 0.982, RMSE = 0.0546\n",
            "  Validation R^2 score = 0.872, RMSE = 0.1391\n",
            "  Cross val. R^2 score mean = 0.874, std = 0.016\n",
            "Random Forest\n",
            "  Training   R^2 score = 0.983, RMSE = 0.0530\n",
            "  Validation R^2 score = 0.874, RMSE = 0.1383\n",
            "  Cross val. R^2 score mean = 0.873, std = 0.018\n",
            "XGBoost\n",
            "  Training   R^2 score = 0.982, RMSE = 0.0541\n",
            "  Validation R^2 score = 0.881, RMSE = 0.1341\n",
            "  Cross val. R^2 score mean = 0.898, std = 0.015\n",
            "LightGBM\n",
            "  Training   R^2 score = 0.988, RMSE = 0.0442\n",
            "  Validation R^2 score = 0.876, RMSE = 0.1371\n",
            "  Cross val. R^2 score mean = 0.890, std = 0.020\n"
          ]
        }
      ]
    },
    {
      "cell_type": "code",
      "metadata": {
        "id": "SHGDxzftLNWQ",
        "colab": {
          "base_uri": "https://localhost:8080/"
        },
        "outputId": "0244f1dc-6a1a-4210-f429-a3cc65dd6459"
      },
      "source": [
        "# heterogeneous ensembles\n",
        "from sklearn.ensemble import VotingRegressor\n",
        "from sklearn.ensemble import StackingRegressor\n",
        "\n",
        "estms = [('r', ridge), ('b', bagging), ('rf', random_forest), \n",
        "        ('xgb', xgb), ('lgbm', lgbm)]\n",
        "\n",
        "voting = VotingRegressor(estimators=estms)\n",
        "model_fit_perf(voting, X_task1, Y_all, \"Voting(mean) Ensemble\")\n",
        "\n",
        "stacking = StackingRegressor(estimators=estms, final_estimator=Ridge())\n",
        "model_fit_perf(stacking, X_task1, Y_all, \"Stacking Ensemble\")"
      ],
      "execution_count": null,
      "outputs": [
        {
          "output_type": "stream",
          "name": "stdout",
          "text": [
            "Voting(mean) Ensemble\n",
            "  Training   R^2 score = 0.983, RMSE = 0.0521\n",
            "  Validation R^2 score = 0.881, RMSE = 0.1344\n",
            "  Cross val. R^2 score mean = 0.900, std = 0.020\n",
            "Stacking Ensemble\n",
            "  Training   R^2 score = 0.976, RMSE = 0.0619\n",
            "  Validation R^2 score = 0.866, RMSE = 0.1425\n",
            "  Cross val. R^2 score mean = 0.903, std = 0.024\n"
          ]
        }
      ]
    },
    {
      "cell_type": "markdown",
      "metadata": {
        "id": "-HohrDNHiD4h"
      },
      "source": [
        "### 5. Results"
      ]
    },
    {
      "cell_type": "code",
      "metadata": {
        "tags": [],
        "id": "f1mxn-QSLNWR"
      },
      "source": [
        "sale_price_pred = np.exp(voting.predict(X_exam1))\n",
        "\n",
        "submission_df = pd.read_csv('sample_submission.csv', index_col=0)\n",
        "submission_df['SalePrice'] = sale_price_pred\n",
        "\n",
        "submission_df.to_csv('mysub.csv')"
      ],
      "execution_count": null,
      "outputs": []
    },
    {
      "cell_type": "markdown",
      "metadata": {
        "id": "TRwHnlF0w1hp"
      },
      "source": [
        "![image.png](data:image/png;base64,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)"
      ]
    },
    {
      "cell_type": "code",
      "metadata": {
        "id": "p_1a7SS7Wxpf"
      },
      "source": [
        ""
      ],
      "execution_count": null,
      "outputs": []
    }
  ]
}