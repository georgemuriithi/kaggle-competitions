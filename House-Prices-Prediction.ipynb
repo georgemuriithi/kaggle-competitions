{
  "nbformat": 4,
  "nbformat_minor": 0,
  "metadata": {
    "hide_input": false,
    "kernelspec": {
      "display_name": "Python 3 (ipykernel)",
      "language": "python",
      "name": "python3"
    },
    "language_info": {
      "codemirror_mode": {
        "name": "ipython",
        "version": 3
      },
      "file_extension": ".py",
      "mimetype": "text/x-python",
      "name": "python",
      "nbconvert_exporter": "python",
      "pygments_lexer": "ipython3",
      "version": "3.8.3"
    },
    "colab": {
      "name": "House-Prices-Prediction.ipynb",
      "provenance": [],
      "collapsed_sections": [],
      "toc_visible": true
    }
  },
  "cells": [
    {
      "cell_type": "markdown",
      "metadata": {
        "id": "jPuWsaGSg5lD"
      },
      "source": [
        "### 1. Importing packages"
      ]
    },
    {
      "cell_type": "code",
      "metadata": {
        "tags": [],
        "id": "cp_HEm9MLNWI"
      },
      "source": [
        "import pandas as pd\n",
        "import numpy as np\n",
        "import warnings\n",
        "warnings.filterwarnings(action='ignore')"
      ],
      "execution_count": null,
      "outputs": []
    },
    {
      "cell_type": "code",
      "source": [
        "from sklearn.impute import SimpleImputer\n",
        "from sklearn.model_selection import train_test_split, KFold, cross_val_score\n",
        "from sklearn.metrics import r2_score, mean_squared_log_error\n",
        "from sklearn.linear_model import Ridge\n",
        "from sklearn.ensemble import BaggingRegressor, RandomForestRegressor, VotingRegressor, StackingRegressor\n",
        "from xgboost import XGBRegressor\n",
        "from lightgbm import LGBMRegressor"
      ],
      "metadata": {
        "id": "NObn0YPEM5fc"
      },
      "execution_count": null,
      "outputs": []
    },
    {
      "cell_type": "markdown",
      "metadata": {
        "id": "jPE-n_J-g-PW"
      },
      "source": [
        "### 2. Loading datasets"
      ]
    },
    {
      "cell_type": "code",
      "metadata": {
        "id": "4aljstf1LNWJ",
        "colab": {
          "base_uri": "https://localhost:8080/"
        },
        "outputId": "8724918a-b807-47dc-9a3b-9fd0af75e183"
      },
      "source": [
        "Xy_train = pd.read_csv('train.csv', index_col=0)\n",
        "\n",
        "# splitting features and response in train dataset\n",
        "y_train = np.log(Xy_train['SalePrice'])\n",
        "X_train = Xy_train.drop('SalePrice', axis=1)\n",
        "\n",
        "X_test = pd.read_csv('test.csv', index_col=0)\n",
        "\n",
        "# combining train and test features\n",
        "X_combined0 = pd.concat([X_train, X_test], axis=0)\n",
        "X_combined0.shape"
      ],
      "execution_count": null,
      "outputs": [
        {
          "output_type": "execute_result",
          "data": {
            "text/plain": [
              "(2919, 79)"
            ]
          },
          "metadata": {},
          "execution_count": 3
        }
      ]
    },
    {
      "cell_type": "markdown",
      "source": [
        "### 3. Feature engineering"
      ],
      "metadata": {
        "id": "L0mBicoFNg3S"
      }
    },
    {
      "cell_type": "code",
      "metadata": {
        "id": "3fD4M9MiLNWK",
        "colab": {
          "base_uri": "https://localhost:8080/"
        },
        "outputId": "d34867e5-888d-4c09-b3db-78c613afa573"
      },
      "source": [
        "# removing columns with missing values more than 20%\n",
        "X_null = X_combined0.isnull().sum(axis=0)\n",
        "max_na = X_combined0.shape[0] * 0.2\n",
        "\n",
        "cols = [col for col in X_combined0.columns if X_null[col] <= max_na]\n",
        "X_combined1 = X_combined0[cols]\n",
        "X_combined1.shape"
      ],
      "execution_count": null,
      "outputs": [
        {
          "output_type": "execute_result",
          "data": {
            "text/plain": [
              "(2919, 74)"
            ]
          },
          "metadata": {},
          "execution_count": 4
        }
      ]
    },
    {
      "cell_type": "code",
      "source": [
        "X_combined1.info()"
      ],
      "metadata": {
        "colab": {
          "base_uri": "https://localhost:8080/"
        },
        "id": "vNXvMEXTOxI_",
        "outputId": "a253779f-3930-4e74-8ff4-58855117b608"
      },
      "execution_count": null,
      "outputs": [
        {
          "output_type": "stream",
          "name": "stdout",
          "text": [
            "<class 'pandas.core.frame.DataFrame'>\n",
            "Int64Index: 2919 entries, 1 to 2919\n",
            "Data columns (total 74 columns):\n",
            " #   Column         Non-Null Count  Dtype  \n",
            "---  ------         --------------  -----  \n",
            " 0   MSSubClass     2919 non-null   int64  \n",
            " 1   MSZoning       2915 non-null   object \n",
            " 2   LotFrontage    2433 non-null   float64\n",
            " 3   LotArea        2919 non-null   int64  \n",
            " 4   Street         2919 non-null   object \n",
            " 5   LotShape       2919 non-null   object \n",
            " 6   LandContour    2919 non-null   object \n",
            " 7   Utilities      2917 non-null   object \n",
            " 8   LotConfig      2919 non-null   object \n",
            " 9   LandSlope      2919 non-null   object \n",
            " 10  Neighborhood   2919 non-null   object \n",
            " 11  Condition1     2919 non-null   object \n",
            " 12  Condition2     2919 non-null   object \n",
            " 13  BldgType       2919 non-null   object \n",
            " 14  HouseStyle     2919 non-null   object \n",
            " 15  OverallQual    2919 non-null   int64  \n",
            " 16  OverallCond    2919 non-null   int64  \n",
            " 17  YearBuilt      2919 non-null   int64  \n",
            " 18  YearRemodAdd   2919 non-null   int64  \n",
            " 19  RoofStyle      2919 non-null   object \n",
            " 20  RoofMatl       2919 non-null   object \n",
            " 21  Exterior1st    2918 non-null   object \n",
            " 22  Exterior2nd    2918 non-null   object \n",
            " 23  MasVnrType     2895 non-null   object \n",
            " 24  MasVnrArea     2896 non-null   float64\n",
            " 25  ExterQual      2919 non-null   object \n",
            " 26  ExterCond      2919 non-null   object \n",
            " 27  Foundation     2919 non-null   object \n",
            " 28  BsmtQual       2838 non-null   object \n",
            " 29  BsmtCond       2837 non-null   object \n",
            " 30  BsmtExposure   2837 non-null   object \n",
            " 31  BsmtFinType1   2840 non-null   object \n",
            " 32  BsmtFinSF1     2918 non-null   float64\n",
            " 33  BsmtFinType2   2839 non-null   object \n",
            " 34  BsmtFinSF2     2918 non-null   float64\n",
            " 35  BsmtUnfSF      2918 non-null   float64\n",
            " 36  TotalBsmtSF    2918 non-null   float64\n",
            " 37  Heating        2919 non-null   object \n",
            " 38  HeatingQC      2919 non-null   object \n",
            " 39  CentralAir     2919 non-null   object \n",
            " 40  Electrical     2918 non-null   object \n",
            " 41  1stFlrSF       2919 non-null   int64  \n",
            " 42  2ndFlrSF       2919 non-null   int64  \n",
            " 43  LowQualFinSF   2919 non-null   int64  \n",
            " 44  GrLivArea      2919 non-null   int64  \n",
            " 45  BsmtFullBath   2917 non-null   float64\n",
            " 46  BsmtHalfBath   2917 non-null   float64\n",
            " 47  FullBath       2919 non-null   int64  \n",
            " 48  HalfBath       2919 non-null   int64  \n",
            " 49  BedroomAbvGr   2919 non-null   int64  \n",
            " 50  KitchenAbvGr   2919 non-null   int64  \n",
            " 51  KitchenQual    2918 non-null   object \n",
            " 52  TotRmsAbvGrd   2919 non-null   int64  \n",
            " 53  Functional     2917 non-null   object \n",
            " 54  Fireplaces     2919 non-null   int64  \n",
            " 55  GarageType     2762 non-null   object \n",
            " 56  GarageYrBlt    2760 non-null   float64\n",
            " 57  GarageFinish   2760 non-null   object \n",
            " 58  GarageCars     2918 non-null   float64\n",
            " 59  GarageArea     2918 non-null   float64\n",
            " 60  GarageQual     2760 non-null   object \n",
            " 61  GarageCond     2760 non-null   object \n",
            " 62  PavedDrive     2919 non-null   object \n",
            " 63  WoodDeckSF     2919 non-null   int64  \n",
            " 64  OpenPorchSF    2919 non-null   int64  \n",
            " 65  EnclosedPorch  2919 non-null   int64  \n",
            " 66  3SsnPorch      2919 non-null   int64  \n",
            " 67  ScreenPorch    2919 non-null   int64  \n",
            " 68  PoolArea       2919 non-null   int64  \n",
            " 69  MiscVal        2919 non-null   int64  \n",
            " 70  MoSold         2919 non-null   int64  \n",
            " 71  YrSold         2919 non-null   int64  \n",
            " 72  SaleType       2918 non-null   object \n",
            " 73  SaleCondition  2919 non-null   object \n",
            "dtypes: float64(11), int64(25), object(38)\n",
            "memory usage: 1.7+ MB\n"
          ]
        }
      ]
    },
    {
      "cell_type": "code",
      "metadata": {
        "id": "2SX8EYKwLNWL",
        "colab": {
          "base_uri": "https://localhost:8080/"
        },
        "outputId": "2f1533eb-3e4a-4f89-c0e9-4adeb3e6ab99"
      },
      "source": [
        "# getting no. of cardinal (numeric) columns, categorical columns and ordinal columns\n",
        "num_cols = X_combined1.select_dtypes(include=np.number).columns.tolist()\n",
        "cat_cols = X_combined1.select_dtypes(include='object').columns.tolist()\n",
        "\n",
        "grade_cols = ['ExterQual', 'ExterCond', 'BsmtQual', 'BsmtCond', 'HeatingQC', \n",
        "              'KitchenQual', 'FireplaceQu', 'GarageQual', 'GarageCond', 'PoolQC']\n",
        "ord_cols = []\n",
        "for col in grade_cols:\n",
        "    if col in cat_cols:\n",
        "        cat_cols.remove(col)\n",
        "        ord_cols.append(col)\n",
        "\n",
        "print(f'Cardinal columns = {len(num_cols)}')\n",
        "print(f'Categorical columns = {len(cat_cols)}')\n",
        "print(f'Ordinal columns = {len(ord_cols)}')"
      ],
      "execution_count": null,
      "outputs": [
        {
          "output_type": "stream",
          "name": "stdout",
          "text": [
            "Cardinal columns = 36\n",
            "Categorical columns = 30\n",
            "Ordinal columns = 8\n"
          ]
        }
      ]
    },
    {
      "cell_type": "code",
      "metadata": {
        "id": "-wwT_XQnLNWM"
      },
      "source": [
        "# imputing cardinal columns\n",
        "num_imputer = SimpleImputer(strategy='mean')\n",
        "X_combined2 = X_combined1.copy()\n",
        "X_combined2[num_cols] = num_imputer.fit_transform(X_combined1[num_cols])\n",
        "\n",
        "# imputing categorical columns\n",
        "cat_imputer = SimpleImputer(strategy='most_frequent')\n",
        "X_combined2[cat_cols] = cat_imputer.fit_transform(X_combined1[cat_cols])\n",
        "\n",
        "# imputing ordinal columns\n",
        "ord2int_map = {'Ex':5, 'Gd':4, 'TA':3, 'Fa':2, 'Po':1, 'NA':0, np.nan:np.nan}\n",
        "for col in ord_cols:\n",
        "    X_combined2[col] = X_combined2[col].map(ord2int_map)\n",
        "\n",
        "ord_imputer = SimpleImputer(strategy='mean')\n",
        "X_combined3 = X_combined2.copy()\n",
        "X_combined3[ord_cols] = ord_imputer.fit_transform(X_combined2[ord_cols])"
      ],
      "execution_count": null,
      "outputs": []
    },
    {
      "cell_type": "code",
      "source": [
        "# adding interaction column\n",
        "X_combined3['GrLivArea * OverallQual'] = X_combined3['GrLivArea'] * X_combined3['OverallQual']"
      ],
      "metadata": {
        "id": "boCdZ4hCPYjh"
      },
      "execution_count": null,
      "outputs": []
    },
    {
      "cell_type": "code",
      "source": [
        "X_combined3.info()"
      ],
      "metadata": {
        "colab": {
          "base_uri": "https://localhost:8080/"
        },
        "id": "40BPt-qrRWC2",
        "outputId": "92727050-40c7-4c59-ca76-5ad0fc28cbe7"
      },
      "execution_count": null,
      "outputs": [
        {
          "output_type": "stream",
          "name": "stdout",
          "text": [
            "<class 'pandas.core.frame.DataFrame'>\n",
            "Int64Index: 2919 entries, 1 to 2919\n",
            "Data columns (total 75 columns):\n",
            " #   Column                   Non-Null Count  Dtype  \n",
            "---  ------                   --------------  -----  \n",
            " 0   MSSubClass               2919 non-null   float64\n",
            " 1   MSZoning                 2919 non-null   object \n",
            " 2   LotFrontage              2919 non-null   float64\n",
            " 3   LotArea                  2919 non-null   float64\n",
            " 4   Street                   2919 non-null   object \n",
            " 5   LotShape                 2919 non-null   object \n",
            " 6   LandContour              2919 non-null   object \n",
            " 7   Utilities                2919 non-null   object \n",
            " 8   LotConfig                2919 non-null   object \n",
            " 9   LandSlope                2919 non-null   object \n",
            " 10  Neighborhood             2919 non-null   object \n",
            " 11  Condition1               2919 non-null   object \n",
            " 12  Condition2               2919 non-null   object \n",
            " 13  BldgType                 2919 non-null   object \n",
            " 14  HouseStyle               2919 non-null   object \n",
            " 15  OverallQual              2919 non-null   float64\n",
            " 16  OverallCond              2919 non-null   float64\n",
            " 17  YearBuilt                2919 non-null   float64\n",
            " 18  YearRemodAdd             2919 non-null   float64\n",
            " 19  RoofStyle                2919 non-null   object \n",
            " 20  RoofMatl                 2919 non-null   object \n",
            " 21  Exterior1st              2919 non-null   object \n",
            " 22  Exterior2nd              2919 non-null   object \n",
            " 23  MasVnrType               2919 non-null   object \n",
            " 24  MasVnrArea               2919 non-null   float64\n",
            " 25  ExterQual                2919 non-null   float64\n",
            " 26  ExterCond                2919 non-null   float64\n",
            " 27  Foundation               2919 non-null   object \n",
            " 28  BsmtQual                 2919 non-null   float64\n",
            " 29  BsmtCond                 2919 non-null   float64\n",
            " 30  BsmtExposure             2919 non-null   object \n",
            " 31  BsmtFinType1             2919 non-null   object \n",
            " 32  BsmtFinSF1               2919 non-null   float64\n",
            " 33  BsmtFinType2             2919 non-null   object \n",
            " 34  BsmtFinSF2               2919 non-null   float64\n",
            " 35  BsmtUnfSF                2919 non-null   float64\n",
            " 36  TotalBsmtSF              2919 non-null   float64\n",
            " 37  Heating                  2919 non-null   object \n",
            " 38  HeatingQC                2919 non-null   float64\n",
            " 39  CentralAir               2919 non-null   object \n",
            " 40  Electrical               2919 non-null   object \n",
            " 41  1stFlrSF                 2919 non-null   float64\n",
            " 42  2ndFlrSF                 2919 non-null   float64\n",
            " 43  LowQualFinSF             2919 non-null   float64\n",
            " 44  GrLivArea                2919 non-null   float64\n",
            " 45  BsmtFullBath             2919 non-null   float64\n",
            " 46  BsmtHalfBath             2919 non-null   float64\n",
            " 47  FullBath                 2919 non-null   float64\n",
            " 48  HalfBath                 2919 non-null   float64\n",
            " 49  BedroomAbvGr             2919 non-null   float64\n",
            " 50  KitchenAbvGr             2919 non-null   float64\n",
            " 51  KitchenQual              2919 non-null   float64\n",
            " 52  TotRmsAbvGrd             2919 non-null   float64\n",
            " 53  Functional               2919 non-null   object \n",
            " 54  Fireplaces               2919 non-null   float64\n",
            " 55  GarageType               2919 non-null   object \n",
            " 56  GarageYrBlt              2919 non-null   float64\n",
            " 57  GarageFinish             2919 non-null   object \n",
            " 58  GarageCars               2919 non-null   float64\n",
            " 59  GarageArea               2919 non-null   float64\n",
            " 60  GarageQual               2919 non-null   float64\n",
            " 61  GarageCond               2919 non-null   float64\n",
            " 62  PavedDrive               2919 non-null   object \n",
            " 63  WoodDeckSF               2919 non-null   float64\n",
            " 64  OpenPorchSF              2919 non-null   float64\n",
            " 65  EnclosedPorch            2919 non-null   float64\n",
            " 66  3SsnPorch                2919 non-null   float64\n",
            " 67  ScreenPorch              2919 non-null   float64\n",
            " 68  PoolArea                 2919 non-null   float64\n",
            " 69  MiscVal                  2919 non-null   float64\n",
            " 70  MoSold                   2919 non-null   float64\n",
            " 71  YrSold                   2919 non-null   float64\n",
            " 72  SaleType                 2919 non-null   object \n",
            " 73  SaleCondition            2919 non-null   object \n",
            " 74  GrLivArea * OverallQual  2919 non-null   float64\n",
            "dtypes: float64(45), object(30)\n",
            "memory usage: 1.7+ MB\n"
          ]
        }
      ]
    },
    {
      "cell_type": "code",
      "metadata": {
        "id": "OsSWW1SuLNWP"
      },
      "source": [
        "# one hot encoding categorical columns\n",
        "X_combined4 = pd.get_dummies(X_combined3)"
      ],
      "execution_count": null,
      "outputs": []
    },
    {
      "cell_type": "markdown",
      "metadata": {
        "id": "9MHrXbNoht9p"
      },
      "source": [
        "### 4. Performance evaluation"
      ]
    },
    {
      "cell_type": "code",
      "metadata": {
        "id": "j2dakaJ1LNWO"
      },
      "source": [
        "# function for performance evaluation\n",
        "def model_perf(model, X, y, prefix=''):\n",
        "    y_hat = model.predict(X)\n",
        "    r2 = r2_score(y, y_hat)\n",
        "    rmsle = mean_squared_log_error(y, y_hat, squared=False)\n",
        "    print(f'{prefix} R^2 score = {r2:.3f}, RMSLE = {rmsle:.3f}')\n",
        "\n",
        "# function for fitting and evaluating model\n",
        "def model_fit_eval(model, X_all, y_all, prefix=''):\n",
        "    X_trn, X_val, y_trn, y_val = train_test_split(X_all, y_all, test_size=0.2, random_state=0)\n",
        "    model.fit(X_trn, y_trn)\n",
        "    print(prefix)\n",
        "    model_perf(model, X_trn, y_trn, '  Training   ')\n",
        "    model_perf(model, X_val, y_val, '  Validation ')\n",
        "    kfold = KFold(n_splits=5, shuffle=True, random_state=0)\n",
        "    cv_score = cross_val_score(model, X_all, y_all, cv=kfold)\n",
        "    print(f'  Cross val. R^2 score mean = {cv_score.mean():.3f}, std = {cv_score.std():.3f}')"
      ],
      "execution_count": null,
      "outputs": []
    },
    {
      "cell_type": "markdown",
      "source": [
        "### 5. Model selection"
      ],
      "metadata": {
        "id": "0LPc7vP3T5ul"
      }
    },
    {
      "cell_type": "code",
      "source": [
        "# function to split combined dataset into train and test\n",
        "def split_train_test(X_combined, n):\n",
        "    X_train = X_combined.iloc[:n,:]\n",
        "    X_test = X_combined.iloc[n:,:]\n",
        "    return X_train, X_test"
      ],
      "metadata": {
        "id": "kwlDmHGyUAg_"
      },
      "execution_count": null,
      "outputs": []
    },
    {
      "cell_type": "code",
      "source": [
        "X_train, X_test = split_train_test(X_combined4, X_train.shape[0])"
      ],
      "metadata": {
        "id": "77KHlBDsUOtq"
      },
      "execution_count": null,
      "outputs": []
    },
    {
      "cell_type": "code",
      "source": [
        "# creating models\n",
        "r = Ridge()\n",
        "b = BaggingRegressor(n_estimators=50)\n",
        "rf = RandomForestRegressor(n_estimators=50)\n",
        "xgb = XGBRegressor(max_depth=5, objective='reg:squarederror')\n",
        "lgbm = LGBMRegressor()\n",
        "\n",
        "estms = [('r', r), ('b', b), ('rf', rf), ('xgb', xgb), ('lgbm', lgbm)]\n",
        "v = VotingRegressor(estimators=estms, n_jobs=-1) # using all processors\n",
        "s = StackingRegressor(estimators=estms, final_estimator=Ridge(), n_jobs=-1) # using all processors"
      ],
      "metadata": {
        "id": "d4iBvkycUaAZ"
      },
      "execution_count": null,
      "outputs": []
    },
    {
      "cell_type": "code",
      "source": [
        "# fitting and evaluating models\n",
        "models = ['Ridge', 'Bagging', 'Random Forest', 'XGBoost', 'LGBM', 'Voting', 'Stacking']\n",
        "model_fit_eval(r, X_train, y_train, models[0])\n",
        "model_fit_eval(b, X_train, y_train, models[1])\n",
        "model_fit_eval(rf, X_train, y_train, models[2])\n",
        "model_fit_eval(xgb, X_train, y_train, models[3])\n",
        "model_fit_eval(lgbm, X_train, y_train, models[4])\n",
        "model_fit_eval(v, X_train, y_train, models[5])\n",
        "model_fit_eval(s, X_train, y_train, models[6])\n",
        "# best model voting (best combined Val R^2 score, RMSLE and Cross val. R^2 score mean)"
      ],
      "metadata": {
        "colab": {
          "base_uri": "https://localhost:8080/"
        },
        "id": "ZYdpHn_fVpOW",
        "outputId": "a7977556-bdba-4291-994d-0e130114a37e"
      },
      "execution_count": null,
      "outputs": [
        {
          "output_type": "stream",
          "name": "stdout",
          "text": [
            "Ridge\n",
            "  Training    R^2 score = 0.946, RMSLE = 0.007\n",
            "  Validation  R^2 score = 0.767, RMSLE = 0.014\n",
            "  Cross val. R^2 score mean = 0.868, std = 0.053\n",
            "Bagging\n",
            "  Training    R^2 score = 0.983, RMSLE = 0.004\n",
            "  Validation  R^2 score = 0.864, RMSLE = 0.011\n",
            "  Cross val. R^2 score mean = 0.875, std = 0.016\n",
            "Random Forest\n",
            "  Training    R^2 score = 0.982, RMSLE = 0.004\n",
            "  Validation  R^2 score = 0.876, RMSLE = 0.010\n",
            "  Cross val. R^2 score mean = 0.876, std = 0.019\n",
            "XGBoost\n",
            "  Training    R^2 score = 0.982, RMSLE = 0.004\n",
            "  Validation  R^2 score = 0.881, RMSLE = 0.010\n",
            "  Cross val. R^2 score mean = 0.898, std = 0.015\n",
            "LGBM\n",
            "  Training    R^2 score = 0.988, RMSLE = 0.003\n",
            "  Validation  R^2 score = 0.876, RMSLE = 0.011\n",
            "  Cross val. R^2 score mean = 0.890, std = 0.020\n",
            "Voting\n",
            "  Training    R^2 score = 0.983, RMSLE = 0.004\n",
            "  Validation  R^2 score = 0.881, RMSLE = 0.010\n",
            "  Cross val. R^2 score mean = 0.900, std = 0.020\n",
            "Stacking\n",
            "  Training    R^2 score = 0.976, RMSLE = 0.005\n",
            "  Validation  R^2 score = 0.867, RMSLE = 0.011\n",
            "  Cross val. R^2 score mean = 0.903, std = 0.024\n"
          ]
        }
      ]
    },
    {
      "cell_type": "markdown",
      "metadata": {
        "id": "-HohrDNHiD4h"
      },
      "source": [
        "### 6. Prediction"
      ]
    },
    {
      "cell_type": "code",
      "metadata": {
        "tags": [],
        "id": "f1mxn-QSLNWR"
      },
      "source": [
        "# predicting responses for test dataset\n",
        "sale_price_pred = np.exp(v.predict(X_test))\n",
        "\n",
        "sub_df = pd.read_csv('sample_submission.csv', index_col=0)\n",
        "sub_df['SalePrice'] = sale_price_pred\n",
        "\n",
        "sub_df.to_csv('sub-house-prices.csv')"
      ],
      "execution_count": null,
      "outputs": []
    },
    {
      "cell_type": "markdown",
      "source": [
        "![image.png](data:image/png;base64,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)"
      ],
      "metadata": {
        "id": "SvK8Geghf3MN"
      }
    },
    {
      "cell_type": "code",
      "source": [
        ""
      ],
      "metadata": {
        "id": "n4Z16KfFf4Bk"
      },
      "execution_count": null,
      "outputs": []
    }
  ]
}