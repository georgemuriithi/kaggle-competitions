{
  "nbformat": 4,
  "nbformat_minor": 0,
  "metadata": {
    "hide_input": false,
    "kernelspec": {
      "display_name": "Python 3 (ipykernel)",
      "language": "python",
      "name": "python3"
    },
    "language_info": {
      "codemirror_mode": {
        "name": "ipython",
        "version": 3
      },
      "file_extension": ".py",
      "mimetype": "text/x-python",
      "name": "python",
      "nbconvert_exporter": "python",
      "pygments_lexer": "ipython3",
      "version": "3.8.3"
    },
    "colab": {
      "name": "Home-Credit-Default-Risk.ipynb",
      "provenance": [],
      "collapsed_sections": []
    }
  },
  "cells": [
    {
      "cell_type": "markdown",
      "metadata": {
        "id": "JHgZd1KHkeeu"
      },
      "source": [
        "### 1. Importing packages"
      ]
    },
    {
      "cell_type": "code",
      "metadata": {
        "tags": [],
        "id": "alDbEKvFLNWS"
      },
      "source": [
        "import numpy as np\n",
        "import pandas as pd\n",
        "import warnings\n",
        "warnings.filterwarnings(action='ignore')"
      ],
      "execution_count": null,
      "outputs": []
    },
    {
      "cell_type": "code",
      "source": [
        "from sklearn.impute import SimpleImputer\n",
        "from sklearn.model_selection import train_test_split\n",
        "from sklearn.metrics import roc_auc_score\n",
        "from sklearn.ensemble import RandomForestClassifier, StackingClassifier\n",
        "from xgboost import XGBClassifier\n",
        "from lightgbm import LGBMClassifier"
      ],
      "metadata": {
        "id": "_LY7EWkxj0m7"
      },
      "execution_count": null,
      "outputs": []
    },
    {
      "cell_type": "markdown",
      "metadata": {
        "id": "deqaierEkhxZ"
      },
      "source": [
        "### 2. Loading datasets"
      ]
    },
    {
      "cell_type": "code",
      "metadata": {
        "id": "kH1VYulyLNWS",
        "colab": {
          "base_uri": "https://localhost:8080/"
        },
        "outputId": "44e15dcb-7f92-46a4-d1c1-36d4f8cf0ab1"
      },
      "source": [
        "XY_train = pd.read_csv('application_train.csv', index_col=0)\n",
        "\n",
        "# splitting features and response in train dataset\n",
        "Y_train = XY_train[['TARGET']]\n",
        "X_train = XY_train.drop('TARGET', axis=1)\n",
        "\n",
        "X_test = pd.read_csv('application_test.csv', index_col=0)\n",
        "\n",
        "# combining train and test features\n",
        "X_combined0 = pd.concat([X_train, X_test], axis=0)\n",
        "X_combined0.shape"
      ],
      "execution_count": null,
      "outputs": [
        {
          "output_type": "execute_result",
          "data": {
            "text/plain": [
              "(356255, 120)"
            ]
          },
          "metadata": {},
          "execution_count": 3
        }
      ]
    },
    {
      "cell_type": "markdown",
      "source": [
        "### 3. Feature engineering"
      ],
      "metadata": {
        "id": "d1Nz50ltlX24"
      }
    },
    {
      "cell_type": "code",
      "metadata": {
        "colab": {
          "base_uri": "https://localhost:8080/"
        },
        "id": "gPxwX-mN4rai",
        "outputId": "9ea3c268-2be3-4ff6-bdc7-a0042166aa5d"
      },
      "source": [
        "# removing columns with missing values more than 20%\n",
        "X_null = X_combined0.isnull().sum(axis=0)\n",
        "max_na = X_combined0.shape[0] * 0.2\n",
        "\n",
        "cols = [col for col in X_combined0.columns if X_null[col] <= max_na]\n",
        "X_combined1 = X_combined0[cols]\n",
        "X_combined1.shape"
      ],
      "execution_count": null,
      "outputs": [
        {
          "output_type": "execute_result",
          "data": {
            "text/plain": [
              "(356255, 70)"
            ]
          },
          "metadata": {},
          "execution_count": 4
        }
      ]
    },
    {
      "cell_type": "code",
      "source": [
        "X_combined1.info()"
      ],
      "metadata": {
        "colab": {
          "base_uri": "https://localhost:8080/"
        },
        "id": "EkWJ4PBApIlF",
        "outputId": "5a56df63-d76f-4083-83b9-688e7ea912c1"
      },
      "execution_count": null,
      "outputs": [
        {
          "output_type": "stream",
          "name": "stdout",
          "text": [
            "<class 'pandas.core.frame.DataFrame'>\n",
            "Int64Index: 356255 entries, 100002 to 456250\n",
            "Data columns (total 70 columns):\n",
            " #   Column                       Non-Null Count   Dtype  \n",
            "---  ------                       --------------   -----  \n",
            " 0   NAME_CONTRACT_TYPE           356255 non-null  object \n",
            " 1   CODE_GENDER                  356255 non-null  object \n",
            " 2   FLAG_OWN_CAR                 356255 non-null  object \n",
            " 3   FLAG_OWN_REALTY              356255 non-null  object \n",
            " 4   CNT_CHILDREN                 356255 non-null  int64  \n",
            " 5   AMT_INCOME_TOTAL             356255 non-null  float64\n",
            " 6   AMT_CREDIT                   356255 non-null  float64\n",
            " 7   AMT_ANNUITY                  356219 non-null  float64\n",
            " 8   AMT_GOODS_PRICE              355977 non-null  float64\n",
            " 9   NAME_TYPE_SUITE              354052 non-null  object \n",
            " 10  NAME_INCOME_TYPE             356255 non-null  object \n",
            " 11  NAME_EDUCATION_TYPE          356255 non-null  object \n",
            " 12  NAME_FAMILY_STATUS           356255 non-null  object \n",
            " 13  NAME_HOUSING_TYPE            356255 non-null  object \n",
            " 14  REGION_POPULATION_RELATIVE   356255 non-null  float64\n",
            " 15  DAYS_BIRTH                   356255 non-null  int64  \n",
            " 16  DAYS_EMPLOYED                356255 non-null  int64  \n",
            " 17  DAYS_REGISTRATION            356255 non-null  float64\n",
            " 18  DAYS_ID_PUBLISH              356255 non-null  int64  \n",
            " 19  FLAG_MOBIL                   356255 non-null  int64  \n",
            " 20  FLAG_EMP_PHONE               356255 non-null  int64  \n",
            " 21  FLAG_WORK_PHONE              356255 non-null  int64  \n",
            " 22  FLAG_CONT_MOBILE             356255 non-null  int64  \n",
            " 23  FLAG_PHONE                   356255 non-null  int64  \n",
            " 24  FLAG_EMAIL                   356255 non-null  int64  \n",
            " 25  CNT_FAM_MEMBERS              356253 non-null  float64\n",
            " 26  REGION_RATING_CLIENT         356255 non-null  int64  \n",
            " 27  REGION_RATING_CLIENT_W_CITY  356255 non-null  int64  \n",
            " 28  WEEKDAY_APPR_PROCESS_START   356255 non-null  object \n",
            " 29  HOUR_APPR_PROCESS_START      356255 non-null  int64  \n",
            " 30  REG_REGION_NOT_LIVE_REGION   356255 non-null  int64  \n",
            " 31  REG_REGION_NOT_WORK_REGION   356255 non-null  int64  \n",
            " 32  LIVE_REGION_NOT_WORK_REGION  356255 non-null  int64  \n",
            " 33  REG_CITY_NOT_LIVE_CITY       356255 non-null  int64  \n",
            " 34  REG_CITY_NOT_WORK_CITY       356255 non-null  int64  \n",
            " 35  LIVE_CITY_NOT_WORK_CITY      356255 non-null  int64  \n",
            " 36  ORGANIZATION_TYPE            356255 non-null  object \n",
            " 37  EXT_SOURCE_2                 355587 non-null  float64\n",
            " 38  EXT_SOURCE_3                 286622 non-null  float64\n",
            " 39  OBS_30_CNT_SOCIAL_CIRCLE     355205 non-null  float64\n",
            " 40  DEF_30_CNT_SOCIAL_CIRCLE     355205 non-null  float64\n",
            " 41  OBS_60_CNT_SOCIAL_CIRCLE     355205 non-null  float64\n",
            " 42  DEF_60_CNT_SOCIAL_CIRCLE     355205 non-null  float64\n",
            " 43  DAYS_LAST_PHONE_CHANGE       356254 non-null  float64\n",
            " 44  FLAG_DOCUMENT_2              356255 non-null  int64  \n",
            " 45  FLAG_DOCUMENT_3              356255 non-null  int64  \n",
            " 46  FLAG_DOCUMENT_4              356255 non-null  int64  \n",
            " 47  FLAG_DOCUMENT_5              356255 non-null  int64  \n",
            " 48  FLAG_DOCUMENT_6              356255 non-null  int64  \n",
            " 49  FLAG_DOCUMENT_7              356255 non-null  int64  \n",
            " 50  FLAG_DOCUMENT_8              356255 non-null  int64  \n",
            " 51  FLAG_DOCUMENT_9              356255 non-null  int64  \n",
            " 52  FLAG_DOCUMENT_10             356255 non-null  int64  \n",
            " 53  FLAG_DOCUMENT_11             356255 non-null  int64  \n",
            " 54  FLAG_DOCUMENT_12             356255 non-null  int64  \n",
            " 55  FLAG_DOCUMENT_13             356255 non-null  int64  \n",
            " 56  FLAG_DOCUMENT_14             356255 non-null  int64  \n",
            " 57  FLAG_DOCUMENT_15             356255 non-null  int64  \n",
            " 58  FLAG_DOCUMENT_16             356255 non-null  int64  \n",
            " 59  FLAG_DOCUMENT_17             356255 non-null  int64  \n",
            " 60  FLAG_DOCUMENT_18             356255 non-null  int64  \n",
            " 61  FLAG_DOCUMENT_19             356255 non-null  int64  \n",
            " 62  FLAG_DOCUMENT_20             356255 non-null  int64  \n",
            " 63  FLAG_DOCUMENT_21             356255 non-null  int64  \n",
            " 64  AMT_REQ_CREDIT_BUREAU_HOUR   308687 non-null  float64\n",
            " 65  AMT_REQ_CREDIT_BUREAU_DAY    308687 non-null  float64\n",
            " 66  AMT_REQ_CREDIT_BUREAU_WEEK   308687 non-null  float64\n",
            " 67  AMT_REQ_CREDIT_BUREAU_MON    308687 non-null  float64\n",
            " 68  AMT_REQ_CREDIT_BUREAU_QRT    308687 non-null  float64\n",
            " 69  AMT_REQ_CREDIT_BUREAU_YEAR   308687 non-null  float64\n",
            "dtypes: float64(20), int64(39), object(11)\n",
            "memory usage: 193.0+ MB\n"
          ]
        }
      ]
    },
    {
      "cell_type": "code",
      "metadata": {
        "colab": {
          "base_uri": "https://localhost:8080/"
        },
        "id": "hNWM6Dtf5Zwa",
        "outputId": "c2267e63-5153-4cfa-c554-18122bd47d39"
      },
      "source": [
        "# getting no. of cardinal (numeric) columns and categorical columns\n",
        "num_cols = X_combined1.select_dtypes(include=np.number).columns.tolist()\n",
        "cat_cols = X_combined1.select_dtypes(include='object').columns.tolist()\n",
        "        \n",
        "print(f'Cardinal columns = {len(num_cols)}')\n",
        "print(f'Categorical columns = {len(cat_cols)}')"
      ],
      "execution_count": null,
      "outputs": [
        {
          "output_type": "stream",
          "name": "stdout",
          "text": [
            "Cardinal columns = 59\n",
            "Categorical columns = 11\n"
          ]
        }
      ]
    },
    {
      "cell_type": "code",
      "metadata": {
        "colab": {
          "base_uri": "https://localhost:8080/"
        },
        "id": "0rt6gG4t51Y0",
        "outputId": "d3abed9d-dcda-4954-ee5f-04ee29e5d6d3"
      },
      "source": [
        "# imputing cardinal columns\n",
        "num_imputer = SimpleImputer(strategy='mean')\n",
        "X_combined2 = X_combined1.copy()\n",
        "X_combined2[num_cols] = num_imputer.fit_transform(X_combined1[num_cols])\n",
        "\n",
        "# imputing categorical columns\n",
        "for col in cat_cols:\n",
        "    mode = X_combined2[col].mode()[0]\n",
        "    X_combined2[col].fillna(value=mode)\n",
        "\n",
        "X_combined2.info()"
      ],
      "execution_count": null,
      "outputs": [
        {
          "output_type": "stream",
          "name": "stdout",
          "text": [
            "<class 'pandas.core.frame.DataFrame'>\n",
            "Int64Index: 356255 entries, 100002 to 456250\n",
            "Data columns (total 70 columns):\n",
            " #   Column                       Non-Null Count   Dtype  \n",
            "---  ------                       --------------   -----  \n",
            " 0   NAME_CONTRACT_TYPE           356255 non-null  object \n",
            " 1   CODE_GENDER                  356255 non-null  object \n",
            " 2   FLAG_OWN_CAR                 356255 non-null  object \n",
            " 3   FLAG_OWN_REALTY              356255 non-null  object \n",
            " 4   CNT_CHILDREN                 356255 non-null  float64\n",
            " 5   AMT_INCOME_TOTAL             356255 non-null  float64\n",
            " 6   AMT_CREDIT                   356255 non-null  float64\n",
            " 7   AMT_ANNUITY                  356255 non-null  float64\n",
            " 8   AMT_GOODS_PRICE              356255 non-null  float64\n",
            " 9   NAME_TYPE_SUITE              354052 non-null  object \n",
            " 10  NAME_INCOME_TYPE             356255 non-null  object \n",
            " 11  NAME_EDUCATION_TYPE          356255 non-null  object \n",
            " 12  NAME_FAMILY_STATUS           356255 non-null  object \n",
            " 13  NAME_HOUSING_TYPE            356255 non-null  object \n",
            " 14  REGION_POPULATION_RELATIVE   356255 non-null  float64\n",
            " 15  DAYS_BIRTH                   356255 non-null  float64\n",
            " 16  DAYS_EMPLOYED                356255 non-null  float64\n",
            " 17  DAYS_REGISTRATION            356255 non-null  float64\n",
            " 18  DAYS_ID_PUBLISH              356255 non-null  float64\n",
            " 19  FLAG_MOBIL                   356255 non-null  float64\n",
            " 20  FLAG_EMP_PHONE               356255 non-null  float64\n",
            " 21  FLAG_WORK_PHONE              356255 non-null  float64\n",
            " 22  FLAG_CONT_MOBILE             356255 non-null  float64\n",
            " 23  FLAG_PHONE                   356255 non-null  float64\n",
            " 24  FLAG_EMAIL                   356255 non-null  float64\n",
            " 25  CNT_FAM_MEMBERS              356255 non-null  float64\n",
            " 26  REGION_RATING_CLIENT         356255 non-null  float64\n",
            " 27  REGION_RATING_CLIENT_W_CITY  356255 non-null  float64\n",
            " 28  WEEKDAY_APPR_PROCESS_START   356255 non-null  object \n",
            " 29  HOUR_APPR_PROCESS_START      356255 non-null  float64\n",
            " 30  REG_REGION_NOT_LIVE_REGION   356255 non-null  float64\n",
            " 31  REG_REGION_NOT_WORK_REGION   356255 non-null  float64\n",
            " 32  LIVE_REGION_NOT_WORK_REGION  356255 non-null  float64\n",
            " 33  REG_CITY_NOT_LIVE_CITY       356255 non-null  float64\n",
            " 34  REG_CITY_NOT_WORK_CITY       356255 non-null  float64\n",
            " 35  LIVE_CITY_NOT_WORK_CITY      356255 non-null  float64\n",
            " 36  ORGANIZATION_TYPE            356255 non-null  object \n",
            " 37  EXT_SOURCE_2                 356255 non-null  float64\n",
            " 38  EXT_SOURCE_3                 356255 non-null  float64\n",
            " 39  OBS_30_CNT_SOCIAL_CIRCLE     356255 non-null  float64\n",
            " 40  DEF_30_CNT_SOCIAL_CIRCLE     356255 non-null  float64\n",
            " 41  OBS_60_CNT_SOCIAL_CIRCLE     356255 non-null  float64\n",
            " 42  DEF_60_CNT_SOCIAL_CIRCLE     356255 non-null  float64\n",
            " 43  DAYS_LAST_PHONE_CHANGE       356255 non-null  float64\n",
            " 44  FLAG_DOCUMENT_2              356255 non-null  float64\n",
            " 45  FLAG_DOCUMENT_3              356255 non-null  float64\n",
            " 46  FLAG_DOCUMENT_4              356255 non-null  float64\n",
            " 47  FLAG_DOCUMENT_5              356255 non-null  float64\n",
            " 48  FLAG_DOCUMENT_6              356255 non-null  float64\n",
            " 49  FLAG_DOCUMENT_7              356255 non-null  float64\n",
            " 50  FLAG_DOCUMENT_8              356255 non-null  float64\n",
            " 51  FLAG_DOCUMENT_9              356255 non-null  float64\n",
            " 52  FLAG_DOCUMENT_10             356255 non-null  float64\n",
            " 53  FLAG_DOCUMENT_11             356255 non-null  float64\n",
            " 54  FLAG_DOCUMENT_12             356255 non-null  float64\n",
            " 55  FLAG_DOCUMENT_13             356255 non-null  float64\n",
            " 56  FLAG_DOCUMENT_14             356255 non-null  float64\n",
            " 57  FLAG_DOCUMENT_15             356255 non-null  float64\n",
            " 58  FLAG_DOCUMENT_16             356255 non-null  float64\n",
            " 59  FLAG_DOCUMENT_17             356255 non-null  float64\n",
            " 60  FLAG_DOCUMENT_18             356255 non-null  float64\n",
            " 61  FLAG_DOCUMENT_19             356255 non-null  float64\n",
            " 62  FLAG_DOCUMENT_20             356255 non-null  float64\n",
            " 63  FLAG_DOCUMENT_21             356255 non-null  float64\n",
            " 64  AMT_REQ_CREDIT_BUREAU_HOUR   356255 non-null  float64\n",
            " 65  AMT_REQ_CREDIT_BUREAU_DAY    356255 non-null  float64\n",
            " 66  AMT_REQ_CREDIT_BUREAU_WEEK   356255 non-null  float64\n",
            " 67  AMT_REQ_CREDIT_BUREAU_MON    356255 non-null  float64\n",
            " 68  AMT_REQ_CREDIT_BUREAU_QRT    356255 non-null  float64\n",
            " 69  AMT_REQ_CREDIT_BUREAU_YEAR   356255 non-null  float64\n",
            "dtypes: float64(59), object(11)\n",
            "memory usage: 193.0+ MB\n"
          ]
        }
      ]
    },
    {
      "cell_type": "code",
      "metadata": {
        "id": "ooLnleefEYjQ",
        "colab": {
          "base_uri": "https://localhost:8080/"
        },
        "outputId": "094d90f2-3a53-449e-9778-b930c29c9ea2"
      },
      "source": [
        "# imputing 'NAME_TYPE_SUITE'\n",
        "cat_imputer = SimpleImputer(strategy='most_frequent')\n",
        "X_combined2['NAME_TYPE_SUITE'] = cat_imputer.fit_transform(X_combined1[['NAME_TYPE_SUITE']])\n",
        "X_combined2.info()"
      ],
      "execution_count": null,
      "outputs": [
        {
          "output_type": "stream",
          "name": "stdout",
          "text": [
            "<class 'pandas.core.frame.DataFrame'>\n",
            "Int64Index: 356255 entries, 100002 to 456250\n",
            "Data columns (total 70 columns):\n",
            " #   Column                       Non-Null Count   Dtype  \n",
            "---  ------                       --------------   -----  \n",
            " 0   NAME_CONTRACT_TYPE           356255 non-null  object \n",
            " 1   CODE_GENDER                  356255 non-null  object \n",
            " 2   FLAG_OWN_CAR                 356255 non-null  object \n",
            " 3   FLAG_OWN_REALTY              356255 non-null  object \n",
            " 4   CNT_CHILDREN                 356255 non-null  float64\n",
            " 5   AMT_INCOME_TOTAL             356255 non-null  float64\n",
            " 6   AMT_CREDIT                   356255 non-null  float64\n",
            " 7   AMT_ANNUITY                  356255 non-null  float64\n",
            " 8   AMT_GOODS_PRICE              356255 non-null  float64\n",
            " 9   NAME_TYPE_SUITE              356255 non-null  object \n",
            " 10  NAME_INCOME_TYPE             356255 non-null  object \n",
            " 11  NAME_EDUCATION_TYPE          356255 non-null  object \n",
            " 12  NAME_FAMILY_STATUS           356255 non-null  object \n",
            " 13  NAME_HOUSING_TYPE            356255 non-null  object \n",
            " 14  REGION_POPULATION_RELATIVE   356255 non-null  float64\n",
            " 15  DAYS_BIRTH                   356255 non-null  float64\n",
            " 16  DAYS_EMPLOYED                356255 non-null  float64\n",
            " 17  DAYS_REGISTRATION            356255 non-null  float64\n",
            " 18  DAYS_ID_PUBLISH              356255 non-null  float64\n",
            " 19  FLAG_MOBIL                   356255 non-null  float64\n",
            " 20  FLAG_EMP_PHONE               356255 non-null  float64\n",
            " 21  FLAG_WORK_PHONE              356255 non-null  float64\n",
            " 22  FLAG_CONT_MOBILE             356255 non-null  float64\n",
            " 23  FLAG_PHONE                   356255 non-null  float64\n",
            " 24  FLAG_EMAIL                   356255 non-null  float64\n",
            " 25  CNT_FAM_MEMBERS              356255 non-null  float64\n",
            " 26  REGION_RATING_CLIENT         356255 non-null  float64\n",
            " 27  REGION_RATING_CLIENT_W_CITY  356255 non-null  float64\n",
            " 28  WEEKDAY_APPR_PROCESS_START   356255 non-null  object \n",
            " 29  HOUR_APPR_PROCESS_START      356255 non-null  float64\n",
            " 30  REG_REGION_NOT_LIVE_REGION   356255 non-null  float64\n",
            " 31  REG_REGION_NOT_WORK_REGION   356255 non-null  float64\n",
            " 32  LIVE_REGION_NOT_WORK_REGION  356255 non-null  float64\n",
            " 33  REG_CITY_NOT_LIVE_CITY       356255 non-null  float64\n",
            " 34  REG_CITY_NOT_WORK_CITY       356255 non-null  float64\n",
            " 35  LIVE_CITY_NOT_WORK_CITY      356255 non-null  float64\n",
            " 36  ORGANIZATION_TYPE            356255 non-null  object \n",
            " 37  EXT_SOURCE_2                 356255 non-null  float64\n",
            " 38  EXT_SOURCE_3                 356255 non-null  float64\n",
            " 39  OBS_30_CNT_SOCIAL_CIRCLE     356255 non-null  float64\n",
            " 40  DEF_30_CNT_SOCIAL_CIRCLE     356255 non-null  float64\n",
            " 41  OBS_60_CNT_SOCIAL_CIRCLE     356255 non-null  float64\n",
            " 42  DEF_60_CNT_SOCIAL_CIRCLE     356255 non-null  float64\n",
            " 43  DAYS_LAST_PHONE_CHANGE       356255 non-null  float64\n",
            " 44  FLAG_DOCUMENT_2              356255 non-null  float64\n",
            " 45  FLAG_DOCUMENT_3              356255 non-null  float64\n",
            " 46  FLAG_DOCUMENT_4              356255 non-null  float64\n",
            " 47  FLAG_DOCUMENT_5              356255 non-null  float64\n",
            " 48  FLAG_DOCUMENT_6              356255 non-null  float64\n",
            " 49  FLAG_DOCUMENT_7              356255 non-null  float64\n",
            " 50  FLAG_DOCUMENT_8              356255 non-null  float64\n",
            " 51  FLAG_DOCUMENT_9              356255 non-null  float64\n",
            " 52  FLAG_DOCUMENT_10             356255 non-null  float64\n",
            " 53  FLAG_DOCUMENT_11             356255 non-null  float64\n",
            " 54  FLAG_DOCUMENT_12             356255 non-null  float64\n",
            " 55  FLAG_DOCUMENT_13             356255 non-null  float64\n",
            " 56  FLAG_DOCUMENT_14             356255 non-null  float64\n",
            " 57  FLAG_DOCUMENT_15             356255 non-null  float64\n",
            " 58  FLAG_DOCUMENT_16             356255 non-null  float64\n",
            " 59  FLAG_DOCUMENT_17             356255 non-null  float64\n",
            " 60  FLAG_DOCUMENT_18             356255 non-null  float64\n",
            " 61  FLAG_DOCUMENT_19             356255 non-null  float64\n",
            " 62  FLAG_DOCUMENT_20             356255 non-null  float64\n",
            " 63  FLAG_DOCUMENT_21             356255 non-null  float64\n",
            " 64  AMT_REQ_CREDIT_BUREAU_HOUR   356255 non-null  float64\n",
            " 65  AMT_REQ_CREDIT_BUREAU_DAY    356255 non-null  float64\n",
            " 66  AMT_REQ_CREDIT_BUREAU_WEEK   356255 non-null  float64\n",
            " 67  AMT_REQ_CREDIT_BUREAU_MON    356255 non-null  float64\n",
            " 68  AMT_REQ_CREDIT_BUREAU_QRT    356255 non-null  float64\n",
            " 69  AMT_REQ_CREDIT_BUREAU_YEAR   356255 non-null  float64\n",
            "dtypes: float64(59), object(11)\n",
            "memory usage: 193.0+ MB\n"
          ]
        }
      ]
    },
    {
      "cell_type": "code",
      "metadata": {
        "id": "9dTxJt6z8JGA"
      },
      "source": [
        "# creating dummies for categorical columns\n",
        "X_combined3 = pd.get_dummies(X_combined2)"
      ],
      "execution_count": null,
      "outputs": []
    },
    {
      "cell_type": "markdown",
      "metadata": {
        "id": "EDhRi_tUks47"
      },
      "source": [
        "### 4. Performance evaluation"
      ]
    },
    {
      "cell_type": "code",
      "metadata": {
        "id": "fHe-KNRNLNWT"
      },
      "source": [
        "# function for performance evaluation\n",
        "def model_perf(model, X, Y, prefix=''):\n",
        "    Yhat = model.predict_proba(X)[:,1]\n",
        "    auc = roc_auc_score(Y, Yhat)\n",
        "    print(f'{prefix} AUROC score = {auc:.3f}')\n",
        "\n",
        "# function for training and validating model\n",
        "def model_fit_perf(model, X_all, Y_all, prefix=''):\n",
        "    X_trn, X_val, Y_trn, Y_val = train_test_split(X_all, Y_all, test_size=0.2, \n",
        "                                                  random_state=42)\n",
        "    model.fit(X_trn, Y_trn)\n",
        "    print(prefix)\n",
        "    model_perf(model, X_trn, Y_trn, '  Training   ')\n",
        "    model_perf(model, X_val, Y_val, '  Validation ')"
      ],
      "execution_count": null,
      "outputs": []
    },
    {
      "cell_type": "markdown",
      "source": [
        "### 5. Modeling"
      ],
      "metadata": {
        "id": "xT8AZHo14YQk"
      }
    },
    {
      "cell_type": "code",
      "source": [
        "# function to split combined dataset into train and test\n",
        "def split_train_test(X_combined, n):\n",
        "    X_train = X_combined.iloc[:n,:]\n",
        "    X_test = X_combined.iloc[n:,:]\n",
        "    return X_train, X_test"
      ],
      "metadata": {
        "id": "VUFgC0CU4bYW"
      },
      "execution_count": null,
      "outputs": []
    },
    {
      "cell_type": "code",
      "metadata": {
        "id": "3rdpxHCaLNWT"
      },
      "source": [
        "X_train, X_test = split_train_test(X_combined3, X_train.shape[0])"
      ],
      "execution_count": null,
      "outputs": []
    },
    {
      "cell_type": "code",
      "source": [
        "# creating models\n",
        "xgb_c = XGBClassifier()\n",
        "lgbm_c = LGBMClassifier()\n",
        "rf_c = RandomForestClassifier(n_estimators=50)\n",
        "\n",
        "estms = [('xgb', xgb_c), ('lgbm', lgbm_c), ('rf', rf_c)]\n",
        "stacking_c = StackingClassifier(estimators=estms, final_estimator=LGBMClassifier())"
      ],
      "metadata": {
        "id": "NXrGoJNcsir0"
      },
      "execution_count": null,
      "outputs": []
    },
    {
      "cell_type": "code",
      "source": [
        "# training and validating models\n",
        "models = ['XGBoost', 'LGBM', 'Random Forest', 'Stacking']\n",
        "xgb_auc_trn, xgb_auc_val = model_fit_perf(xgb_c, X_train, Y_train, models[0])\n",
        "lgbm_auc_trn, lgbm_auc_val = model_fit_perf(lgbm_c, X_train, Y_train, models[1])\n",
        "rf_auc_trn, rf_auc_val = model_fit_perf(rf_c, X_train, Y_train, models[2])\n",
        "stacking_auc_trn, stacking_auc_val = model_fit_perf(stacking_c, X_train, Y_train, models[3])"
      ],
      "metadata": {
        "colab": {
          "base_uri": "https://localhost:8080/"
        },
        "id": "sDwUzecTtuy1",
        "outputId": "89bf5b92-ac8c-43b8-8ab5-dc626f29f97f"
      },
      "execution_count": null,
      "outputs": [
        {
          "output_type": "stream",
          "name": "stdout",
          "text": [
            "XGBoost\n",
            "  Training    AUROC score = 0.753\n",
            "  Validation  AUROC score = 0.746\n",
            "LGBM\n",
            "  Training    AUROC score = 0.790\n",
            "  Validation  AUROC score = 0.751\n",
            "Random Forest\n",
            "  Training    AUROC score = 1.000\n",
            "  Validation  AUROC score = 0.701\n",
            "Stacking\n",
            "  Training    AUROC score = 0.878\n",
            "  Validation  AUROC score = 0.748\n"
          ]
        }
      ]
    },
    {
      "cell_type": "markdown",
      "metadata": {
        "id": "3UT6W5Vwk16e"
      },
      "source": [
        "### 6. Prediction"
      ]
    },
    {
      "cell_type": "code",
      "metadata": {
        "tags": [],
        "id": "LTI_D6s0LNWU"
      },
      "source": [
        "# predicting responses for test dataset using lgbm (best Val AUROC score)\n",
        "target_pred = lgbm_c.predict_proba(X_test)\n",
        "\n",
        "sub_df = pd.read_csv('sample_submission.csv', index_col=0)\n",
        "sub_df['TARGET'] = target_pred[:,1]\n",
        "\n",
        "sub_df.to_csv('sub_home_credit.csv')"
      ],
      "execution_count": null,
      "outputs": []
    },
    {
      "cell_type": "markdown",
      "source": [
        "![image.png](data:image/png;base64,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)"
      ],
      "metadata": {
        "id": "jwtYfUoUJB0h"
      }
    },
    {
      "cell_type": "code",
      "source": [
        ""
      ],
      "metadata": {
        "id": "zYuETwr-JSwQ"
      },
      "execution_count": null,
      "outputs": []
    }
  ]
}
