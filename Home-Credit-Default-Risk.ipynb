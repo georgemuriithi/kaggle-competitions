{
  "nbformat": 4,
  "nbformat_minor": 0,
  "metadata": {
    "hide_input": false,
    "kernelspec": {
      "display_name": "Python 3 (ipykernel)",
      "language": "python",
      "name": "python3"
    },
    "language_info": {
      "codemirror_mode": {
        "name": "ipython",
        "version": 3
      },
      "file_extension": ".py",
      "mimetype": "text/x-python",
      "name": "python",
      "nbconvert_exporter": "python",
      "pygments_lexer": "ipython3",
      "version": "3.8.3"
    },
    "colab": {
      "name": "Home-Credit-Default-Risk.ipynb",
      "provenance": [],
      "collapsed_sections": []
    }
  },
  "cells": [
    {
      "cell_type": "markdown",
      "metadata": {
        "id": "JHgZd1KHkeeu"
      },
      "source": [
        "### 1. Importing packages"
      ]
    },
    {
      "cell_type": "code",
      "metadata": {
        "tags": [],
        "id": "alDbEKvFLNWS"
      },
      "source": [
        "import numpy as np\n",
        "import pandas as pd\n",
        "import warnings\n",
        "warnings.filterwarnings(action='ignore')"
      ],
      "execution_count": 17,
      "outputs": []
    },
    {
      "cell_type": "code",
      "source": [
        "from sklearn.impute import SimpleImputer\n",
        "from sklearn.model_selection import train_test_split\n",
        "from sklearn.metrics import roc_auc_score\n",
        "from sklearn.ensemble import RandomForestClassifier, StackingClassifier\n",
        "from xgboost import XGBClassifier\n",
        "from lightgbm import LGBMClassifier"
      ],
      "metadata": {
        "id": "_LY7EWkxj0m7"
      },
      "execution_count": 2,
      "outputs": []
    },
    {
      "cell_type": "markdown",
      "metadata": {
        "id": "deqaierEkhxZ"
      },
      "source": [
        "### 2. Loading datasets"
      ]
    },
    {
      "cell_type": "code",
      "metadata": {
        "id": "kH1VYulyLNWS",
        "colab": {
          "base_uri": "https://localhost:8080/"
        },
        "outputId": "44e15dcb-7f92-46a4-d1c1-36d4f8cf0ab1"
      },
      "source": [
        "XY_train = pd.read_csv('application_train.csv', index_col=0)\n",
        "\n",
        "# splitting features and response in train dataset\n",
        "Y_train = XY_train[['TARGET']]\n",
        "X_train = XY_train.drop('TARGET', axis=1)\n",
        "\n",
        "X_test = pd.read_csv('application_test.csv', index_col=0)\n",
        "\n",
        "# combining train and test features\n",
        "X_combined0 = pd.concat([X_train, X_test], axis=0)\n",
        "X_combined0.shape"
      ],
      "execution_count": 3,
      "outputs": [
        {
          "output_type": "execute_result",
          "data": {
            "text/plain": [
              "(356255, 120)"
            ]
          },
          "metadata": {},
          "execution_count": 3
        }
      ]
    },
    {
      "cell_type": "markdown",
      "source": [
        "### 3. Feature engineering"
      ],
      "metadata": {
        "id": "d1Nz50ltlX24"
      }
    },
    {
      "cell_type": "code",
      "metadata": {
        "colab": {
          "base_uri": "https://localhost:8080/"
        },
        "id": "gPxwX-mN4rai",
        "outputId": "9ea3c268-2be3-4ff6-bdc7-a0042166aa5d"
      },
      "source": [
        "# removing columns with missing values more than 20%\n",
        "X_null = X_combined0.isnull().sum(axis=0)\n",
        "max_na = X_combined0.shape[0] * 0.2\n",
        "\n",
        "cols = [col for col in X_combined0.columns if X_null[col] <= max_na]\n",
        "X_combined1 = X_combined0[cols]\n",
        "X_combined1.shape"
      ],
      "execution_count": 4,
      "outputs": [
        {
          "output_type": "execute_result",
          "data": {
            "text/plain": [
              "(356255, 70)"
            ]
          },
          "metadata": {},
          "execution_count": 4
        }
      ]
    },
    {
      "cell_type": "code",
      "source": [
        "X_combined1.info()"
      ],
      "metadata": {
        "colab": {
          "base_uri": "https://localhost:8080/"
        },
        "id": "EkWJ4PBApIlF",
        "outputId": "5a56df63-d76f-4083-83b9-688e7ea912c1"
      },
      "execution_count": 5,
      "outputs": [
        {
          "output_type": "stream",
          "name": "stdout",
          "text": [
            "<class 'pandas.core.frame.DataFrame'>\n",
            "Int64Index: 356255 entries, 100002 to 456250\n",
            "Data columns (total 70 columns):\n",
            " #   Column                       Non-Null Count   Dtype  \n",
            "---  ------                       --------------   -----  \n",
            " 0   NAME_CONTRACT_TYPE           356255 non-null  object \n",
            " 1   CODE_GENDER                  356255 non-null  object \n",
            " 2   FLAG_OWN_CAR                 356255 non-null  object \n",
            " 3   FLAG_OWN_REALTY              356255 non-null  object \n",
            " 4   CNT_CHILDREN                 356255 non-null  int64  \n",
            " 5   AMT_INCOME_TOTAL             356255 non-null  float64\n",
            " 6   AMT_CREDIT                   356255 non-null  float64\n",
            " 7   AMT_ANNUITY                  356219 non-null  float64\n",
            " 8   AMT_GOODS_PRICE              355977 non-null  float64\n",
            " 9   NAME_TYPE_SUITE              354052 non-null  object \n",
            " 10  NAME_INCOME_TYPE             356255 non-null  object \n",
            " 11  NAME_EDUCATION_TYPE          356255 non-null  object \n",
            " 12  NAME_FAMILY_STATUS           356255 non-null  object \n",
            " 13  NAME_HOUSING_TYPE            356255 non-null  object \n",
            " 14  REGION_POPULATION_RELATIVE   356255 non-null  float64\n",
            " 15  DAYS_BIRTH                   356255 non-null  int64  \n",
            " 16  DAYS_EMPLOYED                356255 non-null  int64  \n",
            " 17  DAYS_REGISTRATION            356255 non-null  float64\n",
            " 18  DAYS_ID_PUBLISH              356255 non-null  int64  \n",
            " 19  FLAG_MOBIL                   356255 non-null  int64  \n",
            " 20  FLAG_EMP_PHONE               356255 non-null  int64  \n",
            " 21  FLAG_WORK_PHONE              356255 non-null  int64  \n",
            " 22  FLAG_CONT_MOBILE             356255 non-null  int64  \n",
            " 23  FLAG_PHONE                   356255 non-null  int64  \n",
            " 24  FLAG_EMAIL                   356255 non-null  int64  \n",
            " 25  CNT_FAM_MEMBERS              356253 non-null  float64\n",
            " 26  REGION_RATING_CLIENT         356255 non-null  int64  \n",
            " 27  REGION_RATING_CLIENT_W_CITY  356255 non-null  int64  \n",
            " 28  WEEKDAY_APPR_PROCESS_START   356255 non-null  object \n",
            " 29  HOUR_APPR_PROCESS_START      356255 non-null  int64  \n",
            " 30  REG_REGION_NOT_LIVE_REGION   356255 non-null  int64  \n",
            " 31  REG_REGION_NOT_WORK_REGION   356255 non-null  int64  \n",
            " 32  LIVE_REGION_NOT_WORK_REGION  356255 non-null  int64  \n",
            " 33  REG_CITY_NOT_LIVE_CITY       356255 non-null  int64  \n",
            " 34  REG_CITY_NOT_WORK_CITY       356255 non-null  int64  \n",
            " 35  LIVE_CITY_NOT_WORK_CITY      356255 non-null  int64  \n",
            " 36  ORGANIZATION_TYPE            356255 non-null  object \n",
            " 37  EXT_SOURCE_2                 355587 non-null  float64\n",
            " 38  EXT_SOURCE_3                 286622 non-null  float64\n",
            " 39  OBS_30_CNT_SOCIAL_CIRCLE     355205 non-null  float64\n",
            " 40  DEF_30_CNT_SOCIAL_CIRCLE     355205 non-null  float64\n",
            " 41  OBS_60_CNT_SOCIAL_CIRCLE     355205 non-null  float64\n",
            " 42  DEF_60_CNT_SOCIAL_CIRCLE     355205 non-null  float64\n",
            " 43  DAYS_LAST_PHONE_CHANGE       356254 non-null  float64\n",
            " 44  FLAG_DOCUMENT_2              356255 non-null  int64  \n",
            " 45  FLAG_DOCUMENT_3              356255 non-null  int64  \n",
            " 46  FLAG_DOCUMENT_4              356255 non-null  int64  \n",
            " 47  FLAG_DOCUMENT_5              356255 non-null  int64  \n",
            " 48  FLAG_DOCUMENT_6              356255 non-null  int64  \n",
            " 49  FLAG_DOCUMENT_7              356255 non-null  int64  \n",
            " 50  FLAG_DOCUMENT_8              356255 non-null  int64  \n",
            " 51  FLAG_DOCUMENT_9              356255 non-null  int64  \n",
            " 52  FLAG_DOCUMENT_10             356255 non-null  int64  \n",
            " 53  FLAG_DOCUMENT_11             356255 non-null  int64  \n",
            " 54  FLAG_DOCUMENT_12             356255 non-null  int64  \n",
            " 55  FLAG_DOCUMENT_13             356255 non-null  int64  \n",
            " 56  FLAG_DOCUMENT_14             356255 non-null  int64  \n",
            " 57  FLAG_DOCUMENT_15             356255 non-null  int64  \n",
            " 58  FLAG_DOCUMENT_16             356255 non-null  int64  \n",
            " 59  FLAG_DOCUMENT_17             356255 non-null  int64  \n",
            " 60  FLAG_DOCUMENT_18             356255 non-null  int64  \n",
            " 61  FLAG_DOCUMENT_19             356255 non-null  int64  \n",
            " 62  FLAG_DOCUMENT_20             356255 non-null  int64  \n",
            " 63  FLAG_DOCUMENT_21             356255 non-null  int64  \n",
            " 64  AMT_REQ_CREDIT_BUREAU_HOUR   308687 non-null  float64\n",
            " 65  AMT_REQ_CREDIT_BUREAU_DAY    308687 non-null  float64\n",
            " 66  AMT_REQ_CREDIT_BUREAU_WEEK   308687 non-null  float64\n",
            " 67  AMT_REQ_CREDIT_BUREAU_MON    308687 non-null  float64\n",
            " 68  AMT_REQ_CREDIT_BUREAU_QRT    308687 non-null  float64\n",
            " 69  AMT_REQ_CREDIT_BUREAU_YEAR   308687 non-null  float64\n",
            "dtypes: float64(20), int64(39), object(11)\n",
            "memory usage: 193.0+ MB\n"
          ]
        }
      ]
    },
    {
      "cell_type": "code",
      "metadata": {
        "colab": {
          "base_uri": "https://localhost:8080/"
        },
        "id": "hNWM6Dtf5Zwa",
        "outputId": "c2267e63-5153-4cfa-c554-18122bd47d39"
      },
      "source": [
        "# getting no. of cardinal (numeric) columns and categorical columns\n",
        "num_cols = X_combined1.select_dtypes(include=np.number).columns.tolist()\n",
        "cat_cols = X_combined1.select_dtypes(include='object').columns.tolist()\n",
        "        \n",
        "print(f'Cardinal columns = {len(num_cols)}')\n",
        "print(f'Categorical columns = {len(cat_cols)}')"
      ],
      "execution_count": 6,
      "outputs": [
        {
          "output_type": "stream",
          "name": "stdout",
          "text": [
            "Cardinal columns = 59\n",
            "Categorical columns = 11\n"
          ]
        }
      ]
    },
    {
      "cell_type": "code",
      "metadata": {
        "colab": {
          "base_uri": "https://localhost:8080/"
        },
        "id": "0rt6gG4t51Y0",
        "outputId": "d3abed9d-dcda-4954-ee5f-04ee29e5d6d3"
      },
      "source": [
        "# imputing cardinal columns\n",
        "num_imputer = SimpleImputer(strategy='mean')\n",
        "X_combined2 = X_combined1.copy()\n",
        "X_combined2[num_cols] = num_imputer.fit_transform(X_combined1[num_cols])\n",
        "\n",
        "# imputing categorical columns\n",
        "for col in cat_cols:\n",
        "    mode_val = X_combined2[col].mode()[0]\n",
        "    X_combined2[col].fillna(value=mode_val)\n",
        "\n",
        "X_combined2.info()"
      ],
      "execution_count": 7,
      "outputs": [
        {
          "output_type": "stream",
          "name": "stdout",
          "text": [
            "<class 'pandas.core.frame.DataFrame'>\n",
            "Int64Index: 356255 entries, 100002 to 456250\n",
            "Data columns (total 70 columns):\n",
            " #   Column                       Non-Null Count   Dtype  \n",
            "---  ------                       --------------   -----  \n",
            " 0   NAME_CONTRACT_TYPE           356255 non-null  object \n",
            " 1   CODE_GENDER                  356255 non-null  object \n",
            " 2   FLAG_OWN_CAR                 356255 non-null  object \n",
            " 3   FLAG_OWN_REALTY              356255 non-null  object \n",
            " 4   CNT_CHILDREN                 356255 non-null  float64\n",
            " 5   AMT_INCOME_TOTAL             356255 non-null  float64\n",
            " 6   AMT_CREDIT                   356255 non-null  float64\n",
            " 7   AMT_ANNUITY                  356255 non-null  float64\n",
            " 8   AMT_GOODS_PRICE              356255 non-null  float64\n",
            " 9   NAME_TYPE_SUITE              354052 non-null  object \n",
            " 10  NAME_INCOME_TYPE             356255 non-null  object \n",
            " 11  NAME_EDUCATION_TYPE          356255 non-null  object \n",
            " 12  NAME_FAMILY_STATUS           356255 non-null  object \n",
            " 13  NAME_HOUSING_TYPE            356255 non-null  object \n",
            " 14  REGION_POPULATION_RELATIVE   356255 non-null  float64\n",
            " 15  DAYS_BIRTH                   356255 non-null  float64\n",
            " 16  DAYS_EMPLOYED                356255 non-null  float64\n",
            " 17  DAYS_REGISTRATION            356255 non-null  float64\n",
            " 18  DAYS_ID_PUBLISH              356255 non-null  float64\n",
            " 19  FLAG_MOBIL                   356255 non-null  float64\n",
            " 20  FLAG_EMP_PHONE               356255 non-null  float64\n",
            " 21  FLAG_WORK_PHONE              356255 non-null  float64\n",
            " 22  FLAG_CONT_MOBILE             356255 non-null  float64\n",
            " 23  FLAG_PHONE                   356255 non-null  float64\n",
            " 24  FLAG_EMAIL                   356255 non-null  float64\n",
            " 25  CNT_FAM_MEMBERS              356255 non-null  float64\n",
            " 26  REGION_RATING_CLIENT         356255 non-null  float64\n",
            " 27  REGION_RATING_CLIENT_W_CITY  356255 non-null  float64\n",
            " 28  WEEKDAY_APPR_PROCESS_START   356255 non-null  object \n",
            " 29  HOUR_APPR_PROCESS_START      356255 non-null  float64\n",
            " 30  REG_REGION_NOT_LIVE_REGION   356255 non-null  float64\n",
            " 31  REG_REGION_NOT_WORK_REGION   356255 non-null  float64\n",
            " 32  LIVE_REGION_NOT_WORK_REGION  356255 non-null  float64\n",
            " 33  REG_CITY_NOT_LIVE_CITY       356255 non-null  float64\n",
            " 34  REG_CITY_NOT_WORK_CITY       356255 non-null  float64\n",
            " 35  LIVE_CITY_NOT_WORK_CITY      356255 non-null  float64\n",
            " 36  ORGANIZATION_TYPE            356255 non-null  object \n",
            " 37  EXT_SOURCE_2                 356255 non-null  float64\n",
            " 38  EXT_SOURCE_3                 356255 non-null  float64\n",
            " 39  OBS_30_CNT_SOCIAL_CIRCLE     356255 non-null  float64\n",
            " 40  DEF_30_CNT_SOCIAL_CIRCLE     356255 non-null  float64\n",
            " 41  OBS_60_CNT_SOCIAL_CIRCLE     356255 non-null  float64\n",
            " 42  DEF_60_CNT_SOCIAL_CIRCLE     356255 non-null  float64\n",
            " 43  DAYS_LAST_PHONE_CHANGE       356255 non-null  float64\n",
            " 44  FLAG_DOCUMENT_2              356255 non-null  float64\n",
            " 45  FLAG_DOCUMENT_3              356255 non-null  float64\n",
            " 46  FLAG_DOCUMENT_4              356255 non-null  float64\n",
            " 47  FLAG_DOCUMENT_5              356255 non-null  float64\n",
            " 48  FLAG_DOCUMENT_6              356255 non-null  float64\n",
            " 49  FLAG_DOCUMENT_7              356255 non-null  float64\n",
            " 50  FLAG_DOCUMENT_8              356255 non-null  float64\n",
            " 51  FLAG_DOCUMENT_9              356255 non-null  float64\n",
            " 52  FLAG_DOCUMENT_10             356255 non-null  float64\n",
            " 53  FLAG_DOCUMENT_11             356255 non-null  float64\n",
            " 54  FLAG_DOCUMENT_12             356255 non-null  float64\n",
            " 55  FLAG_DOCUMENT_13             356255 non-null  float64\n",
            " 56  FLAG_DOCUMENT_14             356255 non-null  float64\n",
            " 57  FLAG_DOCUMENT_15             356255 non-null  float64\n",
            " 58  FLAG_DOCUMENT_16             356255 non-null  float64\n",
            " 59  FLAG_DOCUMENT_17             356255 non-null  float64\n",
            " 60  FLAG_DOCUMENT_18             356255 non-null  float64\n",
            " 61  FLAG_DOCUMENT_19             356255 non-null  float64\n",
            " 62  FLAG_DOCUMENT_20             356255 non-null  float64\n",
            " 63  FLAG_DOCUMENT_21             356255 non-null  float64\n",
            " 64  AMT_REQ_CREDIT_BUREAU_HOUR   356255 non-null  float64\n",
            " 65  AMT_REQ_CREDIT_BUREAU_DAY    356255 non-null  float64\n",
            " 66  AMT_REQ_CREDIT_BUREAU_WEEK   356255 non-null  float64\n",
            " 67  AMT_REQ_CREDIT_BUREAU_MON    356255 non-null  float64\n",
            " 68  AMT_REQ_CREDIT_BUREAU_QRT    356255 non-null  float64\n",
            " 69  AMT_REQ_CREDIT_BUREAU_YEAR   356255 non-null  float64\n",
            "dtypes: float64(59), object(11)\n",
            "memory usage: 193.0+ MB\n"
          ]
        }
      ]
    },
    {
      "cell_type": "code",
      "metadata": {
        "id": "ooLnleefEYjQ",
        "colab": {
          "base_uri": "https://localhost:8080/"
        },
        "outputId": "094d90f2-3a53-449e-9778-b930c29c9ea2"
      },
      "source": [
        "# imputing 'NAME_TYPE_SUITE'\n",
        "str_imputer = SimpleImputer(strategy='most_frequent')\n",
        "X_combined2['NAME_TYPE_SUITE'] = str_imputer.fit_transform(X_combined1[['NAME_TYPE_SUITE']])\n",
        "X_combined2.info()"
      ],
      "execution_count": 8,
      "outputs": [
        {
          "output_type": "stream",
          "name": "stdout",
          "text": [
            "<class 'pandas.core.frame.DataFrame'>\n",
            "Int64Index: 356255 entries, 100002 to 456250\n",
            "Data columns (total 70 columns):\n",
            " #   Column                       Non-Null Count   Dtype  \n",
            "---  ------                       --------------   -----  \n",
            " 0   NAME_CONTRACT_TYPE           356255 non-null  object \n",
            " 1   CODE_GENDER                  356255 non-null  object \n",
            " 2   FLAG_OWN_CAR                 356255 non-null  object \n",
            " 3   FLAG_OWN_REALTY              356255 non-null  object \n",
            " 4   CNT_CHILDREN                 356255 non-null  float64\n",
            " 5   AMT_INCOME_TOTAL             356255 non-null  float64\n",
            " 6   AMT_CREDIT                   356255 non-null  float64\n",
            " 7   AMT_ANNUITY                  356255 non-null  float64\n",
            " 8   AMT_GOODS_PRICE              356255 non-null  float64\n",
            " 9   NAME_TYPE_SUITE              356255 non-null  object \n",
            " 10  NAME_INCOME_TYPE             356255 non-null  object \n",
            " 11  NAME_EDUCATION_TYPE          356255 non-null  object \n",
            " 12  NAME_FAMILY_STATUS           356255 non-null  object \n",
            " 13  NAME_HOUSING_TYPE            356255 non-null  object \n",
            " 14  REGION_POPULATION_RELATIVE   356255 non-null  float64\n",
            " 15  DAYS_BIRTH                   356255 non-null  float64\n",
            " 16  DAYS_EMPLOYED                356255 non-null  float64\n",
            " 17  DAYS_REGISTRATION            356255 non-null  float64\n",
            " 18  DAYS_ID_PUBLISH              356255 non-null  float64\n",
            " 19  FLAG_MOBIL                   356255 non-null  float64\n",
            " 20  FLAG_EMP_PHONE               356255 non-null  float64\n",
            " 21  FLAG_WORK_PHONE              356255 non-null  float64\n",
            " 22  FLAG_CONT_MOBILE             356255 non-null  float64\n",
            " 23  FLAG_PHONE                   356255 non-null  float64\n",
            " 24  FLAG_EMAIL                   356255 non-null  float64\n",
            " 25  CNT_FAM_MEMBERS              356255 non-null  float64\n",
            " 26  REGION_RATING_CLIENT         356255 non-null  float64\n",
            " 27  REGION_RATING_CLIENT_W_CITY  356255 non-null  float64\n",
            " 28  WEEKDAY_APPR_PROCESS_START   356255 non-null  object \n",
            " 29  HOUR_APPR_PROCESS_START      356255 non-null  float64\n",
            " 30  REG_REGION_NOT_LIVE_REGION   356255 non-null  float64\n",
            " 31  REG_REGION_NOT_WORK_REGION   356255 non-null  float64\n",
            " 32  LIVE_REGION_NOT_WORK_REGION  356255 non-null  float64\n",
            " 33  REG_CITY_NOT_LIVE_CITY       356255 non-null  float64\n",
            " 34  REG_CITY_NOT_WORK_CITY       356255 non-null  float64\n",
            " 35  LIVE_CITY_NOT_WORK_CITY      356255 non-null  float64\n",
            " 36  ORGANIZATION_TYPE            356255 non-null  object \n",
            " 37  EXT_SOURCE_2                 356255 non-null  float64\n",
            " 38  EXT_SOURCE_3                 356255 non-null  float64\n",
            " 39  OBS_30_CNT_SOCIAL_CIRCLE     356255 non-null  float64\n",
            " 40  DEF_30_CNT_SOCIAL_CIRCLE     356255 non-null  float64\n",
            " 41  OBS_60_CNT_SOCIAL_CIRCLE     356255 non-null  float64\n",
            " 42  DEF_60_CNT_SOCIAL_CIRCLE     356255 non-null  float64\n",
            " 43  DAYS_LAST_PHONE_CHANGE       356255 non-null  float64\n",
            " 44  FLAG_DOCUMENT_2              356255 non-null  float64\n",
            " 45  FLAG_DOCUMENT_3              356255 non-null  float64\n",
            " 46  FLAG_DOCUMENT_4              356255 non-null  float64\n",
            " 47  FLAG_DOCUMENT_5              356255 non-null  float64\n",
            " 48  FLAG_DOCUMENT_6              356255 non-null  float64\n",
            " 49  FLAG_DOCUMENT_7              356255 non-null  float64\n",
            " 50  FLAG_DOCUMENT_8              356255 non-null  float64\n",
            " 51  FLAG_DOCUMENT_9              356255 non-null  float64\n",
            " 52  FLAG_DOCUMENT_10             356255 non-null  float64\n",
            " 53  FLAG_DOCUMENT_11             356255 non-null  float64\n",
            " 54  FLAG_DOCUMENT_12             356255 non-null  float64\n",
            " 55  FLAG_DOCUMENT_13             356255 non-null  float64\n",
            " 56  FLAG_DOCUMENT_14             356255 non-null  float64\n",
            " 57  FLAG_DOCUMENT_15             356255 non-null  float64\n",
            " 58  FLAG_DOCUMENT_16             356255 non-null  float64\n",
            " 59  FLAG_DOCUMENT_17             356255 non-null  float64\n",
            " 60  FLAG_DOCUMENT_18             356255 non-null  float64\n",
            " 61  FLAG_DOCUMENT_19             356255 non-null  float64\n",
            " 62  FLAG_DOCUMENT_20             356255 non-null  float64\n",
            " 63  FLAG_DOCUMENT_21             356255 non-null  float64\n",
            " 64  AMT_REQ_CREDIT_BUREAU_HOUR   356255 non-null  float64\n",
            " 65  AMT_REQ_CREDIT_BUREAU_DAY    356255 non-null  float64\n",
            " 66  AMT_REQ_CREDIT_BUREAU_WEEK   356255 non-null  float64\n",
            " 67  AMT_REQ_CREDIT_BUREAU_MON    356255 non-null  float64\n",
            " 68  AMT_REQ_CREDIT_BUREAU_QRT    356255 non-null  float64\n",
            " 69  AMT_REQ_CREDIT_BUREAU_YEAR   356255 non-null  float64\n",
            "dtypes: float64(59), object(11)\n",
            "memory usage: 193.0+ MB\n"
          ]
        }
      ]
    },
    {
      "cell_type": "code",
      "metadata": {
        "id": "9dTxJt6z8JGA"
      },
      "source": [
        "# creating dummies for categorical columns\n",
        "X_combined3 = pd.get_dummies(X_combined2)"
      ],
      "execution_count": 9,
      "outputs": []
    },
    {
      "cell_type": "markdown",
      "metadata": {
        "id": "EDhRi_tUks47"
      },
      "source": [
        "### 4. Perfomance evaluation"
      ]
    },
    {
      "cell_type": "code",
      "metadata": {
        "id": "fHe-KNRNLNWT"
      },
      "source": [
        "# function for performance evaluation\n",
        "def model_perf(model, X, Y, prefix=''):\n",
        "    Yhat = model.predict_proba(X)[:,1]\n",
        "    auc = roc_auc_score(Y, Yhat)\n",
        "    print(f'{prefix} AUROC score = {auc:.3f}')\n",
        "\n",
        "# function for training and validating model\n",
        "def model_fit_perf(model, X_all, Y_all, prefix=''):\n",
        "    X_trn, X_val, Y_trn, Y_val = train_test_split(X_all, Y_all, test_size=0.2, \n",
        "                                                  random_state=42)\n",
        "    model.fit(X_trn, Y_trn)\n",
        "    print(prefix)\n",
        "    model_perf(model, X_trn, Y_trn, '  Training   ')\n",
        "    model_perf(model, X_val, Y_val, '  Validation ')"
      ],
      "execution_count": 10,
      "outputs": []
    },
    {
      "cell_type": "markdown",
      "source": [
        "### 5. Modeling"
      ],
      "metadata": {
        "id": "xT8AZHo14YQk"
      }
    },
    {
      "cell_type": "code",
      "source": [
        "# function to split combined dataset into train and test\n",
        "def split_train_test(X_combined, n):\n",
        "    X_train = X_combined.iloc[:n,:]\n",
        "    X_test = X_combined.iloc[n:,:]\n",
        "    return X_train, X_test"
      ],
      "metadata": {
        "id": "VUFgC0CU4bYW"
      },
      "execution_count": 11,
      "outputs": []
    },
    {
      "cell_type": "code",
      "metadata": {
        "id": "3rdpxHCaLNWT"
      },
      "source": [
        "X_train, X_test = split_train_test(X_combined3, X_train.shape[0])"
      ],
      "execution_count": 12,
      "outputs": []
    },
    {
      "cell_type": "code",
      "source": [
        "# creating models\n",
        "xgb_c = XGBClassifier()\n",
        "lgbm_c = LGBMClassifier()\n",
        "rf_c = RandomForestClassifier(n_estimators=50)\n",
        "\n",
        "estms = [('xgb', xgb_c), ('lgbm', lgbm_c), ('rf', rf_c)]\n",
        "stacking_c = StackingClassifier(estimators=estms, final_estimator=LGBMClassifier())"
      ],
      "metadata": {
        "id": "NXrGoJNcsir0"
      },
      "execution_count": 13,
      "outputs": []
    },
    {
      "cell_type": "code",
      "source": [
        "# training and validating models\n",
        "models = ['XGBoost', 'LGBM', 'Random Forest', 'Stacking']\n",
        "xgb_auc_trn, xgb_auc_val = model_fit_perf(xgb_c, X_train, Y_train, models[0])\n",
        "lgbm_auc_trn, lgbm_auc_val = model_fit_perf(lgbm_c, X_train, Y_train, models[1])\n",
        "rf_auc_trn, rf_auc_val = model_fit_perf(rf_c, X_train, Y_train, models[2])\n",
        "stacking_auc_trn, stacking_auc_val = model_fit_perf(stacking_c, X_train, Y_train, models[3])"
      ],
      "metadata": {
        "colab": {
          "base_uri": "https://localhost:8080/"
        },
        "id": "sDwUzecTtuy1",
        "outputId": "89bf5b92-ac8c-43b8-8ab5-dc626f29f97f"
      },
      "execution_count": 14,
      "outputs": [
        {
          "output_type": "stream",
          "name": "stdout",
          "text": [
            "XGBoost\n",
            "  Training    AUROC score = 0.753\n",
            "  Validation  AUROC score = 0.746\n",
            "LGBM\n",
            "  Training    AUROC score = 0.790\n",
            "  Validation  AUROC score = 0.751\n",
            "Random Forest\n",
            "  Training    AUROC score = 1.000\n",
            "  Validation  AUROC score = 0.701\n",
            "Stacking\n",
            "  Training    AUROC score = 0.878\n",
            "  Validation  AUROC score = 0.748\n"
          ]
        }
      ]
    },
    {
      "cell_type": "markdown",
      "metadata": {
        "id": "3UT6W5Vwk16e"
      },
      "source": [
        "### 6. Prediction"
      ]
    },
    {
      "cell_type": "code",
      "metadata": {
        "tags": [],
        "id": "LTI_D6s0LNWU"
      },
      "source": [
        "# predicting responses for test dataset using LGBM (best Val AUROC score)\n",
        "target_pred = lgbm_c.predict_proba(X_test)\n",
        "\n",
        "sub_df = pd.read_csv('sample_submission.csv', index_col=0)\n",
        "sub_df['TARGET'] = target_pred[:,1]\n",
        "\n",
        "sub_df.to_csv('sub1.csv')"
      ],
      "execution_count": 16,
      "outputs": []
    },
    {
      "cell_type": "markdown",
      "source": [
        "![image.png](data:image/png;base64,iVBORw0KGgoAAAANSUhEUgAABH8AAACbCAYAAAD7sTcFAAAAAXNSR0IArs4c6QAAAARnQU1BAACxjwv8YQUAAAAJcEhZcwAAEnQAABJ0Ad5mH3gAAFH3SURBVHhe7d0PXFR1vj/+lyADgggDCIiA/FNBcvwTKqJpaVartK6221Zmu6Xf/bZrt733mz3ub9e+d+verN1v9r13W938drVtNbNo1UzRkiShwH8EOoqAIqOACAoMiIMw8uf3OWfOwMwwwIBgOr2eD8eZOXzm/JvP+Xw+5z2f8zlD2gUQEREREREREZFTclGeiYiIiIiIiIjICTH4Q0RERERERETkxBj8ISIiIiIiIiJyYgz+EBERERERERE5MQZ/iIiIiIiIiIicGIM/REREREREREROjMEfIiIiIiIiIiInxuAPEREREREREZETY/CHiIiIiIiIiMiJMfhDREREREREROTEGPwhIiIiIiIiInJiDP4QERERERERETkxBn+IiIiIiIiIiJwYgz9ERERERERERE6MwR8iIiIiIiIiIifG4A8RERERERERkRNj8IeIiIiIiIiIyIkx+ENEdLdqNcJoND1a25Rpdzjj1WJoT5ei4S5ZXyIaAG0NKD2tRfFVozJhgAzWfIkGm7EaxSfzUdqgvL8DNJTlQ3uuGjya6AfrpkW7WpnkbIa0C8rrvjEUI21bOnSB07B40RQEuSnTLVTlvofdOcC0n/wKUwKViUREdGuaqqDNzoC2uA6NyiTAG+GTpiFxagx87ZTHPatC3nu7cTxqHp5+MAaeytSBVw3txztx5BoQ+9AvMSdCZZosVbaiJnJVqeBqmqJoFRWwqH6HqKDq8zb1jPUTkTged4jjsSYej/xyFsKVw9GkAYX7tiOzHIic9zQWxFiXCo3FafgwXYeQOU8iOdZbmdo944VMfHCgEBiRiKVPaBCgTG+VG9iuUKmsj3x77KXtbr50t1PqJOVdV5GYt2wBYryUt3c0+/VY9cnt2Hm0ARi/AL+cGwmrw2+w2atzm3TI3JKGQtGWSFzyJDQjlelEPwCtdcU4fvg4tGUW0VhPX8RMnIvZk4Ju7/E5yG6958+V48g6WeW00TEiojtKUymy/rEbR4pbETAhEfN+lIzkh+ZAEwWUnkzH3m+LxWnbnSoAsffPQWLSAmhGd1alVac+wAcfZEBnUCaYGXTI+ED87VSVMoGIBk4AgiKloE4+qmpNUzoYqlBWbnqpq6mzaeO1oq5GJ54DED6y98CPRDVagwVJiZhzf6xFgKYKWun4ztRZBLG7Yz+t/fmS0/CPwZQZiUjs8giD9wD/IDBouqnHAsbPw5wZs7BgUvhtP7G0W+d6hEPz0Cwkzp2HWAZ+6IekRou9KenQ1rgiZtIcLEhOxiPzEhHra0Tx0d3Yn+tccY4BueyrOjcNx8sZ/iEiGmzV53KQL85+Ih8QldNsDWLCQhASEYvEBx9H8iRPNJ47guIrSuI7kCo4Fpp7IvvRO4mIBlpAYIz8XHa1Wn42a9VXQwrvyM5Vwfqv1ag6J548IxHkb5rSKzdfRN6jQWzwAJ/mDtZ86c7gE474SRpoujxiEXS3f+UeQYidFI9I3957vd0ervCNiIdmvHP1ciDqmRGlBUdQhQBMefAxzJsRi8iQEITHaDAneTHmhAFVOdquP07exVxfFZTXfXOzFiWndKiLjUd8YwVOXzBi5Lhw+AxV/i4YLn+HogpgdOy9GGXumtnWiIr8YziSnYWDmYdxtqwW11qGISDAG25DlDRX87E34xhqVaEIbCpA1lfp+DKnAFdvuCMgyA8ebXUozvkG33x7EDmFl1HX5odRgZ7WlwsY66A7eQxZWd/g0Lf5KL/egqFe/vDzulMKWSKivmu49I0oV4MQP12DQA9loswFnuoQjB4TDj9vT3iqXKzK0lDLaEtjKY6kfYMT1R4IDfOBGwyo/K4IFepIxIe2ofjbNBw8kImTuqtoaPO0Lp/Nn232Q7SqAscyvsKhdFExXm+HOjgIw4caUXUyS5S7ouzV6lBrcEdgiBruyuerT+9Fek4tPEaHwuemaV5FFQ0wNBuhrymFrtj0t5tFIt2JUtQ0NOHm9TpcLi3GWbHMcaKsN2usyMexo4dFHWFeVxXUah+42xTzjRVaHM7IwDeH8lBY3Qj3gFFw1+d1rZ+IfmBcPNrQdKIYF4eOwrhoP7gr068WHxLHR6g4yfZEVXkN1BFxCDIfetfK8V3eRTRMmIrZod6i5DGi7oIWx8Qx/82hLGh1ol3W5AYffzU8zMeiRbkhHcONF4/gy2xR5lwzwNisR3W5Dmc7yiNrPaa1ma+ko4wJCURTgWhrHvpStBWvolEVgFF+HmivKzat61c5KLhcB6hHIdCmbWis1UF7LEu0Mw8h60w5DMah8FL7wdOijUuDqbNO0kT5dckTHZpKcfzgN8i70AS/MUHwNP+kfbMCeV9m4Luym2J6IDyV+sfROsP2+6+ta8WwgMDO3kZ28p1JNfL3pePYObHcsYFolPJid/VYd/Wz7fmL/hpaPQIQaNnVyfY86ZC5fmuAq08wAro711HW216d6+PWiNLDX+KbU6Z1l7dqAM7HeCzRna0ZV8+KNqw+EpOTxsDH6tBxx4iRoxAaGQgfL294mPOsVSzjJM6LesSo8oG/r4d1LMKRdBZlSURbsekYy2xB6L2jMFz6u+08xDEOdzX8fdz73YPn1nv+DI9B4oNTENCYj8zDvXTdba1G3ucfYm+2DvoRkXLXzcjhoqDM3oudGRafbTeiorwCDWV52H9Ih2sqb4R4GE2XNBzVQvvtXhy/3AzXESFQNVWgMHsn0ossLnRo0CFzZwrSci5haPB4JE4Nh/vl40jflYL04jv3gggiot64ukkXN1Sh+GwpGm0GTXb1CkBISEhnw89clt40ve0gpjeI6RUGm2Ed2/QozNwJrV6NyKnxCJAasnL5bHEpmfmzNUU48kUuqls94Rso1qjoCHZ/kYf83P1IO3dNvlY6SKyn7mQadudUdHSZbTWKz5Y3yOMN9F8rqk6I9dqbBV2dNyJFXRLjdw267C+wPTUPVRbb21CcLtIdQaE4xwuYMB7hHlU4vjcD+baXuRD9EKkCEBQlni9UQd9RHFSjSidaZKFhiI8Jl8uB0qudbafGK2WoEM/xwQGiAdsI3dcpSDlwHJdcR2O8OBbHi/KgNCcNKfvyRPlg+kxHuSGNfTKQ7MzXXMaU5e1Huu6a0lYshTZ9L46c0iJj73FUGV3hHaKCsaIQWbvSUSiKLLOGkkzs+EeaaGcOxejYREwJdcelHFGO/CMdbELeYTzCET/WE3UlR5BzrvPLqS48juPldQgYF4sA+UynD3WG+fsva8SIiCnQjBLzO5OFvTstvv9u83MrjNL0cgcGixXz6FI/d5y/iPrdT5xfSecv1fnI2rsTe09YXHpi/qx0nvRVIa65iHpYys8XxbnYrv3Q1ijp+shosFl3y+X043yMxxLd+YZCJf+QqkPx+boug52rfEPkdrWv+cfWm1XI2yeOx+x8UTOOhmZqJEZIQegDKdaXh1mmcw/HlBkxCFDS7cjQdW1TV+Yh4/MjuARxjIW4moJDHfMwx03EPEQZkbV/O/bewqVot97zJyQW08ZGw29IBU6fLkajTyQi/Uy/Hdn2/GmtETu2yoiAe3+EhQnRCAoOQmjUePhdP4Gis03wHTsOAdJHDZX4rrACdUMi8ODi+zE1dhzGxYbD42o+Ss6X4+bYR/HT+ydjnEgfH+GFq6cvonRIoPKrlSiUjn+BI+V+mPaTJbgvLhRBIeGImTAOXnV5yMttgV/8GKgZcSaiu5Cnnx9cxMnX2XMF0BaeR/0NUba6qODh4QE3q58cBKUsVUdqEO1n8auhufzu+FVV+ZW1rhLDNE9i8exxCJXLzUj4XCsRyypHe2AswqWfRMyfveGDiY8mI/EeqXwej5EtZ1FcchE1vklY+sgM0SAfh9jxo3Dz7FmUl3kh/N7R8q8YpnpBjUiNqDe8fBAq0qmN0rRQJP34R0iMl36BFNsZKOY72h1V0rImPogn50zt/IW15jQOflUA49h5WLzoXkRLdUlkPGJHtaE87zuUuY9BXLBI26TD0c9ycNl/CpKXPoQpkaMRGhGLCcF1OH24Qmw1e/7QD50b3IyXcfpiCbzD78Vo6SBtqID2mA5D4+/F5AhPNBUUoUgVionhPqJB2oqr59JxtioSExPHwa+5HGfKGjAseh5+PCcOoeJYHD1mHEKGXkTB2WK4jZqM0BHi7NuizXjvqOFw8w0VbTg1WqRyJywJix9ORLydXj+SHtPazFdiKmPq4DLmQSx5YCpipbZiuAeu5peguPwmxv34p5g7SZQv4+IR6XVVbHspXEaOQ7S/aICKxnnOl0dQrp6GxYvvQ1yY2J7wGEwc54XaPNGGvOmHiRFq6193aRAodZKXL4K8huBGQwMaLB+t7vBWupW5qQOgunIa2vPtpisQmouRte80jBPm48F7lO/K4TpD+f7d4rHgpz/CtCilzghzQcWp0zjdNtJ0HNjJdybKeouTwth7RyGwp3qsS/1sPn/xwZTkJXhIM8bq/OX06Tq4i3WRe+CZz5PaQvGAqNvulc6TpPw8ohanL5Sj1isUGqv1Urh1X+eKgwm1JVIPCNO6y5++lfMxHkt0V3CFj9oPhtIinD2bjxPnrqKpqQWt7u7wEg9Xm24y1WcO4mBBHcJnLsWP58Yh3KKtfPp0pThGTb1kzeki54o2dWIMRgeHInJCLEa1l4t0JWgPEG1q6ZJPc1mid8fYH/8MCxLixLEcJPe8M83DiJh5i5F8rxQ36ZxH3ndlHcvqq1vv+SNzRdDEREwLbETxkePdRnNdR8ZjzsLFmDPWcoBAFTzlhncFbjTJEzqExMZ03kXMxRcBQdKLEIyPtBjWb4Qa8uQLDaaeQ8ZKlJ0RryZNgybQokhx8cbYWI14UYiKKt7EkIjuUm5BmLJwKRbP1SDcw4jik1lI35uCD//2IVLStaiyKUf7RoP4GMvy2RsxGukOOo3Ir6i2/pVhbCwiO5KqEOAvl8SIiQjvvFuYmyi3g6UXdWgYwOulqyuKUSXqgoR7Y8QadlKJhviEUPH34gpIY5Q0VuhEiQ+E3xOLEItBDFwDpXENlDdEP3DeI6XePZ3j/hhrq6ATR3FkkDQ1AEFjxdMZcUzJBYAy3k9omDgpF8/ekZj1YDIemRpkdRLn7mk6MhuamuXn20+0FWMs1slXbIf0HDoekRbjFHn7mcotXYOp77mxqkweU02ToLG+i633WMRPEs9FFahkE/L2Kc9D2t692Gv7KNErCSTeiJ2eiKDGfOSc0aE474jIv5FInNI5kLKjdYb5+w+fpkGkxWXVUp0xNzkZyVEjlCmDwHz+EjYBsZYVlnT+MmGKOCKroC2zHn0rYFykVd3mHRIptlzUfbXKOdEA6c/5GI8lumuIemzO0ifxyIxYkYdLkZ+bibQd2/HB5u344mgx6jp651Wj4mwV4DkFmglSz1czb0ROfwTJyYkI8ZAqys501m1qFULGTUC41KYuuWR9jIpjPN5q7DplHqEJmGZnHiHi78WiXd4fAxT8EcQJiWbWNFH4FuNITg93m2ltRPWFQmhzspC2TxTg//gQu3OVv9lwH2rZlDBzh93JZvU1pkEKdcexX5q/xWN/jmn4wsabLfIzEdFdycUTQeMT8chPn8aKXz6JpfLdvlxRV3wEuz87jgrby7wcFRWALmNPipOmEOlZnBxZnca5Kd1Sbbg7cMvmW9OIhmqpwquDNtO6jN+7LwNa6XKumlY5UNV4Tbo4BQhSW1acEpVovMpbRUT+QZBu+lV9uU603VpRXZkvJoqTPTlI4oqA4HjxLE6epUtJaqogXREWEBbQeRLdZkSdOLnOP3kEmdJx+Nl2bP+6Y7jo70k3bUXVULvlltk1vWm9dTn7bcqW/Tgu/6kRxv6Wr9R3EXPw+C9/iV/aPiaagnYd/OMxa3oQqnPSkH6mEeFzEi1uA+94nWH+/u3VGb4h0uUfvh0BpQFXVwPpyBMLtwpQSVx9TIGVxuo6qxNG72H9+Nm/H/pzPsZjie4qKm+ET5qDxU/8CiuefhzJ0t2+QlpNlzh+XWiKazQ2oFqqB4PVXdrKVsMuGOpM9aWddB1B0nNSfWvB0926bDEvq1aLDKvjRzwytaI0E3X2TaufZB02cMEfwXXkFMyaGYTGc+k4YnHtbYe6Qnyx/UPsPJCDwspGeAaGI3LyPMy5R/n7QGiXihPBJwDho8OtH5Hx8jhDYSN4zRcROQdXUWEFyHf7ehKPzw4XLa485J7vNvzed672gzzfp1a5vvNEgKhDbMv52InSbYD95d5HrW1Wv6tYczUPbUv0Q6f07pHH/dGbevZMEI1Y5cBXBQQhUrSsLkm9CfTSnb/MvYKEpgoc+fwDpOxNh1YnTrD9xXEYl4hHZkj9D+4+5jJDHdC1bIkU23VX3WLcGbgMhUql6vro8h24wt3LHAjxhPcw6/J9QOoM6hMeS3S3cvX0RYh8t6/H8Yh0F90LmciX7mrebgoS3xbmZQ0T9bPN8RMeFgvNDHEM+fcv+DugwR9JwMR58m3RdF9nIa9KmSgzovR0Jkobw5H4mDhJSV6AWQnSJQYhUFvdseYWDfOWuzxiZIzNbSE7H7GBgxa3JyIaRA0oPamF9mSp3d6Vvqa+2KhotGnAikrEis1A0R0qG7rO95o4GZSeXe+UEJBo2PtKz97iJNN+Ga+ZFC7/curpbToBbWi07VveioZa06+SRGTu3ZOPquIqXBLFR2RwQOevkF5BCAsV5Uq5DsWV0nFj7hUEVJ87Au0VT8Q/9Es8+ZNkzJkhjr/xkQi4S8fRMpcZ/qLhb79scYJbjDsjgw7Hj4q8GRWP+MBG5H+Ta9EDdiDqDFFrGI0w2g7wbKcu7fe1Bebzl8bmLoPOoqnRVDf7estBqrsBjyW6KxirUCi1q4uquh53Ui9xZUgD+RJmL2/IRUl9o1UPPFlbqygfRBkhFRE9pTM2m6ZF9HIsm+fhHY5Yu8ePeIyx7SPomAEP/kiFa+zseaIAK0VpmTJJ1gKjPBaFLwKs+kA1QG8VJLpF3qKREiaeC/O7jD3UUJKHIyfzUXrttsXtiIgGVGPFERw5mofiK7blmBEVpaaARuQIpUJwFSd14klXfMkiqNOKqnP5pstjbTWK6dKvGx1E2rNn5Dv7hIcEDHKjsxkt3RXNN61/bQkIkcY/0CH/nM3dDm5WIf/o8Y5KXBrPQ9r+woIS66BWg/jsSeU1ESm9e4C8b7PE8R6CMKvbV3vLl3mhRJQ9Z8Rbi15BrTely2l84e9neRbXirqaPjTsjC3Wx3FP+pK2H7yDwhAunosKbIcvaIAu9wi0p0vRMJgrQP1gRGleFoobg5A4ZRYSk6YhoFEr2vud9YPDdYby/XetM4qR/sEH+CBTuTOxm8pUHxbqrC6zbijOR5HyugubeqwL8/nLmTMosbj7nFwP64rlHndTRD08cHqocwcAjyW6K7i2ouGUqNuO56PUOqMCbQ0ovSC1lj0RMEI64gMwerJ4rtGi2LatnLsbH3yQgnz5TnvdpRO5/2KRfHln+JggOeDcPWUeF/K7tPdbr+TjSI4WhVe6hqscMQjBH8E7BonzYkwFYwex44Kl6JkWx48WorSiAhUVOmi/2o+i5oEszLwx9l7T2EPpqWnIKy4Vy6mQbze89ytRwOuM8DTfBpmI6K6ilG+owvHPUvDFt6JMk3sCHUH6P1KwN1eciAVOwxRpAA+JfwhiAsVzWSZ2783E8ZPHkbU/BVm1nqZxfGyFBqHh6F5kniwWZbRoKGfuR5oyzwSrAecGlqeX1ESsQM5h0SAUy+64PbSHJ3ylTZHWW1R0+RWm31BcQ2KRONYTVTlp2J+ZD51Un5QV4siXacg6WYRqN29TrwX/eCROEjNQtj//QgVKi/OQlpoP17Ec84eog9K7R+YfLhq6ymtFQFBkR5vOsleQemS8mC4du3mm47CiFIWH9yP3siPlhSeGSSe75TnIOizKsWKbQeWt9CXtLRgxFlMSTMMX7P0qD8Vl5rbqXqSJMkjX4glPNiFvn8pcpO8T5brY96a6zvwohPneLa3lucg804ig6bMQ7y/qh0CNXO5XSwGGq6Zc4nCdoXz/XeuMdEiDoGtileNAFYywCeJVoxZ7d6ThiFinI+kp2H2h1TSeh6Vu6rGuzPV7KTI//wLH5fOXznrYc6w0BsnAZL5u69yBxGOJ7gauIYhNjIGnFDfYnYL0o0oZk5OFL1K2I7NEHC9jZ2G81JaGK0LiEhHj2QjtvhRxXNq0lcMSTG1uq3SiTX1aJ9eNxblp2CuNhye106N6qyPN8xDt/QP7lXmI8qjoCPYfyIK2sBruXv3rOjc4wR/BO2aaXNBa8r1nHh6ZGIKG05n4Qh6x/wgqRs7F3PiBPalwDZyCHy2ZhZihYoelfyHfGSDtaBVcYxKx+JEpHb9YERHdbeTy7afzoBEnQqVn8nDkqNQTSIviWleET5qHxxdalnEB0Mx/BJoQTzRWFCLvaBH0volYMCMSdke8UUVi2vzxQEG6KKNFo7iwAq5Rg19ueo+fJdcNuCga0GJbKqSR7CSiUp76o1mIHFGFQtGQzyqpVrrleiNm7mIsmBSAhsIs091g9mdCe11s77xkzI0y1z2i8pwmpQuHq9j+rAN78cWRS/CeOQ/TwjjmD1EnpXeP4Blp6jFnxT8IMfIL615BqrBEPJIUCdeLx5W7Monj8GYs5k6XTi57I/UUl8onUZZJv7yerIDlPZys9SXtrXBF0NQfYWlSDFwrjyN9v7RN4uS+0hUxMxbjR5Mt7/BCg66xTr7cMF+U/6a6zvwoQ4PU4+ZmFXJFndHoqcG0ePN3I8r9e8Q5gHTSlJWPavnSLMfrDPP3r6pT6oz049AhHNMWPo7EUPO3r0L4jEcwSzqBu6aDVqyTri0ej8yR7o5po9t6rKuO8xePauTJ5y9SPdyAgEkLsHiu9Z3KbkW3de6A4rFEdwfvmHlYmpwojjvpDrpKGZObj9IWX5FXk7F0buePH1IHl3mLF8htcF2Oua1cB1XsHDz+YGznMdqRrhGF2Wki73+B9BwpFjELS0U73eoOeN0xz8O/QZmHKI8ytGjw12Be8lxE9vPy6iHtgvL69mlVrolzVWGwbwwjXaMrB7Rvw7KIiG4rc1kquKpUPTekboqyUJSDrg6G/OWyc4i9gTUHkXTNdKur3WVK6wN72yh9Ru67Lj7XUyGvpHMd6vg+ICIHmY/D/pYZfSmf+liW9Z80hoOpgO21fKW7h6N1Rsf330s6qR6GY+cY3dZjdpjPXwa1zuqhzh1YPJboLiHqF6McGemtfBDMaXuLMTiarifmeQxAu/z7Cf4QEREREREREdFtwd8/iYiIiIiIiIicGIM/REREREREREROjMEfIiIiIiIiIiInxuAPEREREREREZETY/CHiIiIiIiIiMiJMfhDREREREREROTEGPwhIiIiIiIiInJiDP4QERERERERETkxBn+IiIiIiIiIiJwYgz9ERHcR4xUtcrRVMCrviYiIiIh+uIwwGAzyw9iqTBpwncswONAIN/YhbY9aLbZNmXQrhrQLyuvvUSFSHn0ZW5e9hT1PxCrTeqHXImX9Omw9pkfSy1vwuzlq5Q9ERM6qBLt+9Vu8fzkJq//2O8wNUCYPpCZRwbS6wctLpUwgIqfHNpWVwo8fxcvbluOtPY/DwVYpDQbmSyvMl0RdGUtS8fYfNyL7sjJBrcGSlc/j6Tlh6K4lazqWlDf2zF6NLf86F6YSx4iyzA+xcdMuaPXyBCEISc+uxotLY+GlTDEzlmfgw3c3Y1dH4iAkLHsRq5/QdElruJiBrX9Zh9QiYPm6PXh8vPIHRdWx9/HOeovljkrCc//8IpZMsJ2T4+7Cnj8G8QVsxMvPrMGBpjBEKVOJiJxfFB5a8zu8+PunMXMwAj9C4WdP4In1h9FRvxGRE2Obiu5EzJdE5IArGXj7txtRm7Aaf97yMT7+eAv+vEyNQ2+twTvfdt+SDZu9FmvX2nu8iEWhgHqUuiNQo//2Hax5KxvBP3sLmz42LeOvv5+L2r+9jHVfVimpFGJ93vn9OhSMWY63Nnemvb5tDV79tKSz506rHtpPX8OvX9iMMnf7oVzjma144z8OQfXoWmW5m/CH2bV4/19fRUpx//sA3X3Bn6JU/GZTGTSvbsGmf3kIwcpkIqIfAq8xSVgws/tfM4iIHMY2Fd2JmC+JqFcG5Hy2Gdn3vojVv5qLKLUXvLzUiHr4Rfz+CTUy3tsLbTcxEq9QDTSaro/opvPILk/A8gUapZ1dgkOfZkD97O/xT4/GIsjLtIywmcvx62ejkLMtQ6QwM0L7xWZkxK8W67MAsYGdaVe/kIDCLQegNZhS6rM2Yk2aH5avfxdrn5lmmmilDGnvp0C/dDV+9zONstwgJDwj5j27EFs/zIBN2Mlhrq8Kyuu+M5Qhe+cWbNy4Af/1biryyqrhHhGPiBGupr/rc/D+mxtQETYf4/xMk0xKkPpv6/Ct11RMGT1MvK9G/vY0aDUP4ae++fj7n/8P/nPdRqTm1qDJOwRjw3ygzFEYgft+sgT3jRGfa7yIb3dnA7OU9z2xXNeP05BfasCwUREI87U4hZKicKl/x/v/vRH/5y//wLf55TCOugdxI6U04gvd9m945+uhuCcxAsNNn1Dokf3u69h4diTu0wRZrCsR0cAq2bMG677xwdSpIZBKPdv3Zvpj7+P1/1eByAfGKd1WhZ7KbKW8PnCqCtWXy3A+LxvpXzdZf96KHjmbXseGS5GYry7A++vfwYY//QWf515EtUcE4sdYltuCvWWHjUOEuQwuT8O6dSkwRN2HaF/TJEnV13/Bm387hqGxMxDhrUwUSnaL7d7bhnFJ0fBRphFRX/WzTdVje8mCI20viYPpDBez8dnfN2LDX/8LG/fn4WK1OyLGRcDHIllHmTi+CenvrsN/ibSfHMxHedNo3BMXYBM4N6Ls8A5s+fN/4nVpO87rMTw6HsNLU5B2ahIeeioeHZ0seyo/aYANbr60zEdy3rg2DCGRYVb5SHYX5Eu7y44Tyx6qJCByVgYtPn/jC4x8ehUesSobXBEwcijyP92FodOXIN7hnvIlSP3Pd1A4bxVenG0+n1cjes5iPBAXBJVtUX/1BHYd9MN88/FoyMOufz+KKf9zFZKCrBMPj0zC4p/cgxAPFVxdgDZVBH788wWIV4sjvyYf2w9oMemhpzrXtSQdGz68gAdXPA+N1foPR8jwJqRsO4dxD92HCE9lch/0v+ePsQQpf/gNNp7ywv3Prsbatc/jIf/z2PzrN5Fmvuau1YCqPC0MXQZeMor9o0VVk/LW7OJevPPvB2CY/DRWr/0Dlidcx4E3foM1HxeKTygCwhDW18vcmgrldX0z/TomPf4i1q5+GkmuJ7HxhVeRUmSesx7Zf/4t1uzRI/YxkWbtajx973Wk/uuv8f4JKY0KsfHR0H51CFrz9pldzkHaPi3Cxkbz13giGlRGUdlpa5SfDgTb9x2aqqDNsxgcrrcy2ysa9//057hfI15HzMQi8frnP9UgSP6wfYYaseySA9j47xkYPvPneHHt77AkrBa73lqD949ZrJNSBm88BSQtk5b9HO73Est+4ddYl6n8dhEahvAL2ThUaPlbhh6Fxw6I7TiA7HOW3XdLcDJdi+uizA1TphBRP/SnTdVre0lhe9zbbXsJDrXRRBFWlIJXX9iIk65JeHr1Wqx99n4ML96M3/x6HTKuKIkEuUy8koNP3tiMkqhFeH71H7BiugrH//YyXt3d+RutSInCj9fgN28cwPWE5fiDtB2TDTjw7+9g70UliZkjbV4aOIOYL23z0eplScCpjfjNH1JQaHlechfkS2Oxsmyv+/GctOz/+RCCpGX/Ma3fvQKI7hqXS5CNKMSG2vmJclQYJoky4XyF40eCQbQ3dxVZ9voxUUm9brqc4Is29uFs4MHQznaovD5JiIsWiQ3i75mp2LUzDdklehhdVfAS8zEHkLzE+ql7+N1AX3FetHSTEBWqTLCgCo0Wf8lGqUX50ifSgM/9kr+lPTn5jfZDVcp72fX2k5/vbM+6cN309uqh9jeSk9s/KTS97VTQ/omY/kZGrdX75ORX2w9UKJMUlRlvtS9PXt2+94IywZIy/8752NPcfvLvy9uTX9zSXnBDmSQT09+Xpu9sPy+9rTLNa0u+/McO5zO2tB84qcy/+WT7luXJ7a+mVZreKyrTXm1PXr6l/WSzMoGIaJAUbBdl5R8PtXeUnjbvzWoz3hBl6ieidFU4UmYL3c2vq9r2Q3+Uym3beVaapnfMo7syWJSvO1aLsvPd9uP1pvcF20U6y2VfP97+bvLv29/444vtyX89LtZWUXGg/ffJL7bvlAtvIhoQDrWpBEfaS+bj/iVRBtm0vQo+FMezue3laBtNaX+9+GGB+IuFlvPtO19Kbl9uUT7IZZgoH7bkW6ZUlrvcokwU5cirycvb38qwbtOZpkvz6Hv5SYNgIPOlko9Wb7fJRzcK2re8KPLXDnOlcnfky4IPxfu1h0Sta6H+ZPveHVntpcyW5OwKPzGVy1eV91ZEW3StOD7Ese4Y5Zj9+0nrY9lSc237+ZMn209m721/9w8rRP0m2q8WdULtN2/Jx+dxsV6/F+XC8lW/b//9SyKdOG6X/962LrQgb4d1vKRLG96KKK8cKRO70f+ePyp3qFGJ0krLX5y9oHl0CZLG9HME6oWLkDRKea0ImpOMZHUhsq1+De4DYyFyPtUj6bFkxHoo02QqaJa9i4/fWGQaSM7NDW7iqdwmQhg1ZzkWaJSIokqDaQvVyMnUWkTUq6D9NgfqBychlt1+iOhONRhltmThAiQEKq9lQYidngR8W2UqJ7stg0X5+vDPsUifipxC0zpFxd4vPqdFwTX5LYzntEiNSsDPfzIL6n1anFd+bNWfy4FWPQtxHAWU6PZzpL2kHPdLnv5Jl7ZX7LxkaEoO4aTU2cHBNprxTA5S9ElY+nCsdQ9r1yg89Pgi6PfloMCyaIu6H7MmWP12i9gpCaLwOI+qatOUKu0h5KhFG3OOTf/GUUlYtFB5bTZY5ScNHAfypSkfLcHypTb5yCMWDy3UoCTjpGn8jrskX6pUYruqSlFluYwRGixamtSPnlNEdxf91VLllT3iOOuhZ42t7nr9WLmmxSdr1mDNGxuRWhWNJQuSEO2v/E3SdlP8txfvvF2AhH/7GFvWr8XadZuwZ/NqaMq24o2/ZsPRm6noqwqUV/a5K8/90f/gT8xcPP+gASlrnsDK1X/B+3syoC2/tfvPR4X4dbkFmnQiERQPaPX9vPfMNb18AhIdZKdLmEoaPEn5itUJSH5Gg4I/r8QzL7yGjdukblpVMNpcshY7fQmi8iwu/bqsxaHvorBkdg+ZhYjo+zYIZbZMPbxLuW11XXRPZbBXGOJmAtkXTY111YQELMEBaJVgUEnhIahnxiEqMhYL1IdQqJOmGnA+PxvqB2N5Bxii74Mj7SXluM/+8DWs+TfRWLZ8rN+FMnGKfVNqJzvYRjNck1MhyM7YDV4RcXIX+BLLy69Ee7LLHF2tm8t6vRaIF21M5X0nL4RFSde/Whis8pMGjgP50pSPsrH1dZs8KR7v7CkTlc5N03d6l+TLqLnP46EbKVjzxEq8/Of3kZqpRdk15kr6YVCPDFde2SOOgy7DznSnBAdSUqFe9nPMtemEYiVgLn63Zw/2iMfHa+bCLW0NnvnXFJRYHXJ6xD39IpbEWLSMA+fixf+1BPg6FTkOXiasDopTXtnXrDz3xy3c7SsISb/9K7asW40l8cD5jK1Y82tRKa55Hzn9vAZtuEcPYWqHv8D+UiH2Z2vx7rt/wPKZQdCf2YWNv12Jx379JlItv9WoSbg/Sou9x0zX50oRem3U/ZjEsxAiuqMNfJl960QD2lVUla1KGauKhmYhkJp/XlTbJSg4rMf9saJwVcVi0gN6ZBWKctdQgJx9wP0am19aieg2cbC9JIRFJyBhss3j3gVY8uxziBqhJLpVcktWP8jtxDux/CRrjubLMETb5knpMW8Jnns2qmtwpr9uR74MTMI/rd+Ct15egjicx6EP1+A3y1ZizaYcOXhF5NTc3BCFStQqvcWt6VF6GEgK6WnkShPD4VS8X5SEpQ863q70Ck3C8pdeRELRVhw4YfrBUuUhlR5JSIrtWopI4/TEQQu93XXtyjSvWly37NVndqUK5eLJbnDaAbcQ/JGooB4/F4ue/SdTt6Ytf8D913fhtVSt1a8hzQ4WfNqKKju/ouhRWwGoVf1s5g/zkgvy2np7e68rr9AELFj2PH63VlTyH/8Vz0dnY+MHlrdTi0LSowkoSZe6hpYge59WnKwk8RdoIvr+iDK2a9lpj2Nl9oDqsQyuQum3oqrsqMC8EHfvIuDrQpSUn0dOySJoxkplvwrR8YtQ8t15lEiXgsE8nYi+Lz22l5TjPmzmIixZusTuI0H6hdXBNlrPDeFSeZDNvraDVa7iAxW10um5DSOqKrTKa0vfQ/lJfdZTvjTlozAkJdvPk0uWJph63NxN+VKlRuycRXjut2vx1nt7sOV/34/ru19DquXg60TOKDQak8S5uLbETqizpAA54ijuPUBSggMfH0DUsiWYaacHH1qNMBgMXa4Eko0Kg9Q/R99kOta8wqKhkYJR1+W31tqUZweZ5pWNAvN4BxYMFwpMZYvlJWd90O/gj6EkA6l7tNaFk1qDhMni+YoecjkYEARpkOoc6ddaC8Yzx5GlvLbydTa0NhEx45ksHCpRY8F4O8Nd2yV9SRY7yisOmgeB1K+7RsGlWwiv+Y9U8bWLT1VrkWZ1r37BK0xsjwbI01ttZ1B8EhKk69W/PCnWLQH3a3qPKhIRDQZ1UBJwWIvzVmWnchcCCw6V2WaiDB2wZmMPZbDxRDbSkICE2M4y1CsqDkl6Ue7vyYF2YQLilA6h8vS8bHyy7xBgMZ2Ibi+H2kvKcX9IlE1dzovLc5CaWQi9VMg42EbzitXgIaQi7ViXUgTao2nAvQmItRp7rHeh4xdALdpyWWdsSrtrWmR/rbxW9Kn8pO+FI/nSlI8OIVv5pd5S2bFUZJzRm+q+uyJfGlCSmYpUrVWuhHpygjghFut5jbmSnJwqFgk/UyNnzwHrO/VJx1/GLpRELUHCeGWSmGYVH1DIvX5Keuj1cyUD6554Am+b70xrwRTPUCPUV2mQjtLg/ntLRL1ncZdymRGF6XuRjUV2795llzwvPVL2H7Ypg6qQvS8VeHAuEuwFqxzQ/54/1QX45L112LynEFUGg9ihelEIvY+tO4GkmRo5Yi71kpkkvpSSv72BN3dmQ6sVBdeev+C1z0rgJ//dmmbydez601Zkl4uKVMyzSpuCN/+YAv0DzyNZ48ivvOLL3rISTzzxG2ztKDS9kPToc4j9dh3WvZeGwivmdd2Idf/3AFTTE+ReO6pr53Hg43V4d0s2yvRSGtPyN27TImqZxrpnz6gkLHiwBO+vfx8ls+83/XpFRPQ9CIpNQAIOYOOf3kfad1pov8tAyp9ew6EbNmNWOFRmA2FRi0RD+QB2fZUDbZG93ph9ZVkGi4a5XL7qUXZ4K177v7sQZHuNdYAGSbNLkLovG0nx0eLTigBRyU/JQfZhPR6aHNc5nYhuK8faS6bjPmjfa3i1o+0l0hWlYeN/vYZPckTZIjfrHGujYUQSFq2MRfb/XYeNmSXQS2WYvgzZ217Dup1BWP7kXDtjpPRMpUnG8w+IxvUf30SKtkpeP315Nrb+aReuSwEDSw6Wn/T9cShfyvkoCKn/8So2fmX+LqtQ+NVGvPMfn+B4tVE5Abw78mVt/ifYuG4zUkVdLaUz6EuQ8cFW7JIuPZnAXEnOTgXNIyswV5+CN95KQY4UP7gijgH5+AMWLXtIqY/sxQckvfT6kYyai58vk47xNXIso0QqC8Qxrs3cqsQoVuChjhhFEOY+uRyqj9/Aa5uUcuNKITK2vIk3tlVh7stLkOBw49U0L8sySF+uReqf1+Cd72Lx3KNJ/W4HD5Fu+aW87iMjyjI/xMZNu9ARdFaHYe7PVuPXj0Z1rlBTGdI2vYmtX5bJUfeg2c9h9a/joF32Ms6/vAW/myMVToVIeVR6vwnPeaTinfXmeaqhWbwCzz89F2E2d4mRVWfgzWfXAR3zMaLk0zX47RbguT+/hSWmb1xmKE7Fu//1CTIuKitrZ10NZ3bhnf96H9kdgzEFIWHpc3j+mSQE2YwYbjj8FzzxxgE89PuP8U8zeRpCRLdH4ceP4uWLq7HlX+d2nHAYTqRg3V+3mgaSU2uwZOXzWIAP8Zu3ovHWnscRK6dysMxGFXI2vYN3dku/ci/B2h3PwX7sXY+MPz2DdWPewp4nTEsw02e+iWesli2WXp6BD9/djF3mhdtdtknVl2uwcj3w4ntrscAiMFSy+7f47aZgrP7b7zC3n794EFE3urSpuudoe6nLcd9Nu86RNpq9Mkw9RjTM//nXWGQxuKa9MlJWlIJHV5+3Lj9EGzXjw43YLJd3klgs+t+rsaTpfazsV/lJA27A86W979JUbz49J8zq1/87Pl92SWd/2UTOrEs9MypBPp6fm24OvdqPD5jO5a870KY0oHDPVnyyx2LAZqks+MnzWLFYA7VtjECUQ+/+dVdnuSGtz9PPdSlfOshlwFYsX7cHj3f0VDKxLdPk4/t/vYhFUXbn5JBbCP6YSd2opFs2AG5eXvY3SiJdM9eqgvnmWj2S0jaJebp5OZbelnRdns0XYWY0GCCtbU/r2pHGQ6TpZj5ERN+HbhuQgtFghKrXQnMQyuw+cKQMJqK7g8PtpSaDKE96T+dY+WAuw9w679h6q4xi/cQse2/3OVh+0vfK0XxpStd7Prrj86WSbkCXTXS3keuZHo6BHuIDjnK0zJD0JW1vBnJeAxD8ISKi28OInPcew2vXf4ct/yupS/CHiIiIiIjInlu82xcREd0W+hy8v+af8c4eNRbNnsTADxEREREROYw9f4iI7gaGQqR9WQDE3I8FGoZ+iIiIiIjIcQz+EBERERERERE5MV72RURERERERETkxBj8ISIiIiIiIiJyYgz+EBERERERERE5MQZ/iIiIiIiIiIicGIM/REREREREREROjMEfIiIiIiIiIiInxuAPEREREREREZETY/CHiIiIiIiIiMiJMfhDREREREREROTEGPwhIiIiIiIiInJiDP4QERERERERETkxBn+IiIiIiIiIiJwYgz9ERERERERERE5sSLugvHbYb3ZMV14REREREREREdHt8tfHjimvHNfvnj/9WRgREREREREREd1evOyLiIiIiIiIiMiJMfhDREREREREROTEGPwhIiIiIiIiInJiDP4QERERERERETkxBn+IiIiIiIiIiJwYgz9ERERERERERE6MwR8iIiIiIiIiIifG4A8RERERERERkRNj8IeIiIiIiIiIyIkx+ENERERERERE5MQY/CEiIiIiIiIicmLff/CnpQ03m0yPtjZlGhERERERERERDYjvL/hjaIRu90UcfOs80v7T9PjiTxeQ83UDrjcpae5YLaj47Bz2vVmLOmVKnxiVYJfyloiIiIiIiIhosHwvwZ+2ilocff8SCs4Y4Rrtg5h5AYib54cx0cCVI5XI/KAKlfVKYidUd1wKdoltbFAmEBERERERERENktsf/GlpQskXNai57oGYJ6Jx/+OBGDdDjcgZ/oh/fAzm/Mgb7vpryD9iwE3lI0RERERERERE1D+urwrKa4elFvw3Fk34H/JzXzUXXkXOd0aMmDMKkzRuGKJMNxkCVbA73C7XoeJMO0ZM9oa3u/KnJiMqj1Yj/8AVaL+sR3WNEW3D3OHraxG/MhhQuPMKzje5I8T9Bor2VeLk7jpUXWuHd9gweLi1oe7oFZz8Qszj2HU0NLjCZ4wKbvJKtODqwQqcPtaGEfe44npWNU7uu4xTOY1oanaFV6AKqqHyUoQ2NBTWobLaE2H3ifkqU9HWgprvqlH41VXk7avF5aqbgLsKI/xcTduprF9ZaQuamlpxvcqAynwj3CM94aWS59B1O6+1wVXsBG9v6z1FRERERERERD88Ujymr25zz582XCu7Lp6HYcwEj24W7oawn0Rjwb8EIdhLmVR/Hac+uIjcTAOaR45A3CxPuFXWI/+jUhw93NQ5dk5bGxp1N1BTVY+CT2tR3+KK4aMBvbYa2eL9xaxL+O7UTWC4Cmo0ofLIZRz+prHj8zcbxGd1RlzJqsSJglaMmKBGmGcryjIvIzOlFnVGJaE9xiYUfyzWJ+06rvsMR9y8ERhRdx35KRdwNMtiHXvSsZ034BrmY9rOshqc+OACTpxhPygiIiIiIiIi6rvbHPy5ifqz0vMweKvlCfapXODm4QIXee3acPXIFZTp3RHzVATmLA5A5JxAJPwqAhPjWlFz6CouVsmf6lTSBvWTYzDjiVDMeCYc0xJdgUs1KL6uxuyVYpqYPvO50YgaDjRn38A15WMm9bgo0s1ZGYL4OQGY+MwYJM3xkD9fcLJZSdPVtZNXcfYiELI4zLSOMwIweWUEZsxyhz7zimkdvbwQK5YdN1H6xDDEPCqtSwBGykEu83Z6YNwvxiDhYX+r7azYXYvKG1I6IiIiIiIiIiLH3ebgTzsgdfyxudirR003cCW3FYj2RegYi9V1ccPoKX5wRxNKSmyCMveMQLCP8lps4oigYfKr0eO8RHqFSoURYdILIxqtBl4ehnHTh8NNeSetq+8Mf0SJV/pTjTaBIrNm1JxqAiIDMG5C5yelZftP9IW/+Pul0u4DRzLzdiaKZYVY7B9pOydJkbJrqLnE+4MRERERERERUd/c5uDPELgGSc/t8juH1DbjovQ8WgVPeUInFz/p8i2gucoIq9CKysXuhg11dyTo5Nm1V9JQN4wYL56r2u1fvmW4iXqpZ89VPU59XI6jlo/9ejnedc3Yyzbrm1EpPRfV4LjNPI5/I0fM0Gxk8IeIiIiIiIiI+uY2B3/c5DF4AAP0tpdqWTK24WZTmzSEzx1iiLKnugngtClBIS93qCO9EGj5iB6BKOlW9kGuctJuiVnLASw/d+vPS4/xPogT8xhpObg1EREREREREZEDbnM0wQW+kSPEczMuFXU3CLIRF3eeR9p/VqHSIN56uSFYmny9teut3xtb0Cg9+7l1Xs51y5ptLgOTtOB6gXgaPsT+DvN2w3Dp2dcLofJt6+08YiwvB7PDvJ3BI+x/XjzCQhj8ISIiIiIiIqK+ue3RBLcoX4wbDVzLqoD2tG04pw11WVXI1wHuiT4I9haTfDwwMlo859ajUi8nUrSjrqgB1+CKmDEDF/qRBiW6WGg9Pk/jmTqUiWd3jYcpyNOFO/yTXIGiOlRUWPcOaquoQ2GmHmUVtqGuVrS2KC8l5u08KeZRb5pk1lhYi8Kjdbiq78PlckREREREREREwu3vSjLUHTGLgxEyvBUVey7g4KYK5Gfqofu6Coc3nkd2ZhMw2h/3zvJUVs4No2f7Qw0DTn1YgbNnDKi5eB0X91/Cd1nNcL9nJELH9GEA6V4Nx7DKyzi6vw6VFw2oyLqMY7sb0DzcG3GTzetkawj8J48U29SEszsu4VTOdbGOjbiqrcbxHVdRcrIZbt6dn1R5S7f3uoGzB6uhO9qAa3IQSNnO6w04sf0yiuXtbETlUbH8XTUoKWqDu/dAbicRERERERER/RDc/uCPxMcbk//HGExO9ILrVQMuZlWj4Mg16G+qEDJvNOY/7QdflZJWcAnxQ8IvRyJkWBOKd1fg6EeXkX+iBT6JozBzkXeXgaBvjTsiHgyEWl+L3I8qcCLzOlrHqDH5qSCEdNxBzA5pm54ZhaigFpSlXRbreAnHU/W4EWT6rNyLSeGpGYlp04cB5/QoSNejpsY0vWM7h97AWXk7LyE3/QZcJgQg6Wd+GDHUlI6IiIiIiIiIyFFD2gXltcN+s2M6/vrYMfn51rXjZpO0CkPg5tF7z5a2pja0imdX6Y5eAxq6akHFZzqcKPBH0u/84CummJbl2HpZkQaslq7yEivoZhHE6qJNbHuLmL+dNObtxFAxDwZ9iIiIiIiIiEiQ4jF99f30/LEiBVdcHA6wuMhpBzrwY59pWf241EplWsceAz8SF/uBH4l5Oxn4ISIiIiIiIqJbcQcEf4iIiIiIiIiIaLAw+NPBBZ5RAYib547eOuwQEREREREREd0tGPzp4AJfjRqRM7wGeABpIiIiIiIiIqLvD4M/REREREREREROjMEfIiIiIiIiIiInxuAPEREREREREZETY/CHiIiIiIiIiMiJMfhDREREREREROTEGPwhIiIiIiIiInJiDP4QERERERERETmxfgd/frNjuvKKiIiIiIiIiIjuVEPaBeU1ERERERERERE5GV72RURERERERETkxBj8ISIiIiIiIiJyYgz+EBERERERERE5MQZ/iIiIiIiIiIicGIM/REREREREREROjMEfIiIiIiIiIiInxuAPEREREREREZETY/CHiIiIiIiIiMiJMfhDREREREREROTEGPwhIiIiIiIiInJiDP4QERERERERETkxBn+IiIiIiIiIiJwYgz9ERERERERERE6MwR8iIiIiIiIiIifG4A99L5rKz2Nf7hU0Ke+71VaPvCPnUFDdpkwgIiIiIiIior4Y4ODPBax96yAeO6hX3t8l2oyoq29Ak1F5T4PsCrZ9fgGLDhZhZ6UySWJoQF2D9ZfQlFuEqd+UYsLXpcoUZ9OCJpH36pptgluV+XhMHEtrtcr7QXL404MY8l4+LL+G20Ve9ls5OKy8HwiDMc/BYyovh3x6QXlPREREREQ0ONjzR3LlHFa8dwxvFyrvaZAFYtnDIdg0IxpLg5VJwuF9x6Defs4qEOExdTyyNYHIfiBcmeJsyvG2yHsrvq1X3hMRERERERENLAZ/6HvhER2HFXNC4KG875aLD2Y+PBEzA5hViYiIiIiIiPrD9VVBeT0A6vBNth6XR43Cz6OGifd67Nt6DM+XDcUvxo0wJVHk7c3A00eb8fCkAAy3fD/6Ov7f9jw8fbAE/+9kNdR+fpjo14KCg3l4fk8hnsi6iG8K6qGJDsQojyGmmRWcwPxPLmBklD9aDufhl7sL8XS2lK4GIwMCMdan+8CBvNxvryO3tR2nysrwec5FnDL64KFwaf0Fox7p+09i9f4iPPGNDinfVaLJbTiSRil/t6sSmzd9h5d1wM8n+GKoMlXWVoq3N5zABr0HHouRtlyor8DOPafwwoGz+OW3Ohw4VY1hPr6Y6K8y/V3SsY2hGOupTJNUF2H1+/k45x2B6SPFe3O6UBVO7c3BYwfO44VLLng13teU3orF9+NXi7eV/f7nnEs4Vz8ESVE+MO9ikzbUnSvE25+dxvNfl+CFw2JfXWyEJjwAI60SdpMuKhAjlU2y+v6Vbdhc24ZyYyPyckux5VgdNNODMcp2+8z6ss/C1bh+KAdPp4q0cr7QY1x4EMI8rTbOjhZU5mrx/+0uwAtiO/547CIKL7dherQfhrsqSSz3occlrN5u2mZpH5YZ3DAnytv6+7dQ+e0RLP78KtJb2qG7WoX934ntvqIcK9evIkV7HaNiwhGmy8XLOwqwWMp/0jHha7OdEsv9oeR9b28fxNmms1F+RofNTcOx+t5A+TiU2eT5A6euoMnFC9Nt87ydY6Ou2RWaMG+bfHMDBZkn8bvPLLZBHNfqy2XYXOeBFbNCEKakdGjZPeRxeXukeU4GvtmRi59LfxP5r/xSE8ZGjOzIfyaO5mfhynls+Ec+/vlgMVaKdF33rzkfuGDxTR1e2J4vtvUSxkWPwURpxxrE97P7FFZ8cVb+/HGxnKlRKhQcF9vr69fN8UlERERERDQwBr07Rd2NFqSLh60mm+nye0MNXv/4IvQRodh0XyAWtjVg2Wd54uQsBysuqLDsvgik3iNOAutqMHVbPnTKZ3FTmtdNZH8tTgTPu2DZzAgcnBWIea31WPRpFt7O734wn8j4UKyZ7IUJ4vW8seJ1UiiWRXmZ/thWg4+25GJ+0U1MvSccB+eH45VRrdhwMBdJn17oYbDiYMwLBdIvXEF2szJJ0ZRbiXU32jA1QrneyXABa/9egFVVwNJ7xXrPF8t3v4GXPjuCZQdrTGkkyjbW2e7KlhboxL6ru6m8l9M1Y/PefLxiGIaXpol9GWoZLbImfz/6SqwV+70gKASb5kdgXbQrCk6fw9S/FVhdgtWkzcXCzyqQ7qLG6w+IdZ2mhrqmEhM2ZeGjis4xa5rylXSqAKyT0s0KQKSU7u+noFOSWX3/3gFYJu13P/Ha3QurxOs1ScGIlP5mu32SPu6zfftzsPqqJ1bNFflHfNcedXokfXQCeT2OId0G3cHDmCLmd9k/EOvFftms8YZedwGjNubgsEFJJsj7sKoUL+yohlrkoU1ifV4a3oK3cwuw+tsGJVVXvlEhYjvVmCdeTwgNlvPemngf0x8Vl0/lYJFW5M0ZYjtn+CNJPiZysPmCxcrb7o8HQrDUxYBVnx3DWu0NJZGD7OT5F/xv4m2R5632bXMp1m6U0jUjMjZUpIvA61FA6tECLNxbriSS3MDhT49gwtF66EOCkSqlC2/BZrEN622HBnN02b3m8RtYv70Am5t85HyaOll8b6UVmLDZ+ntzPD/nIOnvF/D6DTesmKbsXzTgMbF/3y7qTCfng4qLWPFFPTzCgrFjqsj3UsxK+n42F+Cx0lYsmiy2S3x+YVM1Fm0vQ67po92owIZ3pDGMentkYENHYUhERERERNTVnXUtTYM4kVxwH16fPxbzEidi3bPhWNV2A6srfLHt2clYOjUaCx9OROosL3FCVYfDVqPUGrFW74fUlQl4KjFafD4ea1ZOxjafFqzOKOoMFNnwjRRpx3lB+t09MlS8FsuYEmL6NV+XdhrL9Cpse3IW1kjrNHUsnvrZLGTPGAbdBR02WJz42Yqc4CcHr9JPWQaejMg+14BKrwAsHW96n/75ebzS7o2dzyZh1Rxp+eOx6tlZ2DfWBR+dKMK+WvmDfdSCy+pI5K6cjhVzxmPFzEBlejcqG3Bj9nRsSh4vb//S5CSkLvBBcG0F1uco6998Hq+n1aMpPBqpyncxb85kbPrVeKxzM+KlL8+hTk7YhrzT9TjsHYxNyydioZRO+i6fisD64KFoshcLcffHFJFuqtRDQuWFJOkzU4Pl76Srvu4zsc89x3Ss88L507FjvjemNOux73QP0Z/SfLyQa0TS5MnY8bN4eTsWzk/Ajl+EYNXNerx00DLAIdS2Iunn5nwirY9G5D1gw5nSbgdT9ggJF2l95SCXr1+wvO/nRXqb/qjYYPDuzNPS/hbHxEsuLdigrVBSKPsDPjb7Yzp2hgOvfF3QS5DLmpzn67vm+YOTVfgotwg7zfu2/iZ8fbyx48n7sO5hc75JxOa4oTh8rhJ5SjKUFuP1C214amrnfpTy18HHfFFnM8yRw8uW9ZTHjagLjcfBju9cfG9PBuMp6Xv7WtlvDufnFtTdGIqpoSHI/lWiWJZ5/47H+mFtWJdvkw9E/n5M7JP1S+OxdH4cZoo8oPv2Il65abld0ufvw8HQNuxUPmZfMJYlemOm8q47MyPGYNkY5Q0REREREZEdd1bwZ5gUFLFYJS83jJKeR3oj0mKyR4Q3looTPN0VZYLipcljrdLBxR9PTfdBsKEW6X2+oU4l0s+1IDgiDE+FWM0UwXPCsVrVhm1F5hNwO8JDsUyc+K0tutjZQ6i5DOniIwujg0y9WpovYp84d1x6z1jMVDobmQzFlAdC5MDXvjPd9xzp3lC5h0Kv4+mYif2+YrL1JT0emmi8YLH+TSevYm2bCqvn2sxXFYoVU4ehsroG2fLJvAs83MRTswG6eouog180Vi2NQ5x1x5a+6/M+c8Gyydbr7KEJxELxnHu1+0GWdWdqsc/FB6vn+ytTFAFxWDHWBYdF5usIcEgCxDwt84nIezMjVUD9jW4Dj45YNSHcOk97BWCqN5Bn7jWl7I+XEjU2+2MYZs4IwDxjvcjHyqRemfL8vPixXfJ85JxgvIQbSDfv20Dxff5iOpbapgtwB8R3UKBEvMz78YUHbPZjRARWBSivZX1YtqynPD4Mq2ZajCQuCYnDC+HA4Qs18vfheH4eiuCEyVj/ZJxN2aJGpMjLldUN1sG94GCbfaKUI+Fdy5FIsY6rlHf2ucB3egL2ze0+ADQzIhr7HouAr+WsiYiIiIiIbNxZpwwqF3Ha1l8qTA21M75J4DAkSWO3XFPeO6wJlTeAJD970YoQJIlzy7wrNid+VtRYGCu2pkKcRCqXfplOOIeJk1all4LeKJ+ITh2pNr235BOAJHGSv+NKf26bL/ajw5EfQQquKS87iZNbabUMRrkHRF2DdN3VMETanFNLfKN8sFScnOcpnSCmJIZgRUsD5r/3NZI2H8OGg+dRUDtA99Hv8z4bilG2X6HI9b3ls8qGFsBbbK+dI2RKuBdgNEBXrUyQDHfv0lNp2AAcXaNGWPcE6lBvMOU9ZX/sPHwY89dnWD8+r8YZtKHJ5tLD7pny/JmCgq7z+u9yuZfK5WaL6w6NDSg4VYTNO3OxerNI887XiPzG4roqofv96I24UZajIfVx2T3lcZVH1+9cpI/0E+XDjWZ5v/UlP8v0lTiceQpv7zyGldI6/Wc2Ftk7+FVuNgGpHsoRHx9M6bXA6z4AxMAPERERERE5yrlOG27b1ogFSctq6/l6Gt9J/lgFA3Yel3osSJd8iRNjPzXmSWPb9Mq0jMrWPlyz01+3ut/Mn29VnkPisOmFycie6o8kcRK97cQFTNj8DeZvLeoY82dw3KZ95mLa4CbLWMT3LM7XGwtDbB6hPlgdrcaUPo4lPMrbq+u8QnywSsxrYaASsKkowMq/HMOEAxXY2dCCUWo/rJo9FnkPdBOscpBDy+6Nq1s3lwxKRN7oLXtY5ec26DKyEbUpH0u/q4WudSjixgZjzcLJOBgup7oNugaAGPghIiIiIqK+GNhTh+absNtP5TbEL6TgyplKOwuqb4ZObKaHu/LeYUPhoQJ0BuueDCY10Enjz/p4wU7HgU4+kVgaCmw4V4G6eh12VgAvTYzuPDEdNlS+rO3yNTuXdrXV40w9sFSc1FsZjH1ZY5B7j1hrgP66eHIT+0E8ebhLt7cyQm/vSqlKA3ZChUjLy3jc/TFz/mSsWzEX2S/NxeXZXtBXlmODeQyh/urPPusHD3dxaNxoxmXlvSVdlTSIsjsiexlK6bZQ9kdc3D14aelUu4+FDgcpTHleHRpudz7SY8VE077NO1KBzUO9kf38A0j9xXTxt4lYOjUUwTbxGQ8p29jdj0ZxDFlGzxxfdq9uiPxsp7fTZYNYnosoC8RX63h+LsdHOTfgGx4N3b/MxfqfiXWRxjgar3awl6JYmPhntxxpbkCBlJUcYg4A+WBFNAM/RERERETUN/08fajBRxsPYsi2c/J4MB1KGpAuniK9zYOP+MjjYqCy1nrQWcMFpPYwXE5/bc4/b70+uIHDJ+qRp/LBvLHKpB7omywDEyGYN8YFeboKqzsEyS5UYFsDsCY6RJnQHRWSxnojuLoGO7JqsMHFGwsnWVya5iOW4WcaFNi2R0xTTiU2ixPiheOVsVIChsnjHKUXWwY92qA7VdvLoLEOaKhGuuXdoyQVpdhcDXGiGSIHq3wnqLFC7M/NxyzuuiS7gfR8sU5evpgp744G5B08gQ051pdeBU/1l+9qpWuwF0yzYGwTc+xBX/bZLZgy1gdTjPXYccJmbdqkMVyMCA71x5QBPPmuu+nwtVnWlP2xLV+nDFBsQVeEDQcvoNLhWZvyfPrZiq6DRNdewOYvi1CgfK1NUq+YYV6ItBpnyIjDUu82C3HhIv/b24+1Ouy0umzK8WX3ztzbzoIoc3aIDBMcokaceOt4fhYrI/5FBvhYX87VXIr07q/5tBAsz8deOVJ3/Cq2Ka8dYwoAbVrKwA8REREREfVNP08hpMFsh8oBgmU7z6HgSoM4z8zHK2l65Ln7YFlHgMMFU6Klkz89HtuUi52555GeeQIr/1aGPGlQ4AE1FPNuVOAxZX3q6q8gfecxLC1tw1OTI3s+UQ/2QZJY5W25WnkdC6qls0+x7nNCsKqlAUu35iC9XJqn2M5TYv13XEGuOhgrploEcrrhMTUEq1U3sDL/htgX4gTXqgeSN5bOVmNmfSWWbcuXxxCqq9ejIPMYFn1jQKR0Fx9zr42QkVgoTrQ3H8/F6i/PIT33HD76NAuLzrXJQZVb4iNOuvcew+ZTV+RtrBTf5Qv/qMRO8V2umqH0tvAbj1XjXbDzhBYvHCxHpUhXd0Wk+eQYllW44PXZMR3jBl0urcELGaexQZlf3ZVyfJRSjrehwmPxdsbqUcSNGibOvavxtrR94rP2b6Xfh312K+LG4vWANqw9eAxrc5XtKC/Fhr/lY+UNFd6eG9nNYMN95Y8pAUD62QvYfOQ8Dpc73BVEYdofkdXlWLj1lPi8tD+kfHoKL+wpx+s6A244fKwpef6mHgvfy8E+nd6UH3TnsDblPFYWiXkrWT4uSHxX4hhbn1lpygvy8XYYr9h08fFIGIsNauv9WKkrwisfVULvY9lNyPFl92qYCvoTuXjFvG7l57F2q3i0qLDhgWjT9+ZwfvZHnB+wM/8cdirrJM/vbxeROkRO0AsV5j0QgqesyhFTfn3sRCvmOdZ9iIiIiIiI6Jb0+/fjyAUJyI1ToUBXigl/P4aozyvx0VBvpP50KqZYBDg8EiYiXTMMHg16PHbwAuYfb0DcbA1eGakkGDAuWLTwHqzQm9ZH/d4pzNcBy2ZMxLa53QccTEKx6iF/JBnq5XV8IUe5jZg4QVz/i2isdqnH/O3SPMV2flGDyyEhyH4m3u5gwF24mHo0SOu3bLydnkLjpyJ9aTCS6isxVV7vXEw4bkDw+LHypR2dAYZArHg8HK8Pa8Hb2lLMP1iKzU1+2PFwQA/jmzhIHYbNc4biowOn5G0cJb7LfR7+yP2F5XcpTs5/nIgzU4eh4EQRRol06r/nY5U4UX5l4XSsEd+xiTcWPh6HbYFteP0L0/zUfy/CS9VDsX7hVDzVw3VyvknjkRrsgh3S9n1R0jFQdhcO77NbIbbjFwnIFl/y5oPKdmw/h7ebvbHjZzNt7tx0K8RyHg7FSy4GrPzmApIyyrsJevWgY39cQVJHPr2CAnUw0p90MJ+aWeT5Rf/INeWHf4i85qJG9lNTO+4o5js7HtnRIs8czTflBXG8rTUEY9Mc20uz1Fj6pJQfgPXKfhz1jwrUTb4Hr9uumIPL7pXKD6+L/dGkVdZt+wWsb/HCtp8kQExWOJ6fly6OxjqPBjymrJP6k3Lo77kHb8u3InRAcBw2/yQYy1rM5YjIryfa8NLSCVjkaECLiIiIiIjoFgxpF5TX/dNmRF2DOEsfOgy+Xj0NyNqCpoY2eHgPwtmONgdDvryBbcvvMwUXDA2oa3ERy/KSx/dwXJtYx2bxOTs/x8vzBDyGectjk/SF7osMRBX7oeSFiXbuqmUmLduApjYH1rtZpBsi0tzyrtTjI3EiukwdjfafRTj+XZrTubjDt6fvU6xnXVNb7+lsGW+grl18xr23L68P++xWSOsj3Vq91zx+iwxiW4bd4nbcQj7twvz9eXh1/12Y0ziyb5S0Dq2bI8vulShz6m+gqbf851B+Nue1W9m35nkMha8Pu/wQEREREdHt06/gzwMf5+JQmcMDcAyq9pfndwn+DHnroPLX74e8TmaGC3hl03nkxU5E6sOB3/u6mZnW0Tr4c6esG9EPjZebKww3zbfLM4nw8YDuV7OUd0RERERERP136z1/7gS2PX/uBPXn8MrWChy+2YJ0Vx9kr0hw/LKV28am5w8REREREREROZ3BulDm9vL1xrpoX0TeQVdSNF1pgTrEGwvHhuDML/owXsltNRSRY9RYF+qpvCciIiIiIiIiZ+McPX+IiIiIiIiIiMgu5+j5Q0REREREREREdjH4Q0RERERERETkxBj8ISIiIiIiIiJyYgz+EBERERERERE5MQZ/iIiIiIiIiIicGIM/REREREREREROC/j/AXshjOP8sNYGAAAAAElFTkSuQmCC)"
      ],
      "metadata": {
        "id": "9d1dpTBjCOno"
      }
    },
    {
      "cell_type": "code",
      "source": [
        ""
      ],
      "metadata": {
        "id": "fO5xEiCnCPI6"
      },
      "execution_count": null,
      "outputs": []
    }
  ]
}