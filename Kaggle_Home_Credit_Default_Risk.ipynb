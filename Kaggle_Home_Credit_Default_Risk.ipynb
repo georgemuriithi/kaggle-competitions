{
  "nbformat": 4,
  "nbformat_minor": 0,
  "metadata": {
    "hide_input": false,
    "kernelspec": {
      "display_name": "Python 3 (ipykernel)",
      "language": "python",
      "name": "python3"
    },
    "language_info": {
      "codemirror_mode": {
        "name": "ipython",
        "version": 3
      },
      "file_extension": ".py",
      "mimetype": "text/x-python",
      "name": "python",
      "nbconvert_exporter": "python",
      "pygments_lexer": "ipython3",
      "version": "3.8.3"
    },
    "colab": {
      "name": "Kaggle Home Credit Default Risk.ipynb",
      "provenance": [],
      "collapsed_sections": []
    }
  },
  "cells": [
    {
      "cell_type": "markdown",
      "metadata": {
        "id": "ceJvVgoyjIM3"
      },
      "source": [
        "Kaggle link: https://www.kaggle.com/c/home-credit-default-risk"
      ]
    },
    {
      "cell_type": "markdown",
      "metadata": {
        "id": "JHgZd1KHkeeu"
      },
      "source": [
        "### 1. Importing packages"
      ]
    },
    {
      "cell_type": "code",
      "metadata": {
        "tags": [],
        "id": "alDbEKvFLNWS"
      },
      "source": [
        "import numpy as np\n",
        "import pandas as pd\n",
        "%matplotlib inline\n",
        "import matplotlib.pyplot as plt\n",
        "import seaborn as sns; sns.set()\n",
        "import warnings\n",
        "warnings.filterwarnings(action='ignore')\n",
        "\n",
        "from sklearn.linear_model import LogisticRegression\n",
        "from sklearn.ensemble import RandomForestClassifier\n",
        "from sklearn.metrics import roc_auc_score\n",
        "from sklearn.model_selection import train_test_split, cross_val_score\n",
        "from sklearn.ensemble import BaggingClassifier, StackingClassifier\n",
        "import xgboost\n",
        "import lightgbm"
      ],
      "execution_count": null,
      "outputs": []
    },
    {
      "cell_type": "markdown",
      "metadata": {
        "id": "deqaierEkhxZ"
      },
      "source": [
        "### 2. Loading datasets and Feature engineering"
      ]
    },
    {
      "cell_type": "code",
      "metadata": {
        "id": "kH1VYulyLNWS",
        "colab": {
          "base_uri": "https://localhost:8080/"
        },
        "outputId": "5c5c6a0e-9dcd-4d65-dbed-8a491eb2cb97"
      },
      "source": [
        "# reading train data + exam data, then combining them for preprocessing\n",
        "XY_all = pd.read_csv('application_train.csv', index_col=0)\n",
        "\n",
        "Y_all = XY_all[['TARGET']]\n",
        "X_all = XY_all.drop('TARGET', axis=1)\n",
        "X_exam = pd.read_csv('application_test.csv', index_col=0)\n",
        "\n",
        "X_combined0 = pd.concat([X_all, X_exam], axis=0)\n",
        "print(X_combined0.info())"
      ],
      "execution_count": null,
      "outputs": [
        {
          "output_type": "stream",
          "name": "stdout",
          "text": [
            "<class 'pandas.core.frame.DataFrame'>\n",
            "Int64Index: 356255 entries, 100002 to 456250\n",
            "Columns: 120 entries, NAME_CONTRACT_TYPE to AMT_REQ_CREDIT_BUREAU_YEAR\n",
            "dtypes: float64(65), int64(39), object(16)\n",
            "memory usage: 328.9+ MB\n",
            "None\n"
          ]
        }
      ]
    },
    {
      "cell_type": "code",
      "metadata": {
        "colab": {
          "base_uri": "https://localhost:8080/"
        },
        "id": "gPxwX-mN4rai",
        "outputId": "4c44ce09-6264-4a93-a404-d891bb004bef"
      },
      "source": [
        "# removing columns with missing values more than 20%\n",
        "X_null = X_combined0.isnull().sum(axis=0)\n",
        "max_na = X_combined0.shape[0] * 0.2\n",
        "col = [c for c in X_combined0.columns if X_null[c] <= max_na]\n",
        "X_combined1 = X_combined0[col]\n",
        "print(X_combined1.info())"
      ],
      "execution_count": null,
      "outputs": [
        {
          "output_type": "stream",
          "name": "stdout",
          "text": [
            "<class 'pandas.core.frame.DataFrame'>\n",
            "Int64Index: 356255 entries, 100002 to 456250\n",
            "Data columns (total 70 columns):\n",
            " #   Column                       Non-Null Count   Dtype  \n",
            "---  ------                       --------------   -----  \n",
            " 0   NAME_CONTRACT_TYPE           356255 non-null  object \n",
            " 1   CODE_GENDER                  356255 non-null  object \n",
            " 2   FLAG_OWN_CAR                 356255 non-null  object \n",
            " 3   FLAG_OWN_REALTY              356255 non-null  object \n",
            " 4   CNT_CHILDREN                 356255 non-null  int64  \n",
            " 5   AMT_INCOME_TOTAL             356255 non-null  float64\n",
            " 6   AMT_CREDIT                   356255 non-null  float64\n",
            " 7   AMT_ANNUITY                  356219 non-null  float64\n",
            " 8   AMT_GOODS_PRICE              355977 non-null  float64\n",
            " 9   NAME_TYPE_SUITE              354052 non-null  object \n",
            " 10  NAME_INCOME_TYPE             356255 non-null  object \n",
            " 11  NAME_EDUCATION_TYPE          356255 non-null  object \n",
            " 12  NAME_FAMILY_STATUS           356255 non-null  object \n",
            " 13  NAME_HOUSING_TYPE            356255 non-null  object \n",
            " 14  REGION_POPULATION_RELATIVE   356255 non-null  float64\n",
            " 15  DAYS_BIRTH                   356255 non-null  int64  \n",
            " 16  DAYS_EMPLOYED                356255 non-null  int64  \n",
            " 17  DAYS_REGISTRATION            356255 non-null  float64\n",
            " 18  DAYS_ID_PUBLISH              356255 non-null  int64  \n",
            " 19  FLAG_MOBIL                   356255 non-null  int64  \n",
            " 20  FLAG_EMP_PHONE               356255 non-null  int64  \n",
            " 21  FLAG_WORK_PHONE              356255 non-null  int64  \n",
            " 22  FLAG_CONT_MOBILE             356255 non-null  int64  \n",
            " 23  FLAG_PHONE                   356255 non-null  int64  \n",
            " 24  FLAG_EMAIL                   356255 non-null  int64  \n",
            " 25  CNT_FAM_MEMBERS              356253 non-null  float64\n",
            " 26  REGION_RATING_CLIENT         356255 non-null  int64  \n",
            " 27  REGION_RATING_CLIENT_W_CITY  356255 non-null  int64  \n",
            " 28  WEEKDAY_APPR_PROCESS_START   356255 non-null  object \n",
            " 29  HOUR_APPR_PROCESS_START      356255 non-null  int64  \n",
            " 30  REG_REGION_NOT_LIVE_REGION   356255 non-null  int64  \n",
            " 31  REG_REGION_NOT_WORK_REGION   356255 non-null  int64  \n",
            " 32  LIVE_REGION_NOT_WORK_REGION  356255 non-null  int64  \n",
            " 33  REG_CITY_NOT_LIVE_CITY       356255 non-null  int64  \n",
            " 34  REG_CITY_NOT_WORK_CITY       356255 non-null  int64  \n",
            " 35  LIVE_CITY_NOT_WORK_CITY      356255 non-null  int64  \n",
            " 36  ORGANIZATION_TYPE            356255 non-null  object \n",
            " 37  EXT_SOURCE_2                 355587 non-null  float64\n",
            " 38  EXT_SOURCE_3                 286622 non-null  float64\n",
            " 39  OBS_30_CNT_SOCIAL_CIRCLE     355205 non-null  float64\n",
            " 40  DEF_30_CNT_SOCIAL_CIRCLE     355205 non-null  float64\n",
            " 41  OBS_60_CNT_SOCIAL_CIRCLE     355205 non-null  float64\n",
            " 42  DEF_60_CNT_SOCIAL_CIRCLE     355205 non-null  float64\n",
            " 43  DAYS_LAST_PHONE_CHANGE       356254 non-null  float64\n",
            " 44  FLAG_DOCUMENT_2              356255 non-null  int64  \n",
            " 45  FLAG_DOCUMENT_3              356255 non-null  int64  \n",
            " 46  FLAG_DOCUMENT_4              356255 non-null  int64  \n",
            " 47  FLAG_DOCUMENT_5              356255 non-null  int64  \n",
            " 48  FLAG_DOCUMENT_6              356255 non-null  int64  \n",
            " 49  FLAG_DOCUMENT_7              356255 non-null  int64  \n",
            " 50  FLAG_DOCUMENT_8              356255 non-null  int64  \n",
            " 51  FLAG_DOCUMENT_9              356255 non-null  int64  \n",
            " 52  FLAG_DOCUMENT_10             356255 non-null  int64  \n",
            " 53  FLAG_DOCUMENT_11             356255 non-null  int64  \n",
            " 54  FLAG_DOCUMENT_12             356255 non-null  int64  \n",
            " 55  FLAG_DOCUMENT_13             356255 non-null  int64  \n",
            " 56  FLAG_DOCUMENT_14             356255 non-null  int64  \n",
            " 57  FLAG_DOCUMENT_15             356255 non-null  int64  \n",
            " 58  FLAG_DOCUMENT_16             356255 non-null  int64  \n",
            " 59  FLAG_DOCUMENT_17             356255 non-null  int64  \n",
            " 60  FLAG_DOCUMENT_18             356255 non-null  int64  \n",
            " 61  FLAG_DOCUMENT_19             356255 non-null  int64  \n",
            " 62  FLAG_DOCUMENT_20             356255 non-null  int64  \n",
            " 63  FLAG_DOCUMENT_21             356255 non-null  int64  \n",
            " 64  AMT_REQ_CREDIT_BUREAU_HOUR   308687 non-null  float64\n",
            " 65  AMT_REQ_CREDIT_BUREAU_DAY    308687 non-null  float64\n",
            " 66  AMT_REQ_CREDIT_BUREAU_WEEK   308687 non-null  float64\n",
            " 67  AMT_REQ_CREDIT_BUREAU_MON    308687 non-null  float64\n",
            " 68  AMT_REQ_CREDIT_BUREAU_QRT    308687 non-null  float64\n",
            " 69  AMT_REQ_CREDIT_BUREAU_YEAR   308687 non-null  float64\n",
            "dtypes: float64(20), int64(39), object(11)\n",
            "memory usage: 193.0+ MB\n",
            "None\n"
          ]
        }
      ]
    },
    {
      "cell_type": "code",
      "metadata": {
        "colab": {
          "base_uri": "https://localhost:8080/"
        },
        "id": "hNWM6Dtf5Zwa",
        "outputId": "d9580916-c0a9-446c-b941-9a85d0e3fa40"
      },
      "source": [
        "num_cols = X_combined1.select_dtypes(include=np.number).columns.tolist()\n",
        "cat_cols = X_combined1.select_dtypes(include='object').columns.tolist()\n",
        "        \n",
        "print (\"Cardinal columns = \", len(num_cols))\n",
        "print (\"Categorical columns = \", len(cat_cols))"
      ],
      "execution_count": null,
      "outputs": [
        {
          "output_type": "stream",
          "name": "stdout",
          "text": [
            "Cardinal columns =  59\n",
            "Categorical columns =  11\n"
          ]
        }
      ]
    },
    {
      "cell_type": "code",
      "metadata": {
        "colab": {
          "base_uri": "https://localhost:8080/"
        },
        "id": "0rt6gG4t51Y0",
        "outputId": "56f452e4-2056-47af-a909-c08fda4878a2"
      },
      "source": [
        "# imputation of cardinal (numeric) columns\n",
        "num_imputer = SimpleImputer(strategy='mean')\n",
        "X_combined2 = X_combined1.copy()\n",
        "X_combined2[num_cols] = num_imputer.fit_transform(X_combined1[num_cols])\n",
        "\n",
        "# imputation of categorical columns\n",
        "for col in cat_cols:\n",
        "    v = X_combined2[col].mode()[0]\n",
        "    X_combined2[col].fillna(value=v)\n",
        "\n",
        "print(X_combined2.info())"
      ],
      "execution_count": null,
      "outputs": [
        {
          "output_type": "stream",
          "name": "stdout",
          "text": [
            "<class 'pandas.core.frame.DataFrame'>\n",
            "Int64Index: 356255 entries, 100002 to 456250\n",
            "Data columns (total 70 columns):\n",
            " #   Column                       Non-Null Count   Dtype  \n",
            "---  ------                       --------------   -----  \n",
            " 0   NAME_CONTRACT_TYPE           356255 non-null  object \n",
            " 1   CODE_GENDER                  356255 non-null  object \n",
            " 2   FLAG_OWN_CAR                 356255 non-null  object \n",
            " 3   FLAG_OWN_REALTY              356255 non-null  object \n",
            " 4   CNT_CHILDREN                 356255 non-null  float64\n",
            " 5   AMT_INCOME_TOTAL             356255 non-null  float64\n",
            " 6   AMT_CREDIT                   356255 non-null  float64\n",
            " 7   AMT_ANNUITY                  356255 non-null  float64\n",
            " 8   AMT_GOODS_PRICE              356255 non-null  float64\n",
            " 9   NAME_TYPE_SUITE              354052 non-null  object \n",
            " 10  NAME_INCOME_TYPE             356255 non-null  object \n",
            " 11  NAME_EDUCATION_TYPE          356255 non-null  object \n",
            " 12  NAME_FAMILY_STATUS           356255 non-null  object \n",
            " 13  NAME_HOUSING_TYPE            356255 non-null  object \n",
            " 14  REGION_POPULATION_RELATIVE   356255 non-null  float64\n",
            " 15  DAYS_BIRTH                   356255 non-null  float64\n",
            " 16  DAYS_EMPLOYED                356255 non-null  float64\n",
            " 17  DAYS_REGISTRATION            356255 non-null  float64\n",
            " 18  DAYS_ID_PUBLISH              356255 non-null  float64\n",
            " 19  FLAG_MOBIL                   356255 non-null  float64\n",
            " 20  FLAG_EMP_PHONE               356255 non-null  float64\n",
            " 21  FLAG_WORK_PHONE              356255 non-null  float64\n",
            " 22  FLAG_CONT_MOBILE             356255 non-null  float64\n",
            " 23  FLAG_PHONE                   356255 non-null  float64\n",
            " 24  FLAG_EMAIL                   356255 non-null  float64\n",
            " 25  CNT_FAM_MEMBERS              356255 non-null  float64\n",
            " 26  REGION_RATING_CLIENT         356255 non-null  float64\n",
            " 27  REGION_RATING_CLIENT_W_CITY  356255 non-null  float64\n",
            " 28  WEEKDAY_APPR_PROCESS_START   356255 non-null  object \n",
            " 29  HOUR_APPR_PROCESS_START      356255 non-null  float64\n",
            " 30  REG_REGION_NOT_LIVE_REGION   356255 non-null  float64\n",
            " 31  REG_REGION_NOT_WORK_REGION   356255 non-null  float64\n",
            " 32  LIVE_REGION_NOT_WORK_REGION  356255 non-null  float64\n",
            " 33  REG_CITY_NOT_LIVE_CITY       356255 non-null  float64\n",
            " 34  REG_CITY_NOT_WORK_CITY       356255 non-null  float64\n",
            " 35  LIVE_CITY_NOT_WORK_CITY      356255 non-null  float64\n",
            " 36  ORGANIZATION_TYPE            356255 non-null  object \n",
            " 37  EXT_SOURCE_2                 356255 non-null  float64\n",
            " 38  EXT_SOURCE_3                 356255 non-null  float64\n",
            " 39  OBS_30_CNT_SOCIAL_CIRCLE     356255 non-null  float64\n",
            " 40  DEF_30_CNT_SOCIAL_CIRCLE     356255 non-null  float64\n",
            " 41  OBS_60_CNT_SOCIAL_CIRCLE     356255 non-null  float64\n",
            " 42  DEF_60_CNT_SOCIAL_CIRCLE     356255 non-null  float64\n",
            " 43  DAYS_LAST_PHONE_CHANGE       356255 non-null  float64\n",
            " 44  FLAG_DOCUMENT_2              356255 non-null  float64\n",
            " 45  FLAG_DOCUMENT_3              356255 non-null  float64\n",
            " 46  FLAG_DOCUMENT_4              356255 non-null  float64\n",
            " 47  FLAG_DOCUMENT_5              356255 non-null  float64\n",
            " 48  FLAG_DOCUMENT_6              356255 non-null  float64\n",
            " 49  FLAG_DOCUMENT_7              356255 non-null  float64\n",
            " 50  FLAG_DOCUMENT_8              356255 non-null  float64\n",
            " 51  FLAG_DOCUMENT_9              356255 non-null  float64\n",
            " 52  FLAG_DOCUMENT_10             356255 non-null  float64\n",
            " 53  FLAG_DOCUMENT_11             356255 non-null  float64\n",
            " 54  FLAG_DOCUMENT_12             356255 non-null  float64\n",
            " 55  FLAG_DOCUMENT_13             356255 non-null  float64\n",
            " 56  FLAG_DOCUMENT_14             356255 non-null  float64\n",
            " 57  FLAG_DOCUMENT_15             356255 non-null  float64\n",
            " 58  FLAG_DOCUMENT_16             356255 non-null  float64\n",
            " 59  FLAG_DOCUMENT_17             356255 non-null  float64\n",
            " 60  FLAG_DOCUMENT_18             356255 non-null  float64\n",
            " 61  FLAG_DOCUMENT_19             356255 non-null  float64\n",
            " 62  FLAG_DOCUMENT_20             356255 non-null  float64\n",
            " 63  FLAG_DOCUMENT_21             356255 non-null  float64\n",
            " 64  AMT_REQ_CREDIT_BUREAU_HOUR   356255 non-null  float64\n",
            " 65  AMT_REQ_CREDIT_BUREAU_DAY    356255 non-null  float64\n",
            " 66  AMT_REQ_CREDIT_BUREAU_WEEK   356255 non-null  float64\n",
            " 67  AMT_REQ_CREDIT_BUREAU_MON    356255 non-null  float64\n",
            " 68  AMT_REQ_CREDIT_BUREAU_QRT    356255 non-null  float64\n",
            " 69  AMT_REQ_CREDIT_BUREAU_YEAR   356255 non-null  float64\n",
            "dtypes: float64(59), object(11)\n",
            "memory usage: 193.0+ MB\n",
            "None\n"
          ]
        }
      ]
    },
    {
      "cell_type": "code",
      "metadata": {
        "id": "ooLnleefEYjQ"
      },
      "source": [
        "str_imputer = SimpleImputer(strategy='most_frequent')\n",
        "X_combined2['NAME_TYPE_SUITE'] = str_imputer.fit_transform(X_combined1[['NAME_TYPE_SUITE']])"
      ],
      "execution_count": null,
      "outputs": []
    },
    {
      "cell_type": "code",
      "metadata": {
        "colab": {
          "base_uri": "https://localhost:8080/"
        },
        "id": "vYgbVcMRBW5s",
        "outputId": "f9137178-7279-4970-dd97-82d9726e51e6"
      },
      "source": [
        "print(X_combined2.info())"
      ],
      "execution_count": null,
      "outputs": [
        {
          "output_type": "stream",
          "name": "stdout",
          "text": [
            "<class 'pandas.core.frame.DataFrame'>\n",
            "Int64Index: 356255 entries, 100002 to 456250\n",
            "Data columns (total 70 columns):\n",
            " #   Column                       Non-Null Count   Dtype  \n",
            "---  ------                       --------------   -----  \n",
            " 0   NAME_CONTRACT_TYPE           356255 non-null  object \n",
            " 1   CODE_GENDER                  356255 non-null  object \n",
            " 2   FLAG_OWN_CAR                 356255 non-null  object \n",
            " 3   FLAG_OWN_REALTY              356255 non-null  object \n",
            " 4   CNT_CHILDREN                 356255 non-null  float64\n",
            " 5   AMT_INCOME_TOTAL             356255 non-null  float64\n",
            " 6   AMT_CREDIT                   356255 non-null  float64\n",
            " 7   AMT_ANNUITY                  356255 non-null  float64\n",
            " 8   AMT_GOODS_PRICE              356255 non-null  float64\n",
            " 9   NAME_TYPE_SUITE              356255 non-null  object \n",
            " 10  NAME_INCOME_TYPE             356255 non-null  object \n",
            " 11  NAME_EDUCATION_TYPE          356255 non-null  object \n",
            " 12  NAME_FAMILY_STATUS           356255 non-null  object \n",
            " 13  NAME_HOUSING_TYPE            356255 non-null  object \n",
            " 14  REGION_POPULATION_RELATIVE   356255 non-null  float64\n",
            " 15  DAYS_BIRTH                   356255 non-null  float64\n",
            " 16  DAYS_EMPLOYED                356255 non-null  float64\n",
            " 17  DAYS_REGISTRATION            356255 non-null  float64\n",
            " 18  DAYS_ID_PUBLISH              356255 non-null  float64\n",
            " 19  FLAG_MOBIL                   356255 non-null  float64\n",
            " 20  FLAG_EMP_PHONE               356255 non-null  float64\n",
            " 21  FLAG_WORK_PHONE              356255 non-null  float64\n",
            " 22  FLAG_CONT_MOBILE             356255 non-null  float64\n",
            " 23  FLAG_PHONE                   356255 non-null  float64\n",
            " 24  FLAG_EMAIL                   356255 non-null  float64\n",
            " 25  CNT_FAM_MEMBERS              356255 non-null  float64\n",
            " 26  REGION_RATING_CLIENT         356255 non-null  float64\n",
            " 27  REGION_RATING_CLIENT_W_CITY  356255 non-null  float64\n",
            " 28  WEEKDAY_APPR_PROCESS_START   356255 non-null  object \n",
            " 29  HOUR_APPR_PROCESS_START      356255 non-null  float64\n",
            " 30  REG_REGION_NOT_LIVE_REGION   356255 non-null  float64\n",
            " 31  REG_REGION_NOT_WORK_REGION   356255 non-null  float64\n",
            " 32  LIVE_REGION_NOT_WORK_REGION  356255 non-null  float64\n",
            " 33  REG_CITY_NOT_LIVE_CITY       356255 non-null  float64\n",
            " 34  REG_CITY_NOT_WORK_CITY       356255 non-null  float64\n",
            " 35  LIVE_CITY_NOT_WORK_CITY      356255 non-null  float64\n",
            " 36  ORGANIZATION_TYPE            356255 non-null  object \n",
            " 37  EXT_SOURCE_2                 356255 non-null  float64\n",
            " 38  EXT_SOURCE_3                 356255 non-null  float64\n",
            " 39  OBS_30_CNT_SOCIAL_CIRCLE     356255 non-null  float64\n",
            " 40  DEF_30_CNT_SOCIAL_CIRCLE     356255 non-null  float64\n",
            " 41  OBS_60_CNT_SOCIAL_CIRCLE     356255 non-null  float64\n",
            " 42  DEF_60_CNT_SOCIAL_CIRCLE     356255 non-null  float64\n",
            " 43  DAYS_LAST_PHONE_CHANGE       356255 non-null  float64\n",
            " 44  FLAG_DOCUMENT_2              356255 non-null  float64\n",
            " 45  FLAG_DOCUMENT_3              356255 non-null  float64\n",
            " 46  FLAG_DOCUMENT_4              356255 non-null  float64\n",
            " 47  FLAG_DOCUMENT_5              356255 non-null  float64\n",
            " 48  FLAG_DOCUMENT_6              356255 non-null  float64\n",
            " 49  FLAG_DOCUMENT_7              356255 non-null  float64\n",
            " 50  FLAG_DOCUMENT_8              356255 non-null  float64\n",
            " 51  FLAG_DOCUMENT_9              356255 non-null  float64\n",
            " 52  FLAG_DOCUMENT_10             356255 non-null  float64\n",
            " 53  FLAG_DOCUMENT_11             356255 non-null  float64\n",
            " 54  FLAG_DOCUMENT_12             356255 non-null  float64\n",
            " 55  FLAG_DOCUMENT_13             356255 non-null  float64\n",
            " 56  FLAG_DOCUMENT_14             356255 non-null  float64\n",
            " 57  FLAG_DOCUMENT_15             356255 non-null  float64\n",
            " 58  FLAG_DOCUMENT_16             356255 non-null  float64\n",
            " 59  FLAG_DOCUMENT_17             356255 non-null  float64\n",
            " 60  FLAG_DOCUMENT_18             356255 non-null  float64\n",
            " 61  FLAG_DOCUMENT_19             356255 non-null  float64\n",
            " 62  FLAG_DOCUMENT_20             356255 non-null  float64\n",
            " 63  FLAG_DOCUMENT_21             356255 non-null  float64\n",
            " 64  AMT_REQ_CREDIT_BUREAU_HOUR   356255 non-null  float64\n",
            " 65  AMT_REQ_CREDIT_BUREAU_DAY    356255 non-null  float64\n",
            " 66  AMT_REQ_CREDIT_BUREAU_WEEK   356255 non-null  float64\n",
            " 67  AMT_REQ_CREDIT_BUREAU_MON    356255 non-null  float64\n",
            " 68  AMT_REQ_CREDIT_BUREAU_QRT    356255 non-null  float64\n",
            " 69  AMT_REQ_CREDIT_BUREAU_YEAR   356255 non-null  float64\n",
            "dtypes: float64(59), object(11)\n",
            "memory usage: 193.0+ MB\n",
            "None\n"
          ]
        }
      ]
    },
    {
      "cell_type": "code",
      "metadata": {
        "id": "9dTxJt6z8JGA"
      },
      "source": [
        "# converting categorical var. to dummy var.\n",
        "X_combined3 = pd.get_dummies(X_combined2)"
      ],
      "execution_count": null,
      "outputs": []
    },
    {
      "cell_type": "markdown",
      "metadata": {
        "id": "EDhRi_tUks47"
      },
      "source": [
        "### 3. Advanced tree based models"
      ]
    },
    {
      "cell_type": "code",
      "metadata": {
        "id": "fHe-KNRNLNWT"
      },
      "source": [
        "# extracting exam data from pre-processed combined data\n",
        "def split_train_exam(X_combined, n):\n",
        "    X_task = X_combined.iloc[:n,:]\n",
        "    X_exam = X_combined.iloc[n:,:]\n",
        "    return X_task, X_exam\n",
        "\n",
        "# computing R^2 & RMSE and printing them\n",
        "def model_perf(model, X, Y, prefix=''):\n",
        "    p_hat = model.predict_proba(X)[:, 1]\n",
        "    auc = roc_auc_score(Y, p_hat)\n",
        "    print (f'{prefix} AUROC score = {auc:.3f}')\n",
        "\n",
        "# cross validation not included because of computation time\n",
        "def model_fit_perf(model, X_all, Y_all, prefix=''):\n",
        "    X_trn, X_val, Y_trn, Y_val = train_test_split(X_all, Y_all, test_size=0.2, random_state=4)\n",
        "    model.fit(X_trn, Y_trn)\n",
        "    print (prefix)\n",
        "    model_perf(model, X_trn, Y_trn, '  Training  ')\n",
        "    model_perf(model, X_val, Y_val, '  Validation')"
      ],
      "execution_count": null,
      "outputs": []
    },
    {
      "cell_type": "code",
      "metadata": {
        "id": "3rdpxHCaLNWT"
      },
      "source": [
        "X_task2, X_exam2 = split_train_exam(X_combined3, X_all.shape[0])"
      ],
      "execution_count": null,
      "outputs": []
    },
    {
      "cell_type": "code",
      "metadata": {
        "id": "rJ4CT_3RLNWT",
        "colab": {
          "base_uri": "https://localhost:8080/"
        },
        "outputId": "5d94be80-9cd4-4131-b96d-5d8fca88d733"
      },
      "source": [
        "# LGBM classifier\n",
        "lgbm_c = lightgbm.LGBMClassifier()\n",
        "model_fit_perf(lgbm_c, X_task2, Y_all, \"LGBM\")"
      ],
      "execution_count": null,
      "outputs": [
        {
          "output_type": "stream",
          "name": "stdout",
          "text": [
            "LGBM\n",
            "  Training   AUROC score = 0.792\n",
            "  Validation AUROC score = 0.749\n"
          ]
        }
      ]
    },
    {
      "cell_type": "code",
      "metadata": {
        "id": "vAFEnvmTLNWU",
        "colab": {
          "base_uri": "https://localhost:8080/"
        },
        "outputId": "7a7a5187-fc54-4d1d-aac9-cde9c399a686"
      },
      "source": [
        "# random forest classifier\n",
        "random_forest_c = RandomForestClassifier(n_estimators=50)\n",
        "model_fit_perf(random_forest_c, X_task2, Y_all, \"Random Forest\")"
      ],
      "execution_count": null,
      "outputs": [
        {
          "output_type": "stream",
          "name": "stdout",
          "text": [
            "Random Forest\n",
            "  Training   AUROC score = 1.000\n",
            "  Validation AUROC score = 0.697\n"
          ]
        }
      ]
    },
    {
      "cell_type": "code",
      "metadata": {
        "id": "e7BhOxRWLNWU",
        "colab": {
          "base_uri": "https://localhost:8080/"
        },
        "outputId": "86824832-ee5d-4288-9000-64980829ceff"
      },
      "source": [
        "# XGB classifier\n",
        "xgb_c = xgboost.XGBClassifier()\n",
        "model_fit_perf(xgb_c, X_task2, Y_all, \"XGBoost\")"
      ],
      "execution_count": null,
      "outputs": [
        {
          "output_type": "stream",
          "name": "stdout",
          "text": [
            "XGBoost\n",
            "  Training   AUROC score = 0.753\n",
            "  Validation AUROC score = 0.743\n"
          ]
        }
      ]
    },
    {
      "cell_type": "code",
      "metadata": {
        "id": "OWDnPTNELNWU",
        "colab": {
          "base_uri": "https://localhost:8080/"
        },
        "outputId": "554c7f22-f847-41b9-8ee5-1194252460a9"
      },
      "source": [
        "# stacking ensemble\n",
        "estms = [('lgbm', lgbm_c), ('rf', random_forest_c), ('xgb', xgb_c)]\n",
        "stacking_c = StackingClassifier(estimators=estms, final_estimator=lightgbm.LGBMClassifier())\n",
        "model_fit_perf(stacking_c, X_task2, Y_all, \"Stacking Ensemble\")"
      ],
      "execution_count": null,
      "outputs": [
        {
          "output_type": "stream",
          "name": "stdout",
          "text": [
            "Stacking Ensemble\n",
            "  Training   AUROC score = 0.882\n",
            "  Validation AUROC score = 0.749\n"
          ]
        }
      ]
    },
    {
      "cell_type": "markdown",
      "metadata": {
        "id": "3UT6W5Vwk16e"
      },
      "source": [
        "### 4. Results"
      ]
    },
    {
      "cell_type": "code",
      "metadata": {
        "tags": [],
        "id": "LTI_D6s0LNWU"
      },
      "source": [
        "p = stacking_c.predict_proba(X_exam2)\n",
        "\n",
        "submission_df = pd.read_csv('sample_submission.csv', index_col=0)\n",
        "submission_df['TARGET'] = p[:,1]\n",
        "\n",
        "submission_df.to_csv('mysub.csv')"
      ],
      "execution_count": null,
      "outputs": []
    },
    {
      "cell_type": "markdown",
      "metadata": {
        "id": "dRd9UvF2WxGs"
      },
      "source": [
        "![image.png](data:image/png;base64,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)"
      ]
    },
    {
      "cell_type": "code",
      "metadata": {
        "id": "p_1a7SS7Wxpf"
      },
      "source": [
        ""
      ],
      "execution_count": null,
      "outputs": []
    }
  ]
}