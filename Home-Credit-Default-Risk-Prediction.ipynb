{
  "nbformat": 4,
  "nbformat_minor": 0,
  "metadata": {
    "hide_input": false,
    "kernelspec": {
      "display_name": "Python 3 (ipykernel)",
      "language": "python",
      "name": "python3"
    },
    "language_info": {
      "codemirror_mode": {
        "name": "ipython",
        "version": 3
      },
      "file_extension": ".py",
      "mimetype": "text/x-python",
      "name": "python",
      "nbconvert_exporter": "python",
      "pygments_lexer": "ipython3",
      "version": "3.8.3"
    },
    "colab": {
      "name": "Home-Credit-Default-Risk-Prediction.ipynb",
      "provenance": [],
      "collapsed_sections": []
    }
  },
  "cells": [
    {
      "cell_type": "markdown",
      "metadata": {
        "id": "JHgZd1KHkeeu"
      },
      "source": [
        "### 1. Importing packages"
      ]
    },
    {
      "cell_type": "code",
      "metadata": {
        "tags": [],
        "id": "alDbEKvFLNWS"
      },
      "source": [
        "import numpy as np\n",
        "import pandas as pd\n",
        "import warnings\n",
        "warnings.filterwarnings(action='ignore')"
      ],
      "execution_count": null,
      "outputs": []
    },
    {
      "cell_type": "code",
      "source": [
        "from sklearn.impute import SimpleImputer\n",
        "from sklearn.model_selection import train_test_split\n",
        "from sklearn.metrics import roc_auc_score\n",
        "from sklearn.ensemble import RandomForestClassifier, StackingClassifier\n",
        "from xgboost import XGBClassifier\n",
        "from lightgbm import LGBMClassifier"
      ],
      "metadata": {
        "id": "_LY7EWkxj0m7"
      },
      "execution_count": null,
      "outputs": []
    },
    {
      "cell_type": "markdown",
      "metadata": {
        "id": "deqaierEkhxZ"
      },
      "source": [
        "### 2. Loading datasets"
      ]
    },
    {
      "cell_type": "code",
      "metadata": {
        "id": "kH1VYulyLNWS",
        "colab": {
          "base_uri": "https://localhost:8080/"
        },
        "outputId": "44e15dcb-7f92-46a4-d1c1-36d4f8cf0ab1"
      },
      "source": [
        "XY_train = pd.read_csv('application_train.csv', index_col=0)\n",
        "\n",
        "# splitting features and response in train dataset\n",
        "Y_train = XY_train[['TARGET']]\n",
        "X_train = XY_train.drop('TARGET', axis=1)\n",
        "\n",
        "X_test = pd.read_csv('application_test.csv', index_col=0)\n",
        "\n",
        "# combining train and test features\n",
        "X_combined0 = pd.concat([X_train, X_test], axis=0)\n",
        "X_combined0.shape"
      ],
      "execution_count": null,
      "outputs": [
        {
          "output_type": "execute_result",
          "data": {
            "text/plain": [
              "(356255, 120)"
            ]
          },
          "metadata": {},
          "execution_count": 3
        }
      ]
    },
    {
      "cell_type": "markdown",
      "source": [
        "### 3. Feature engineering"
      ],
      "metadata": {
        "id": "d1Nz50ltlX24"
      }
    },
    {
      "cell_type": "code",
      "metadata": {
        "colab": {
          "base_uri": "https://localhost:8080/"
        },
        "id": "gPxwX-mN4rai",
        "outputId": "9ea3c268-2be3-4ff6-bdc7-a0042166aa5d"
      },
      "source": [
        "# removing columns with missing values more than 20%\n",
        "X_null = X_combined0.isnull().sum(axis=0)\n",
        "max_na = X_combined0.shape[0] * 0.2\n",
        "\n",
        "cols = [col for col in X_combined0.columns if X_null[col] <= max_na]\n",
        "X_combined1 = X_combined0[cols]\n",
        "X_combined1.shape"
      ],
      "execution_count": null,
      "outputs": [
        {
          "output_type": "execute_result",
          "data": {
            "text/plain": [
              "(356255, 70)"
            ]
          },
          "metadata": {},
          "execution_count": 4
        }
      ]
    },
    {
      "cell_type": "code",
      "source": [
        "X_combined1.info()"
      ],
      "metadata": {
        "colab": {
          "base_uri": "https://localhost:8080/"
        },
        "id": "EkWJ4PBApIlF",
        "outputId": "5a56df63-d76f-4083-83b9-688e7ea912c1"
      },
      "execution_count": null,
      "outputs": [
        {
          "output_type": "stream",
          "name": "stdout",
          "text": [
            "<class 'pandas.core.frame.DataFrame'>\n",
            "Int64Index: 356255 entries, 100002 to 456250\n",
            "Data columns (total 70 columns):\n",
            " #   Column                       Non-Null Count   Dtype  \n",
            "---  ------                       --------------   -----  \n",
            " 0   NAME_CONTRACT_TYPE           356255 non-null  object \n",
            " 1   CODE_GENDER                  356255 non-null  object \n",
            " 2   FLAG_OWN_CAR                 356255 non-null  object \n",
            " 3   FLAG_OWN_REALTY              356255 non-null  object \n",
            " 4   CNT_CHILDREN                 356255 non-null  int64  \n",
            " 5   AMT_INCOME_TOTAL             356255 non-null  float64\n",
            " 6   AMT_CREDIT                   356255 non-null  float64\n",
            " 7   AMT_ANNUITY                  356219 non-null  float64\n",
            " 8   AMT_GOODS_PRICE              355977 non-null  float64\n",
            " 9   NAME_TYPE_SUITE              354052 non-null  object \n",
            " 10  NAME_INCOME_TYPE             356255 non-null  object \n",
            " 11  NAME_EDUCATION_TYPE          356255 non-null  object \n",
            " 12  NAME_FAMILY_STATUS           356255 non-null  object \n",
            " 13  NAME_HOUSING_TYPE            356255 non-null  object \n",
            " 14  REGION_POPULATION_RELATIVE   356255 non-null  float64\n",
            " 15  DAYS_BIRTH                   356255 non-null  int64  \n",
            " 16  DAYS_EMPLOYED                356255 non-null  int64  \n",
            " 17  DAYS_REGISTRATION            356255 non-null  float64\n",
            " 18  DAYS_ID_PUBLISH              356255 non-null  int64  \n",
            " 19  FLAG_MOBIL                   356255 non-null  int64  \n",
            " 20  FLAG_EMP_PHONE               356255 non-null  int64  \n",
            " 21  FLAG_WORK_PHONE              356255 non-null  int64  \n",
            " 22  FLAG_CONT_MOBILE             356255 non-null  int64  \n",
            " 23  FLAG_PHONE                   356255 non-null  int64  \n",
            " 24  FLAG_EMAIL                   356255 non-null  int64  \n",
            " 25  CNT_FAM_MEMBERS              356253 non-null  float64\n",
            " 26  REGION_RATING_CLIENT         356255 non-null  int64  \n",
            " 27  REGION_RATING_CLIENT_W_CITY  356255 non-null  int64  \n",
            " 28  WEEKDAY_APPR_PROCESS_START   356255 non-null  object \n",
            " 29  HOUR_APPR_PROCESS_START      356255 non-null  int64  \n",
            " 30  REG_REGION_NOT_LIVE_REGION   356255 non-null  int64  \n",
            " 31  REG_REGION_NOT_WORK_REGION   356255 non-null  int64  \n",
            " 32  LIVE_REGION_NOT_WORK_REGION  356255 non-null  int64  \n",
            " 33  REG_CITY_NOT_LIVE_CITY       356255 non-null  int64  \n",
            " 34  REG_CITY_NOT_WORK_CITY       356255 non-null  int64  \n",
            " 35  LIVE_CITY_NOT_WORK_CITY      356255 non-null  int64  \n",
            " 36  ORGANIZATION_TYPE            356255 non-null  object \n",
            " 37  EXT_SOURCE_2                 355587 non-null  float64\n",
            " 38  EXT_SOURCE_3                 286622 non-null  float64\n",
            " 39  OBS_30_CNT_SOCIAL_CIRCLE     355205 non-null  float64\n",
            " 40  DEF_30_CNT_SOCIAL_CIRCLE     355205 non-null  float64\n",
            " 41  OBS_60_CNT_SOCIAL_CIRCLE     355205 non-null  float64\n",
            " 42  DEF_60_CNT_SOCIAL_CIRCLE     355205 non-null  float64\n",
            " 43  DAYS_LAST_PHONE_CHANGE       356254 non-null  float64\n",
            " 44  FLAG_DOCUMENT_2              356255 non-null  int64  \n",
            " 45  FLAG_DOCUMENT_3              356255 non-null  int64  \n",
            " 46  FLAG_DOCUMENT_4              356255 non-null  int64  \n",
            " 47  FLAG_DOCUMENT_5              356255 non-null  int64  \n",
            " 48  FLAG_DOCUMENT_6              356255 non-null  int64  \n",
            " 49  FLAG_DOCUMENT_7              356255 non-null  int64  \n",
            " 50  FLAG_DOCUMENT_8              356255 non-null  int64  \n",
            " 51  FLAG_DOCUMENT_9              356255 non-null  int64  \n",
            " 52  FLAG_DOCUMENT_10             356255 non-null  int64  \n",
            " 53  FLAG_DOCUMENT_11             356255 non-null  int64  \n",
            " 54  FLAG_DOCUMENT_12             356255 non-null  int64  \n",
            " 55  FLAG_DOCUMENT_13             356255 non-null  int64  \n",
            " 56  FLAG_DOCUMENT_14             356255 non-null  int64  \n",
            " 57  FLAG_DOCUMENT_15             356255 non-null  int64  \n",
            " 58  FLAG_DOCUMENT_16             356255 non-null  int64  \n",
            " 59  FLAG_DOCUMENT_17             356255 non-null  int64  \n",
            " 60  FLAG_DOCUMENT_18             356255 non-null  int64  \n",
            " 61  FLAG_DOCUMENT_19             356255 non-null  int64  \n",
            " 62  FLAG_DOCUMENT_20             356255 non-null  int64  \n",
            " 63  FLAG_DOCUMENT_21             356255 non-null  int64  \n",
            " 64  AMT_REQ_CREDIT_BUREAU_HOUR   308687 non-null  float64\n",
            " 65  AMT_REQ_CREDIT_BUREAU_DAY    308687 non-null  float64\n",
            " 66  AMT_REQ_CREDIT_BUREAU_WEEK   308687 non-null  float64\n",
            " 67  AMT_REQ_CREDIT_BUREAU_MON    308687 non-null  float64\n",
            " 68  AMT_REQ_CREDIT_BUREAU_QRT    308687 non-null  float64\n",
            " 69  AMT_REQ_CREDIT_BUREAU_YEAR   308687 non-null  float64\n",
            "dtypes: float64(20), int64(39), object(11)\n",
            "memory usage: 193.0+ MB\n"
          ]
        }
      ]
    },
    {
      "cell_type": "code",
      "metadata": {
        "colab": {
          "base_uri": "https://localhost:8080/"
        },
        "id": "hNWM6Dtf5Zwa",
        "outputId": "c2267e63-5153-4cfa-c554-18122bd47d39"
      },
      "source": [
        "# getting no. of cardinal (numeric) columns and categorical columns\n",
        "num_cols = X_combined1.select_dtypes(include=np.number).columns.tolist()\n",
        "cat_cols = X_combined1.select_dtypes(include='object').columns.tolist()\n",
        "        \n",
        "print(f'Cardinal columns = {len(num_cols)}')\n",
        "print(f'Categorical columns = {len(cat_cols)}')"
      ],
      "execution_count": null,
      "outputs": [
        {
          "output_type": "stream",
          "name": "stdout",
          "text": [
            "Cardinal columns = 59\n",
            "Categorical columns = 11\n"
          ]
        }
      ]
    },
    {
      "cell_type": "code",
      "metadata": {
        "colab": {
          "base_uri": "https://localhost:8080/"
        },
        "id": "0rt6gG4t51Y0",
        "outputId": "d3abed9d-dcda-4954-ee5f-04ee29e5d6d3"
      },
      "source": [
        "# imputing cardinal columns\n",
        "num_imputer = SimpleImputer(strategy='mean')\n",
        "X_combined2 = X_combined1.copy()\n",
        "X_combined2[num_cols] = num_imputer.fit_transform(X_combined1[num_cols])\n",
        "\n",
        "# imputing categorical columns\n",
        "for col in cat_cols:\n",
        "    mode = X_combined2[col].mode()[0]\n",
        "    X_combined2[col].fillna(value=mode)\n",
        "\n",
        "X_combined2.info()"
      ],
      "execution_count": null,
      "outputs": [
        {
          "output_type": "stream",
          "name": "stdout",
          "text": [
            "<class 'pandas.core.frame.DataFrame'>\n",
            "Int64Index: 356255 entries, 100002 to 456250\n",
            "Data columns (total 70 columns):\n",
            " #   Column                       Non-Null Count   Dtype  \n",
            "---  ------                       --------------   -----  \n",
            " 0   NAME_CONTRACT_TYPE           356255 non-null  object \n",
            " 1   CODE_GENDER                  356255 non-null  object \n",
            " 2   FLAG_OWN_CAR                 356255 non-null  object \n",
            " 3   FLAG_OWN_REALTY              356255 non-null  object \n",
            " 4   CNT_CHILDREN                 356255 non-null  float64\n",
            " 5   AMT_INCOME_TOTAL             356255 non-null  float64\n",
            " 6   AMT_CREDIT                   356255 non-null  float64\n",
            " 7   AMT_ANNUITY                  356255 non-null  float64\n",
            " 8   AMT_GOODS_PRICE              356255 non-null  float64\n",
            " 9   NAME_TYPE_SUITE              354052 non-null  object \n",
            " 10  NAME_INCOME_TYPE             356255 non-null  object \n",
            " 11  NAME_EDUCATION_TYPE          356255 non-null  object \n",
            " 12  NAME_FAMILY_STATUS           356255 non-null  object \n",
            " 13  NAME_HOUSING_TYPE            356255 non-null  object \n",
            " 14  REGION_POPULATION_RELATIVE   356255 non-null  float64\n",
            " 15  DAYS_BIRTH                   356255 non-null  float64\n",
            " 16  DAYS_EMPLOYED                356255 non-null  float64\n",
            " 17  DAYS_REGISTRATION            356255 non-null  float64\n",
            " 18  DAYS_ID_PUBLISH              356255 non-null  float64\n",
            " 19  FLAG_MOBIL                   356255 non-null  float64\n",
            " 20  FLAG_EMP_PHONE               356255 non-null  float64\n",
            " 21  FLAG_WORK_PHONE              356255 non-null  float64\n",
            " 22  FLAG_CONT_MOBILE             356255 non-null  float64\n",
            " 23  FLAG_PHONE                   356255 non-null  float64\n",
            " 24  FLAG_EMAIL                   356255 non-null  float64\n",
            " 25  CNT_FAM_MEMBERS              356255 non-null  float64\n",
            " 26  REGION_RATING_CLIENT         356255 non-null  float64\n",
            " 27  REGION_RATING_CLIENT_W_CITY  356255 non-null  float64\n",
            " 28  WEEKDAY_APPR_PROCESS_START   356255 non-null  object \n",
            " 29  HOUR_APPR_PROCESS_START      356255 non-null  float64\n",
            " 30  REG_REGION_NOT_LIVE_REGION   356255 non-null  float64\n",
            " 31  REG_REGION_NOT_WORK_REGION   356255 non-null  float64\n",
            " 32  LIVE_REGION_NOT_WORK_REGION  356255 non-null  float64\n",
            " 33  REG_CITY_NOT_LIVE_CITY       356255 non-null  float64\n",
            " 34  REG_CITY_NOT_WORK_CITY       356255 non-null  float64\n",
            " 35  LIVE_CITY_NOT_WORK_CITY      356255 non-null  float64\n",
            " 36  ORGANIZATION_TYPE            356255 non-null  object \n",
            " 37  EXT_SOURCE_2                 356255 non-null  float64\n",
            " 38  EXT_SOURCE_3                 356255 non-null  float64\n",
            " 39  OBS_30_CNT_SOCIAL_CIRCLE     356255 non-null  float64\n",
            " 40  DEF_30_CNT_SOCIAL_CIRCLE     356255 non-null  float64\n",
            " 41  OBS_60_CNT_SOCIAL_CIRCLE     356255 non-null  float64\n",
            " 42  DEF_60_CNT_SOCIAL_CIRCLE     356255 non-null  float64\n",
            " 43  DAYS_LAST_PHONE_CHANGE       356255 non-null  float64\n",
            " 44  FLAG_DOCUMENT_2              356255 non-null  float64\n",
            " 45  FLAG_DOCUMENT_3              356255 non-null  float64\n",
            " 46  FLAG_DOCUMENT_4              356255 non-null  float64\n",
            " 47  FLAG_DOCUMENT_5              356255 non-null  float64\n",
            " 48  FLAG_DOCUMENT_6              356255 non-null  float64\n",
            " 49  FLAG_DOCUMENT_7              356255 non-null  float64\n",
            " 50  FLAG_DOCUMENT_8              356255 non-null  float64\n",
            " 51  FLAG_DOCUMENT_9              356255 non-null  float64\n",
            " 52  FLAG_DOCUMENT_10             356255 non-null  float64\n",
            " 53  FLAG_DOCUMENT_11             356255 non-null  float64\n",
            " 54  FLAG_DOCUMENT_12             356255 non-null  float64\n",
            " 55  FLAG_DOCUMENT_13             356255 non-null  float64\n",
            " 56  FLAG_DOCUMENT_14             356255 non-null  float64\n",
            " 57  FLAG_DOCUMENT_15             356255 non-null  float64\n",
            " 58  FLAG_DOCUMENT_16             356255 non-null  float64\n",
            " 59  FLAG_DOCUMENT_17             356255 non-null  float64\n",
            " 60  FLAG_DOCUMENT_18             356255 non-null  float64\n",
            " 61  FLAG_DOCUMENT_19             356255 non-null  float64\n",
            " 62  FLAG_DOCUMENT_20             356255 non-null  float64\n",
            " 63  FLAG_DOCUMENT_21             356255 non-null  float64\n",
            " 64  AMT_REQ_CREDIT_BUREAU_HOUR   356255 non-null  float64\n",
            " 65  AMT_REQ_CREDIT_BUREAU_DAY    356255 non-null  float64\n",
            " 66  AMT_REQ_CREDIT_BUREAU_WEEK   356255 non-null  float64\n",
            " 67  AMT_REQ_CREDIT_BUREAU_MON    356255 non-null  float64\n",
            " 68  AMT_REQ_CREDIT_BUREAU_QRT    356255 non-null  float64\n",
            " 69  AMT_REQ_CREDIT_BUREAU_YEAR   356255 non-null  float64\n",
            "dtypes: float64(59), object(11)\n",
            "memory usage: 193.0+ MB\n"
          ]
        }
      ]
    },
    {
      "cell_type": "code",
      "metadata": {
        "id": "ooLnleefEYjQ",
        "colab": {
          "base_uri": "https://localhost:8080/"
        },
        "outputId": "094d90f2-3a53-449e-9778-b930c29c9ea2"
      },
      "source": [
        "# imputing 'NAME_TYPE_SUITE'\n",
        "cat_imputer = SimpleImputer(strategy='most_frequent')\n",
        "X_combined2['NAME_TYPE_SUITE'] = cat_imputer.fit_transform(X_combined1[['NAME_TYPE_SUITE']])\n",
        "X_combined2.info()"
      ],
      "execution_count": null,
      "outputs": [
        {
          "output_type": "stream",
          "name": "stdout",
          "text": [
            "<class 'pandas.core.frame.DataFrame'>\n",
            "Int64Index: 356255 entries, 100002 to 456250\n",
            "Data columns (total 70 columns):\n",
            " #   Column                       Non-Null Count   Dtype  \n",
            "---  ------                       --------------   -----  \n",
            " 0   NAME_CONTRACT_TYPE           356255 non-null  object \n",
            " 1   CODE_GENDER                  356255 non-null  object \n",
            " 2   FLAG_OWN_CAR                 356255 non-null  object \n",
            " 3   FLAG_OWN_REALTY              356255 non-null  object \n",
            " 4   CNT_CHILDREN                 356255 non-null  float64\n",
            " 5   AMT_INCOME_TOTAL             356255 non-null  float64\n",
            " 6   AMT_CREDIT                   356255 non-null  float64\n",
            " 7   AMT_ANNUITY                  356255 non-null  float64\n",
            " 8   AMT_GOODS_PRICE              356255 non-null  float64\n",
            " 9   NAME_TYPE_SUITE              356255 non-null  object \n",
            " 10  NAME_INCOME_TYPE             356255 non-null  object \n",
            " 11  NAME_EDUCATION_TYPE          356255 non-null  object \n",
            " 12  NAME_FAMILY_STATUS           356255 non-null  object \n",
            " 13  NAME_HOUSING_TYPE            356255 non-null  object \n",
            " 14  REGION_POPULATION_RELATIVE   356255 non-null  float64\n",
            " 15  DAYS_BIRTH                   356255 non-null  float64\n",
            " 16  DAYS_EMPLOYED                356255 non-null  float64\n",
            " 17  DAYS_REGISTRATION            356255 non-null  float64\n",
            " 18  DAYS_ID_PUBLISH              356255 non-null  float64\n",
            " 19  FLAG_MOBIL                   356255 non-null  float64\n",
            " 20  FLAG_EMP_PHONE               356255 non-null  float64\n",
            " 21  FLAG_WORK_PHONE              356255 non-null  float64\n",
            " 22  FLAG_CONT_MOBILE             356255 non-null  float64\n",
            " 23  FLAG_PHONE                   356255 non-null  float64\n",
            " 24  FLAG_EMAIL                   356255 non-null  float64\n",
            " 25  CNT_FAM_MEMBERS              356255 non-null  float64\n",
            " 26  REGION_RATING_CLIENT         356255 non-null  float64\n",
            " 27  REGION_RATING_CLIENT_W_CITY  356255 non-null  float64\n",
            " 28  WEEKDAY_APPR_PROCESS_START   356255 non-null  object \n",
            " 29  HOUR_APPR_PROCESS_START      356255 non-null  float64\n",
            " 30  REG_REGION_NOT_LIVE_REGION   356255 non-null  float64\n",
            " 31  REG_REGION_NOT_WORK_REGION   356255 non-null  float64\n",
            " 32  LIVE_REGION_NOT_WORK_REGION  356255 non-null  float64\n",
            " 33  REG_CITY_NOT_LIVE_CITY       356255 non-null  float64\n",
            " 34  REG_CITY_NOT_WORK_CITY       356255 non-null  float64\n",
            " 35  LIVE_CITY_NOT_WORK_CITY      356255 non-null  float64\n",
            " 36  ORGANIZATION_TYPE            356255 non-null  object \n",
            " 37  EXT_SOURCE_2                 356255 non-null  float64\n",
            " 38  EXT_SOURCE_3                 356255 non-null  float64\n",
            " 39  OBS_30_CNT_SOCIAL_CIRCLE     356255 non-null  float64\n",
            " 40  DEF_30_CNT_SOCIAL_CIRCLE     356255 non-null  float64\n",
            " 41  OBS_60_CNT_SOCIAL_CIRCLE     356255 non-null  float64\n",
            " 42  DEF_60_CNT_SOCIAL_CIRCLE     356255 non-null  float64\n",
            " 43  DAYS_LAST_PHONE_CHANGE       356255 non-null  float64\n",
            " 44  FLAG_DOCUMENT_2              356255 non-null  float64\n",
            " 45  FLAG_DOCUMENT_3              356255 non-null  float64\n",
            " 46  FLAG_DOCUMENT_4              356255 non-null  float64\n",
            " 47  FLAG_DOCUMENT_5              356255 non-null  float64\n",
            " 48  FLAG_DOCUMENT_6              356255 non-null  float64\n",
            " 49  FLAG_DOCUMENT_7              356255 non-null  float64\n",
            " 50  FLAG_DOCUMENT_8              356255 non-null  float64\n",
            " 51  FLAG_DOCUMENT_9              356255 non-null  float64\n",
            " 52  FLAG_DOCUMENT_10             356255 non-null  float64\n",
            " 53  FLAG_DOCUMENT_11             356255 non-null  float64\n",
            " 54  FLAG_DOCUMENT_12             356255 non-null  float64\n",
            " 55  FLAG_DOCUMENT_13             356255 non-null  float64\n",
            " 56  FLAG_DOCUMENT_14             356255 non-null  float64\n",
            " 57  FLAG_DOCUMENT_15             356255 non-null  float64\n",
            " 58  FLAG_DOCUMENT_16             356255 non-null  float64\n",
            " 59  FLAG_DOCUMENT_17             356255 non-null  float64\n",
            " 60  FLAG_DOCUMENT_18             356255 non-null  float64\n",
            " 61  FLAG_DOCUMENT_19             356255 non-null  float64\n",
            " 62  FLAG_DOCUMENT_20             356255 non-null  float64\n",
            " 63  FLAG_DOCUMENT_21             356255 non-null  float64\n",
            " 64  AMT_REQ_CREDIT_BUREAU_HOUR   356255 non-null  float64\n",
            " 65  AMT_REQ_CREDIT_BUREAU_DAY    356255 non-null  float64\n",
            " 66  AMT_REQ_CREDIT_BUREAU_WEEK   356255 non-null  float64\n",
            " 67  AMT_REQ_CREDIT_BUREAU_MON    356255 non-null  float64\n",
            " 68  AMT_REQ_CREDIT_BUREAU_QRT    356255 non-null  float64\n",
            " 69  AMT_REQ_CREDIT_BUREAU_YEAR   356255 non-null  float64\n",
            "dtypes: float64(59), object(11)\n",
            "memory usage: 193.0+ MB\n"
          ]
        }
      ]
    },
    {
      "cell_type": "code",
      "metadata": {
        "id": "9dTxJt6z8JGA"
      },
      "source": [
        "# creating dummies for categorical columns\n",
        "X_combined3 = pd.get_dummies(X_combined2)"
      ],
      "execution_count": null,
      "outputs": []
    },
    {
      "cell_type": "markdown",
      "metadata": {
        "id": "EDhRi_tUks47"
      },
      "source": [
        "### 4. Performance evaluation"
      ]
    },
    {
      "cell_type": "code",
      "metadata": {
        "id": "fHe-KNRNLNWT"
      },
      "source": [
        "# function for performance evaluation\n",
        "def model_perf(model, X, Y, prefix=''):\n",
        "    Yhat = model.predict_proba(X)[:,1]\n",
        "    auc = roc_auc_score(Y, Yhat)\n",
        "    print(f'{prefix} AUROC score = {auc:.3f}')\n",
        "\n",
        "# function for training and validating model\n",
        "def model_fit_perf(model, X_all, Y_all, prefix=''):\n",
        "    X_trn, X_val, Y_trn, Y_val = train_test_split(X_all, Y_all, test_size=0.2, \n",
        "                                                  random_state=42)\n",
        "    model.fit(X_trn, Y_trn)\n",
        "    print(prefix)\n",
        "    model_perf(model, X_trn, Y_trn, '  Training   ')\n",
        "    model_perf(model, X_val, Y_val, '  Validation ')"
      ],
      "execution_count": null,
      "outputs": []
    },
    {
      "cell_type": "markdown",
      "source": [
        "### 5. Modeling"
      ],
      "metadata": {
        "id": "xT8AZHo14YQk"
      }
    },
    {
      "cell_type": "code",
      "source": [
        "# function to split combined dataset into train and test\n",
        "def split_train_test(X_combined, n):\n",
        "    X_train = X_combined.iloc[:n,:]\n",
        "    X_test = X_combined.iloc[n:,:]\n",
        "    return X_train, X_test"
      ],
      "metadata": {
        "id": "VUFgC0CU4bYW"
      },
      "execution_count": null,
      "outputs": []
    },
    {
      "cell_type": "code",
      "metadata": {
        "id": "3rdpxHCaLNWT"
      },
      "source": [
        "X_train, X_test = split_train_test(X_combined3, X_train.shape[0])"
      ],
      "execution_count": null,
      "outputs": []
    },
    {
      "cell_type": "code",
      "source": [
        "# creating models\n",
        "xgb_c = XGBClassifier()\n",
        "lgbm_c = LGBMClassifier()\n",
        "rf_c = RandomForestClassifier(n_estimators=50)\n",
        "\n",
        "estms = [('xgb_c', xgb_c), ('lgbm_c', lgbm_c), ('rf_c', rf_c)]\n",
        "s_c = StackingClassifier(estimators=estms, final_estimator=LGBMClassifier())"
      ],
      "metadata": {
        "id": "NXrGoJNcsir0"
      },
      "execution_count": null,
      "outputs": []
    },
    {
      "cell_type": "code",
      "source": [
        "# training and validating models\n",
        "models = ['XGBoost', 'LGBM', 'Random Forest', 'Stacking']\n",
        "model_fit_perf(xgb_c, X_train, Y_train, models[0])\n",
        "model_fit_perf(lgbm_c, X_train, Y_train, models[1])\n",
        "model_fit_perf(rf_c, X_train, Y_train, models[2])\n",
        "model_fit_perf(s_c, X_train, Y_train, models[3])"
      ],
      "metadata": {
        "colab": {
          "base_uri": "https://localhost:8080/"
        },
        "id": "sDwUzecTtuy1",
        "outputId": "89bf5b92-ac8c-43b8-8ab5-dc626f29f97f"
      },
      "execution_count": null,
      "outputs": [
        {
          "output_type": "stream",
          "name": "stdout",
          "text": [
            "XGBoost\n",
            "  Training    AUROC score = 0.753\n",
            "  Validation  AUROC score = 0.746\n",
            "LGBM\n",
            "  Training    AUROC score = 0.790\n",
            "  Validation  AUROC score = 0.751\n",
            "Random Forest\n",
            "  Training    AUROC score = 1.000\n",
            "  Validation  AUROC score = 0.701\n",
            "Stacking\n",
            "  Training    AUROC score = 0.878\n",
            "  Validation  AUROC score = 0.748\n"
          ]
        }
      ]
    },
    {
      "cell_type": "markdown",
      "metadata": {
        "id": "3UT6W5Vwk16e"
      },
      "source": [
        "### 6. Prediction"
      ]
    },
    {
      "cell_type": "code",
      "metadata": {
        "tags": [],
        "id": "LTI_D6s0LNWU"
      },
      "source": [
        "# predicting responses for test dataset using lgbm (best Val AUROC score)\n",
        "target_pred = lgbm_c.predict_proba(X_test)\n",
        "\n",
        "sub_df = pd.read_csv('sample_submission.csv', index_col=0)\n",
        "sub_df['TARGET'] = target_pred[:,1]\n",
        "\n",
        "sub_df.to_csv('sub-home-credit.csv')"
      ],
      "execution_count": null,
      "outputs": []
    },
    {
      "cell_type": "markdown",
      "source": [
        "![image.png](data:image/png;base64,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)"
      ],
      "metadata": {
        "id": "dREafafKfSt4"
      }
    },
    {
      "cell_type": "code",
      "source": [
        ""
      ],
      "metadata": {
        "id": "zYuETwr-JSwQ"
      },
      "execution_count": null,
      "outputs": []
    }
  ]
}